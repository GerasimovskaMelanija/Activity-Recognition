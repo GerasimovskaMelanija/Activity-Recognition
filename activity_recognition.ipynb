{
 "cells": [
  {
   "cell_type": "markdown",
   "metadata": {},
   "source": [
    "# Activity Recognition with Machine Learning"
   ]
  },
  {
   "cell_type": "markdown",
   "metadata": {},
   "source": [
    "# Importing Libraries"
   ]
  },
  {
   "cell_type": "code",
   "execution_count": 267,
   "metadata": {},
   "outputs": [],
   "source": [
    "import pandas as pd\n",
    "import numpy as np\n",
    "from matplotlib import pyplot as plt\n",
    "from scipy import signal\n",
    "import seaborn as sns\n",
    "from sklearn.metrics import confusion_matrix\n",
    "from sklearn.metrics import plot_confusion_matrix\n",
    "from sklearn.preprocessing import StandardScaler\n",
    "from sklearn.model_selection import train_test_split\n",
    "from sklearn.metrics import accuracy_score\n",
    "from sklearn.ensemble import RandomForestClassifier\n",
    "from sklearn.preprocessing import LabelEncoder\n",
    "from sklearn.pipeline import Pipeline\n",
    "from sklearn.neighbors import KNeighborsClassifier\n",
    "from sklearn.model_selection import GridSearchCV\n",
    "from sklearn.metrics import classification_report\n",
    "from sklearn.metrics import accuracy_score"
   ]
  },
  {
   "cell_type": "code",
   "execution_count": 268,
   "metadata": {},
   "outputs": [],
   "source": [
    "# Reading data\n",
    "data_walking = pd.read_csv('walking.csv', header = None, delimiter = ';')\n",
    "data_sitting = pd.read_csv('sitting.csv', header = None, delimiter = ';', skiprows = 46)\n",
    "data_lying_down = pd.read_csv('lying-down.csv', header = None, delimiter = ';')\n",
    "data_workout = pd.read_csv('workout.csv', header = None, delimiter = ';')\n",
    "# We have four activities: walking, sitting, lying down and working out."
   ]
  },
  {
   "cell_type": "markdown",
   "metadata": {},
   "source": [
    "## Data Exploration"
   ]
  },
  {
   "cell_type": "markdown",
   "metadata": {},
   "source": [
    "We need the accelerometer data, which is label '0' in column 1."
   ]
  },
  {
   "cell_type": "code",
   "execution_count": 269,
   "metadata": {},
   "outputs": [
    {
     "data": {
      "text/html": [
       "<div>\n",
       "<style scoped>\n",
       "    .dataframe tbody tr th:only-of-type {\n",
       "        vertical-align: middle;\n",
       "    }\n",
       "\n",
       "    .dataframe tbody tr th {\n",
       "        vertical-align: top;\n",
       "    }\n",
       "\n",
       "    .dataframe thead th {\n",
       "        text-align: right;\n",
       "    }\n",
       "</style>\n",
       "<table border=\"1\" class=\"dataframe\">\n",
       "  <thead>\n",
       "    <tr style=\"text-align: right;\">\n",
       "      <th></th>\n",
       "      <th>0</th>\n",
       "      <th>1</th>\n",
       "      <th>2</th>\n",
       "      <th>3</th>\n",
       "      <th>4</th>\n",
       "    </tr>\n",
       "  </thead>\n",
       "  <tbody>\n",
       "    <tr>\n",
       "      <th>0</th>\n",
       "      <td>7</td>\n",
       "      <td>0</td>\n",
       "      <td>-0.450264</td>\n",
       "      <td>3.463198</td>\n",
       "      <td>9.045989</td>\n",
       "    </tr>\n",
       "    <tr>\n",
       "      <th>1</th>\n",
       "      <td>7</td>\n",
       "      <td>13</td>\n",
       "      <td>118.845505</td>\n",
       "      <td>NaN</td>\n",
       "      <td>NaN</td>\n",
       "    </tr>\n",
       "    <tr>\n",
       "      <th>2</th>\n",
       "      <td>60</td>\n",
       "      <td>13</td>\n",
       "      <td>118.845505</td>\n",
       "      <td>NaN</td>\n",
       "      <td>NaN</td>\n",
       "    </tr>\n",
       "    <tr>\n",
       "      <th>3</th>\n",
       "      <td>195</td>\n",
       "      <td>13</td>\n",
       "      <td>101.867580</td>\n",
       "      <td>NaN</td>\n",
       "      <td>NaN</td>\n",
       "    </tr>\n",
       "    <tr>\n",
       "      <th>4</th>\n",
       "      <td>320</td>\n",
       "      <td>13</td>\n",
       "      <td>118.845505</td>\n",
       "      <td>NaN</td>\n",
       "      <td>NaN</td>\n",
       "    </tr>\n",
       "  </tbody>\n",
       "</table>\n",
       "</div>"
      ],
      "text/plain": [
       "     0   1           2         3         4\n",
       "0    7   0   -0.450264  3.463198  9.045989\n",
       "1    7  13  118.845505       NaN       NaN\n",
       "2   60  13  118.845505       NaN       NaN\n",
       "3  195  13  101.867580       NaN       NaN\n",
       "4  320  13  118.845505       NaN       NaN"
      ]
     },
     "execution_count": 269,
     "metadata": {},
     "output_type": "execute_result"
    }
   ],
   "source": [
    "data_walking.head(5)"
   ]
  },
  {
   "cell_type": "code",
   "execution_count": 270,
   "metadata": {},
   "outputs": [
    {
     "data": {
      "text/html": [
       "<div>\n",
       "<style scoped>\n",
       "    .dataframe tbody tr th:only-of-type {\n",
       "        vertical-align: middle;\n",
       "    }\n",
       "\n",
       "    .dataframe tbody tr th {\n",
       "        vertical-align: top;\n",
       "    }\n",
       "\n",
       "    .dataframe thead th {\n",
       "        text-align: right;\n",
       "    }\n",
       "</style>\n",
       "<table border=\"1\" class=\"dataframe\">\n",
       "  <thead>\n",
       "    <tr style=\"text-align: right;\">\n",
       "      <th></th>\n",
       "      <th>1</th>\n",
       "    </tr>\n",
       "  </thead>\n",
       "  <tbody>\n",
       "    <tr>\n",
       "      <th>0</th>\n",
       "      <td>0</td>\n",
       "    </tr>\n",
       "    <tr>\n",
       "      <th>1</th>\n",
       "      <td>13</td>\n",
       "    </tr>\n",
       "    <tr>\n",
       "      <th>2</th>\n",
       "      <td>13</td>\n",
       "    </tr>\n",
       "    <tr>\n",
       "      <th>3</th>\n",
       "      <td>13</td>\n",
       "    </tr>\n",
       "    <tr>\n",
       "      <th>4</th>\n",
       "      <td>13</td>\n",
       "    </tr>\n",
       "    <tr>\n",
       "      <th>...</th>\n",
       "      <td>...</td>\n",
       "    </tr>\n",
       "    <tr>\n",
       "      <th>181656</th>\n",
       "      <td>1</td>\n",
       "    </tr>\n",
       "    <tr>\n",
       "      <th>181657</th>\n",
       "      <td>3</td>\n",
       "    </tr>\n",
       "    <tr>\n",
       "      <th>181658</th>\n",
       "      <td>0</td>\n",
       "    </tr>\n",
       "    <tr>\n",
       "      <th>181659</th>\n",
       "      <td>3</td>\n",
       "    </tr>\n",
       "    <tr>\n",
       "      <th>181660</th>\n",
       "      <td>1</td>\n",
       "    </tr>\n",
       "  </tbody>\n",
       "</table>\n",
       "<p>181661 rows × 1 columns</p>\n",
       "</div>"
      ],
      "text/plain": [
       "         1\n",
       "0        0\n",
       "1       13\n",
       "2       13\n",
       "3       13\n",
       "4       13\n",
       "...     ..\n",
       "181656   1\n",
       "181657   3\n",
       "181658   0\n",
       "181659   3\n",
       "181660   1\n",
       "\n",
       "[181661 rows x 1 columns]"
      ]
     },
     "execution_count": 270,
     "metadata": {},
     "output_type": "execute_result"
    }
   ],
   "source": [
    "data_walking[[1]] # This is column 1"
   ]
  },
  {
   "cell_type": "code",
   "execution_count": 271,
   "metadata": {},
   "outputs": [],
   "source": [
    "walking_accelerometer = data_walking[data_walking[1] == 0] # We will extract only the data with value 0 in column 1"
   ]
  },
  {
   "cell_type": "code",
   "execution_count": 272,
   "metadata": {},
   "outputs": [
    {
     "data": {
      "text/html": [
       "<div>\n",
       "<style scoped>\n",
       "    .dataframe tbody tr th:only-of-type {\n",
       "        vertical-align: middle;\n",
       "    }\n",
       "\n",
       "    .dataframe tbody tr th {\n",
       "        vertical-align: top;\n",
       "    }\n",
       "\n",
       "    .dataframe thead th {\n",
       "        text-align: right;\n",
       "    }\n",
       "</style>\n",
       "<table border=\"1\" class=\"dataframe\">\n",
       "  <thead>\n",
       "    <tr style=\"text-align: right;\">\n",
       "      <th></th>\n",
       "      <th>0</th>\n",
       "      <th>1</th>\n",
       "      <th>2</th>\n",
       "      <th>3</th>\n",
       "      <th>4</th>\n",
       "    </tr>\n",
       "  </thead>\n",
       "  <tbody>\n",
       "    <tr>\n",
       "      <th>0</th>\n",
       "      <td>7</td>\n",
       "      <td>0</td>\n",
       "      <td>-0.450264</td>\n",
       "      <td>3.463198</td>\n",
       "      <td>9.045989</td>\n",
       "    </tr>\n",
       "    <tr>\n",
       "      <th>224</th>\n",
       "      <td>27717</td>\n",
       "      <td>0</td>\n",
       "      <td>-10.442286</td>\n",
       "      <td>-0.179626</td>\n",
       "      <td>1.484912</td>\n",
       "    </tr>\n",
       "    <tr>\n",
       "      <th>225</th>\n",
       "      <td>27731</td>\n",
       "      <td>0</td>\n",
       "      <td>-11.136841</td>\n",
       "      <td>-0.131726</td>\n",
       "      <td>1.609453</td>\n",
       "    </tr>\n",
       "    <tr>\n",
       "      <th>226</th>\n",
       "      <td>27743</td>\n",
       "      <td>0</td>\n",
       "      <td>-11.635005</td>\n",
       "      <td>-0.098196</td>\n",
       "      <td>1.820215</td>\n",
       "    </tr>\n",
       "    <tr>\n",
       "      <th>227</th>\n",
       "      <td>27743</td>\n",
       "      <td>0</td>\n",
       "      <td>-11.754756</td>\n",
       "      <td>-0.174836</td>\n",
       "      <td>2.138753</td>\n",
       "    </tr>\n",
       "    <tr>\n",
       "      <th>...</th>\n",
       "      <td>...</td>\n",
       "      <td>...</td>\n",
       "      <td>...</td>\n",
       "      <td>...</td>\n",
       "      <td>...</td>\n",
       "    </tr>\n",
       "    <tr>\n",
       "      <th>181646</th>\n",
       "      <td>604510</td>\n",
       "      <td>0</td>\n",
       "      <td>-0.098196</td>\n",
       "      <td>3.072810</td>\n",
       "      <td>9.254355</td>\n",
       "    </tr>\n",
       "    <tr>\n",
       "      <th>181649</th>\n",
       "      <td>604510</td>\n",
       "      <td>0</td>\n",
       "      <td>-0.069456</td>\n",
       "      <td>3.226091</td>\n",
       "      <td>9.218430</td>\n",
       "    </tr>\n",
       "    <tr>\n",
       "      <th>181652</th>\n",
       "      <td>604510</td>\n",
       "      <td>0</td>\n",
       "      <td>-0.014370</td>\n",
       "      <td>3.482359</td>\n",
       "      <td>9.192085</td>\n",
       "    </tr>\n",
       "    <tr>\n",
       "      <th>181655</th>\n",
       "      <td>604521</td>\n",
       "      <td>0</td>\n",
       "      <td>-0.026345</td>\n",
       "      <td>3.870352</td>\n",
       "      <td>9.163345</td>\n",
       "    </tr>\n",
       "    <tr>\n",
       "      <th>181658</th>\n",
       "      <td>604533</td>\n",
       "      <td>0</td>\n",
       "      <td>-0.110171</td>\n",
       "      <td>4.418811</td>\n",
       "      <td>9.172925</td>\n",
       "    </tr>\n",
       "  </tbody>\n",
       "</table>\n",
       "<p>58947 rows × 5 columns</p>\n",
       "</div>"
      ],
      "text/plain": [
       "             0  1          2         3         4\n",
       "0            7  0  -0.450264  3.463198  9.045989\n",
       "224      27717  0 -10.442286 -0.179626  1.484912\n",
       "225      27731  0 -11.136841 -0.131726  1.609453\n",
       "226      27743  0 -11.635005 -0.098196  1.820215\n",
       "227      27743  0 -11.754756 -0.174836  2.138753\n",
       "...        ... ..        ...       ...       ...\n",
       "181646  604510  0  -0.098196  3.072810  9.254355\n",
       "181649  604510  0  -0.069456  3.226091  9.218430\n",
       "181652  604510  0  -0.014370  3.482359  9.192085\n",
       "181655  604521  0  -0.026345  3.870352  9.163345\n",
       "181658  604533  0  -0.110171  4.418811  9.172925\n",
       "\n",
       "[58947 rows x 5 columns]"
      ]
     },
     "execution_count": 272,
     "metadata": {},
     "output_type": "execute_result"
    }
   ],
   "source": [
    "walking_accelerometer \n",
    "# The first column is timestamp in milliseconds, the second column is the accelerometer data label, and the next are the values for X, Y and Z-axis"
   ]
  },
  {
   "cell_type": "markdown",
   "metadata": {},
   "source": [
    "We will do the same for the other data."
   ]
  },
  {
   "cell_type": "code",
   "execution_count": 273,
   "metadata": {},
   "outputs": [
    {
     "data": {
      "text/html": [
       "<div>\n",
       "<style scoped>\n",
       "    .dataframe tbody tr th:only-of-type {\n",
       "        vertical-align: middle;\n",
       "    }\n",
       "\n",
       "    .dataframe tbody tr th {\n",
       "        vertical-align: top;\n",
       "    }\n",
       "\n",
       "    .dataframe thead th {\n",
       "        text-align: right;\n",
       "    }\n",
       "</style>\n",
       "<table border=\"1\" class=\"dataframe\">\n",
       "  <thead>\n",
       "    <tr style=\"text-align: right;\">\n",
       "      <th></th>\n",
       "      <th>0</th>\n",
       "      <th>1</th>\n",
       "      <th>2</th>\n",
       "      <th>3</th>\n",
       "      <th>4</th>\n",
       "    </tr>\n",
       "  </thead>\n",
       "  <tbody>\n",
       "    <tr>\n",
       "      <th>0</th>\n",
       "      <td>5735</td>\n",
       "      <td>0</td>\n",
       "      <td>-1.736389</td>\n",
       "      <td>3.333867</td>\n",
       "      <td>9.335787</td>\n",
       "    </tr>\n",
       "    <tr>\n",
       "      <th>1</th>\n",
       "      <td>5745</td>\n",
       "      <td>0</td>\n",
       "      <td>-1.501677</td>\n",
       "      <td>3.199746</td>\n",
       "      <td>9.263936</td>\n",
       "    </tr>\n",
       "    <tr>\n",
       "      <th>2</th>\n",
       "      <td>5750</td>\n",
       "      <td>0</td>\n",
       "      <td>-1.432222</td>\n",
       "      <td>3.091970</td>\n",
       "      <td>9.309442</td>\n",
       "    </tr>\n",
       "    <tr>\n",
       "      <th>3</th>\n",
       "      <td>5752</td>\n",
       "      <td>0</td>\n",
       "      <td>-1.226250</td>\n",
       "      <td>3.350632</td>\n",
       "      <td>9.180110</td>\n",
       "    </tr>\n",
       "    <tr>\n",
       "      <th>4</th>\n",
       "      <td>5763</td>\n",
       "      <td>0</td>\n",
       "      <td>-1.384321</td>\n",
       "      <td>3.503914</td>\n",
       "      <td>9.151370</td>\n",
       "    </tr>\n",
       "    <tr>\n",
       "      <th>...</th>\n",
       "      <td>...</td>\n",
       "      <td>...</td>\n",
       "      <td>...</td>\n",
       "      <td>...</td>\n",
       "      <td>...</td>\n",
       "    </tr>\n",
       "    <tr>\n",
       "      <th>189835</th>\n",
       "      <td>609188</td>\n",
       "      <td>1</td>\n",
       "      <td>-1.401922</td>\n",
       "      <td>0.888821</td>\n",
       "      <td>9.665143</td>\n",
       "    </tr>\n",
       "    <tr>\n",
       "      <th>189836</th>\n",
       "      <td>609198</td>\n",
       "      <td>0</td>\n",
       "      <td>-1.556763</td>\n",
       "      <td>1.441802</td>\n",
       "      <td>9.592053</td>\n",
       "    </tr>\n",
       "    <tr>\n",
       "      <th>189837</th>\n",
       "      <td>609198</td>\n",
       "      <td>1</td>\n",
       "      <td>-1.405348</td>\n",
       "      <td>0.900740</td>\n",
       "      <td>9.663542</td>\n",
       "    </tr>\n",
       "    <tr>\n",
       "      <th>189838</th>\n",
       "      <td>609198</td>\n",
       "      <td>3</td>\n",
       "      <td>0.090408</td>\n",
       "      <td>0.026878</td>\n",
       "      <td>0.007330</td>\n",
       "    </tr>\n",
       "    <tr>\n",
       "      <th>189839</th>\n",
       "      <td>609200</td>\n",
       "      <td>13</td>\n",
       "      <td>0.000000</td>\n",
       "      <td>NaN</td>\n",
       "      <td>NaN</td>\n",
       "    </tr>\n",
       "  </tbody>\n",
       "</table>\n",
       "<p>189840 rows × 5 columns</p>\n",
       "</div>"
      ],
      "text/plain": [
       "             0   1         2         3         4\n",
       "0         5735   0 -1.736389  3.333867  9.335787\n",
       "1         5745   0 -1.501677  3.199746  9.263936\n",
       "2         5750   0 -1.432222  3.091970  9.309442\n",
       "3         5752   0 -1.226250  3.350632  9.180110\n",
       "4         5763   0 -1.384321  3.503914  9.151370\n",
       "...        ...  ..       ...       ...       ...\n",
       "189835  609188   1 -1.401922  0.888821  9.665143\n",
       "189836  609198   0 -1.556763  1.441802  9.592053\n",
       "189837  609198   1 -1.405348  0.900740  9.663542\n",
       "189838  609198   3  0.090408  0.026878  0.007330\n",
       "189839  609200  13  0.000000       NaN       NaN\n",
       "\n",
       "[189840 rows x 5 columns]"
      ]
     },
     "execution_count": 273,
     "metadata": {},
     "output_type": "execute_result"
    }
   ],
   "source": [
    "data_sitting"
   ]
  },
  {
   "cell_type": "code",
   "execution_count": 274,
   "metadata": {},
   "outputs": [
    {
     "data": {
      "text/html": [
       "<div>\n",
       "<style scoped>\n",
       "    .dataframe tbody tr th:only-of-type {\n",
       "        vertical-align: middle;\n",
       "    }\n",
       "\n",
       "    .dataframe tbody tr th {\n",
       "        vertical-align: top;\n",
       "    }\n",
       "\n",
       "    .dataframe thead th {\n",
       "        text-align: right;\n",
       "    }\n",
       "</style>\n",
       "<table border=\"1\" class=\"dataframe\">\n",
       "  <thead>\n",
       "    <tr style=\"text-align: right;\">\n",
       "      <th></th>\n",
       "      <th>0</th>\n",
       "      <th>1</th>\n",
       "      <th>2</th>\n",
       "      <th>3</th>\n",
       "      <th>4</th>\n",
       "    </tr>\n",
       "  </thead>\n",
       "  <tbody>\n",
       "    <tr>\n",
       "      <th>0</th>\n",
       "      <td>5735</td>\n",
       "      <td>0</td>\n",
       "      <td>-1.736389</td>\n",
       "      <td>3.333867</td>\n",
       "      <td>9.335787</td>\n",
       "    </tr>\n",
       "    <tr>\n",
       "      <th>1</th>\n",
       "      <td>5745</td>\n",
       "      <td>0</td>\n",
       "      <td>-1.501677</td>\n",
       "      <td>3.199746</td>\n",
       "      <td>9.263936</td>\n",
       "    </tr>\n",
       "    <tr>\n",
       "      <th>2</th>\n",
       "      <td>5750</td>\n",
       "      <td>0</td>\n",
       "      <td>-1.432222</td>\n",
       "      <td>3.091970</td>\n",
       "      <td>9.309442</td>\n",
       "    </tr>\n",
       "    <tr>\n",
       "      <th>3</th>\n",
       "      <td>5752</td>\n",
       "      <td>0</td>\n",
       "      <td>-1.226250</td>\n",
       "      <td>3.350632</td>\n",
       "      <td>9.180110</td>\n",
       "    </tr>\n",
       "    <tr>\n",
       "      <th>4</th>\n",
       "      <td>5763</td>\n",
       "      <td>0</td>\n",
       "      <td>-1.384321</td>\n",
       "      <td>3.503914</td>\n",
       "      <td>9.151370</td>\n",
       "    </tr>\n",
       "    <tr>\n",
       "      <th>...</th>\n",
       "      <td>...</td>\n",
       "      <td>...</td>\n",
       "      <td>...</td>\n",
       "      <td>...</td>\n",
       "      <td>...</td>\n",
       "    </tr>\n",
       "    <tr>\n",
       "      <th>189824</th>\n",
       "      <td>609158</td>\n",
       "      <td>0</td>\n",
       "      <td>-1.257385</td>\n",
       "      <td>0.658630</td>\n",
       "      <td>9.841136</td>\n",
       "    </tr>\n",
       "    <tr>\n",
       "      <th>189827</th>\n",
       "      <td>609170</td>\n",
       "      <td>0</td>\n",
       "      <td>-1.465752</td>\n",
       "      <td>0.574805</td>\n",
       "      <td>9.982442</td>\n",
       "    </tr>\n",
       "    <tr>\n",
       "      <th>189830</th>\n",
       "      <td>609181</td>\n",
       "      <td>0</td>\n",
       "      <td>-1.563948</td>\n",
       "      <td>0.725691</td>\n",
       "      <td>9.972861</td>\n",
       "    </tr>\n",
       "    <tr>\n",
       "      <th>189833</th>\n",
       "      <td>609188</td>\n",
       "      <td>0</td>\n",
       "      <td>-1.508862</td>\n",
       "      <td>1.063389</td>\n",
       "      <td>9.824370</td>\n",
       "    </tr>\n",
       "    <tr>\n",
       "      <th>189836</th>\n",
       "      <td>609198</td>\n",
       "      <td>0</td>\n",
       "      <td>-1.556763</td>\n",
       "      <td>1.441802</td>\n",
       "      <td>9.592053</td>\n",
       "    </tr>\n",
       "  </tbody>\n",
       "</table>\n",
       "<p>61682 rows × 5 columns</p>\n",
       "</div>"
      ],
      "text/plain": [
       "             0  1         2         3         4\n",
       "0         5735  0 -1.736389  3.333867  9.335787\n",
       "1         5745  0 -1.501677  3.199746  9.263936\n",
       "2         5750  0 -1.432222  3.091970  9.309442\n",
       "3         5752  0 -1.226250  3.350632  9.180110\n",
       "4         5763  0 -1.384321  3.503914  9.151370\n",
       "...        ... ..       ...       ...       ...\n",
       "189824  609158  0 -1.257385  0.658630  9.841136\n",
       "189827  609170  0 -1.465752  0.574805  9.982442\n",
       "189830  609181  0 -1.563948  0.725691  9.972861\n",
       "189833  609188  0 -1.508862  1.063389  9.824370\n",
       "189836  609198  0 -1.556763  1.441802  9.592053\n",
       "\n",
       "[61682 rows x 5 columns]"
      ]
     },
     "execution_count": 274,
     "metadata": {},
     "output_type": "execute_result"
    }
   ],
   "source": [
    "sitting_accelerometer = data_sitting[data_sitting[1] == 0]\n",
    "sitting_accelerometer"
   ]
  },
  {
   "cell_type": "code",
   "execution_count": 275,
   "metadata": {},
   "outputs": [
    {
     "data": {
      "text/html": [
       "<div>\n",
       "<style scoped>\n",
       "    .dataframe tbody tr th:only-of-type {\n",
       "        vertical-align: middle;\n",
       "    }\n",
       "\n",
       "    .dataframe tbody tr th {\n",
       "        vertical-align: top;\n",
       "    }\n",
       "\n",
       "    .dataframe thead th {\n",
       "        text-align: right;\n",
       "    }\n",
       "</style>\n",
       "<table border=\"1\" class=\"dataframe\">\n",
       "  <thead>\n",
       "    <tr style=\"text-align: right;\">\n",
       "      <th></th>\n",
       "      <th>0</th>\n",
       "      <th>1</th>\n",
       "      <th>2</th>\n",
       "      <th>3</th>\n",
       "      <th>4</th>\n",
       "    </tr>\n",
       "  </thead>\n",
       "  <tbody>\n",
       "    <tr>\n",
       "      <th>0</th>\n",
       "      <td>8</td>\n",
       "      <td>0</td>\n",
       "      <td>-1.659749</td>\n",
       "      <td>6.365962</td>\n",
       "      <td>7.616162</td>\n",
       "    </tr>\n",
       "    <tr>\n",
       "      <th>1</th>\n",
       "      <td>8</td>\n",
       "      <td>13</td>\n",
       "      <td>0.000000</td>\n",
       "      <td>NaN</td>\n",
       "      <td>NaN</td>\n",
       "    </tr>\n",
       "    <tr>\n",
       "      <th>2</th>\n",
       "      <td>35</td>\n",
       "      <td>0</td>\n",
       "      <td>-0.677791</td>\n",
       "      <td>6.025869</td>\n",
       "      <td>7.891590</td>\n",
       "    </tr>\n",
       "    <tr>\n",
       "      <th>3</th>\n",
       "      <td>35</td>\n",
       "      <td>0</td>\n",
       "      <td>-0.866997</td>\n",
       "      <td>6.116880</td>\n",
       "      <td>7.903565</td>\n",
       "    </tr>\n",
       "    <tr>\n",
       "      <th>4</th>\n",
       "      <td>41</td>\n",
       "      <td>0</td>\n",
       "      <td>-0.902922</td>\n",
       "      <td>6.112090</td>\n",
       "      <td>7.893985</td>\n",
       "    </tr>\n",
       "  </tbody>\n",
       "</table>\n",
       "</div>"
      ],
      "text/plain": [
       "    0   1         2         3         4\n",
       "0   8   0 -1.659749  6.365962  7.616162\n",
       "1   8  13  0.000000       NaN       NaN\n",
       "2  35   0 -0.677791  6.025869  7.891590\n",
       "3  35   0 -0.866997  6.116880  7.903565\n",
       "4  41   0 -0.902922  6.112090  7.893985"
      ]
     },
     "execution_count": 275,
     "metadata": {},
     "output_type": "execute_result"
    }
   ],
   "source": [
    "data_lying_down.head(5)"
   ]
  },
  {
   "cell_type": "code",
   "execution_count": 276,
   "metadata": {},
   "outputs": [
    {
     "data": {
      "text/html": [
       "<div>\n",
       "<style scoped>\n",
       "    .dataframe tbody tr th:only-of-type {\n",
       "        vertical-align: middle;\n",
       "    }\n",
       "\n",
       "    .dataframe tbody tr th {\n",
       "        vertical-align: top;\n",
       "    }\n",
       "\n",
       "    .dataframe thead th {\n",
       "        text-align: right;\n",
       "    }\n",
       "</style>\n",
       "<table border=\"1\" class=\"dataframe\">\n",
       "  <thead>\n",
       "    <tr style=\"text-align: right;\">\n",
       "      <th></th>\n",
       "      <th>0</th>\n",
       "      <th>1</th>\n",
       "      <th>2</th>\n",
       "      <th>3</th>\n",
       "      <th>4</th>\n",
       "    </tr>\n",
       "  </thead>\n",
       "  <tbody>\n",
       "    <tr>\n",
       "      <th>0</th>\n",
       "      <td>8</td>\n",
       "      <td>0</td>\n",
       "      <td>-1.659749</td>\n",
       "      <td>6.365962</td>\n",
       "      <td>7.616162</td>\n",
       "    </tr>\n",
       "    <tr>\n",
       "      <th>2</th>\n",
       "      <td>35</td>\n",
       "      <td>0</td>\n",
       "      <td>-0.677791</td>\n",
       "      <td>6.025869</td>\n",
       "      <td>7.891590</td>\n",
       "    </tr>\n",
       "    <tr>\n",
       "      <th>3</th>\n",
       "      <td>35</td>\n",
       "      <td>0</td>\n",
       "      <td>-0.866997</td>\n",
       "      <td>6.116880</td>\n",
       "      <td>7.903565</td>\n",
       "    </tr>\n",
       "    <tr>\n",
       "      <th>4</th>\n",
       "      <td>41</td>\n",
       "      <td>0</td>\n",
       "      <td>-0.902922</td>\n",
       "      <td>6.112090</td>\n",
       "      <td>7.893985</td>\n",
       "    </tr>\n",
       "    <tr>\n",
       "      <th>5</th>\n",
       "      <td>51</td>\n",
       "      <td>0</td>\n",
       "      <td>-0.797542</td>\n",
       "      <td>6.057004</td>\n",
       "      <td>7.850874</td>\n",
       "    </tr>\n",
       "    <tr>\n",
       "      <th>...</th>\n",
       "      <td>...</td>\n",
       "      <td>...</td>\n",
       "      <td>...</td>\n",
       "      <td>...</td>\n",
       "      <td>...</td>\n",
       "    </tr>\n",
       "    <tr>\n",
       "      <th>190928</th>\n",
       "      <td>607597</td>\n",
       "      <td>0</td>\n",
       "      <td>-0.886157</td>\n",
       "      <td>8.844808</td>\n",
       "      <td>-3.724256</td>\n",
       "    </tr>\n",
       "    <tr>\n",
       "      <th>190931</th>\n",
       "      <td>607607</td>\n",
       "      <td>0</td>\n",
       "      <td>-0.895737</td>\n",
       "      <td>9.034014</td>\n",
       "      <td>-3.690725</td>\n",
       "    </tr>\n",
       "    <tr>\n",
       "      <th>190934</th>\n",
       "      <td>607620</td>\n",
       "      <td>0</td>\n",
       "      <td>-1.367556</td>\n",
       "      <td>9.563313</td>\n",
       "      <td>-3.590134</td>\n",
       "    </tr>\n",
       "    <tr>\n",
       "      <th>190937</th>\n",
       "      <td>607625</td>\n",
       "      <td>0</td>\n",
       "      <td>-2.627337</td>\n",
       "      <td>9.970467</td>\n",
       "      <td>-3.647615</td>\n",
       "    </tr>\n",
       "    <tr>\n",
       "      <th>190940</th>\n",
       "      <td>607637</td>\n",
       "      <td>0</td>\n",
       "      <td>-3.460803</td>\n",
       "      <td>9.433982</td>\n",
       "      <td>-3.930227</td>\n",
       "    </tr>\n",
       "  </tbody>\n",
       "</table>\n",
       "<p>62037 rows × 5 columns</p>\n",
       "</div>"
      ],
      "text/plain": [
       "             0  1         2         3         4\n",
       "0            8  0 -1.659749  6.365962  7.616162\n",
       "2           35  0 -0.677791  6.025869  7.891590\n",
       "3           35  0 -0.866997  6.116880  7.903565\n",
       "4           41  0 -0.902922  6.112090  7.893985\n",
       "5           51  0 -0.797542  6.057004  7.850874\n",
       "...        ... ..       ...       ...       ...\n",
       "190928  607597  0 -0.886157  8.844808 -3.724256\n",
       "190931  607607  0 -0.895737  9.034014 -3.690725\n",
       "190934  607620  0 -1.367556  9.563313 -3.590134\n",
       "190937  607625  0 -2.627337  9.970467 -3.647615\n",
       "190940  607637  0 -3.460803  9.433982 -3.930227\n",
       "\n",
       "[62037 rows x 5 columns]"
      ]
     },
     "execution_count": 276,
     "metadata": {},
     "output_type": "execute_result"
    }
   ],
   "source": [
    "lying_accelerometer = data_lying_down[data_lying_down[1] == 0]\n",
    "lying_accelerometer"
   ]
  },
  {
   "cell_type": "code",
   "execution_count": 277,
   "metadata": {},
   "outputs": [
    {
     "data": {
      "text/html": [
       "<div>\n",
       "<style scoped>\n",
       "    .dataframe tbody tr th:only-of-type {\n",
       "        vertical-align: middle;\n",
       "    }\n",
       "\n",
       "    .dataframe tbody tr th {\n",
       "        vertical-align: top;\n",
       "    }\n",
       "\n",
       "    .dataframe thead th {\n",
       "        text-align: right;\n",
       "    }\n",
       "</style>\n",
       "<table border=\"1\" class=\"dataframe\">\n",
       "  <thead>\n",
       "    <tr style=\"text-align: right;\">\n",
       "      <th></th>\n",
       "      <th>0</th>\n",
       "      <th>1</th>\n",
       "      <th>2</th>\n",
       "      <th>3</th>\n",
       "      <th>4</th>\n",
       "    </tr>\n",
       "  </thead>\n",
       "  <tbody>\n",
       "    <tr>\n",
       "      <th>0</th>\n",
       "      <td>5</td>\n",
       "      <td>0</td>\n",
       "      <td>-0.067061</td>\n",
       "      <td>8.423284</td>\n",
       "      <td>5.324129</td>\n",
       "    </tr>\n",
       "    <tr>\n",
       "      <th>1</th>\n",
       "      <td>6</td>\n",
       "      <td>13</td>\n",
       "      <td>0.000000</td>\n",
       "      <td>NaN</td>\n",
       "      <td>NaN</td>\n",
       "    </tr>\n",
       "    <tr>\n",
       "      <th>2</th>\n",
       "      <td>53</td>\n",
       "      <td>13</td>\n",
       "      <td>0.000000</td>\n",
       "      <td>NaN</td>\n",
       "      <td>NaN</td>\n",
       "    </tr>\n",
       "    <tr>\n",
       "      <th>3</th>\n",
       "      <td>187</td>\n",
       "      <td>13</td>\n",
       "      <td>0.000000</td>\n",
       "      <td>NaN</td>\n",
       "      <td>NaN</td>\n",
       "    </tr>\n",
       "    <tr>\n",
       "      <th>4</th>\n",
       "      <td>316</td>\n",
       "      <td>13</td>\n",
       "      <td>0.000000</td>\n",
       "      <td>NaN</td>\n",
       "      <td>NaN</td>\n",
       "    </tr>\n",
       "  </tbody>\n",
       "</table>\n",
       "</div>"
      ],
      "text/plain": [
       "     0   1         2         3         4\n",
       "0    5   0 -0.067061  8.423284  5.324129\n",
       "1    6  13  0.000000       NaN       NaN\n",
       "2   53  13  0.000000       NaN       NaN\n",
       "3  187  13  0.000000       NaN       NaN\n",
       "4  316  13  0.000000       NaN       NaN"
      ]
     },
     "execution_count": 277,
     "metadata": {},
     "output_type": "execute_result"
    }
   ],
   "source": [
    "data_workout.head(5)"
   ]
  },
  {
   "cell_type": "code",
   "execution_count": 278,
   "metadata": {},
   "outputs": [
    {
     "data": {
      "text/html": [
       "<div>\n",
       "<style scoped>\n",
       "    .dataframe tbody tr th:only-of-type {\n",
       "        vertical-align: middle;\n",
       "    }\n",
       "\n",
       "    .dataframe tbody tr th {\n",
       "        vertical-align: top;\n",
       "    }\n",
       "\n",
       "    .dataframe thead th {\n",
       "        text-align: right;\n",
       "    }\n",
       "</style>\n",
       "<table border=\"1\" class=\"dataframe\">\n",
       "  <thead>\n",
       "    <tr style=\"text-align: right;\">\n",
       "      <th></th>\n",
       "      <th>0</th>\n",
       "      <th>1</th>\n",
       "      <th>2</th>\n",
       "      <th>3</th>\n",
       "      <th>4</th>\n",
       "    </tr>\n",
       "  </thead>\n",
       "  <tbody>\n",
       "    <tr>\n",
       "      <th>0</th>\n",
       "      <td>5</td>\n",
       "      <td>0</td>\n",
       "      <td>-0.067061</td>\n",
       "      <td>8.423284</td>\n",
       "      <td>5.324129</td>\n",
       "    </tr>\n",
       "    <tr>\n",
       "      <th>43</th>\n",
       "      <td>5157</td>\n",
       "      <td>0</td>\n",
       "      <td>2.854863</td>\n",
       "      <td>-1.980681</td>\n",
       "      <td>3.978128</td>\n",
       "    </tr>\n",
       "    <tr>\n",
       "      <th>44</th>\n",
       "      <td>5164</td>\n",
       "      <td>0</td>\n",
       "      <td>3.262017</td>\n",
       "      <td>-2.450105</td>\n",
       "      <td>3.554209</td>\n",
       "    </tr>\n",
       "    <tr>\n",
       "      <th>45</th>\n",
       "      <td>5169</td>\n",
       "      <td>0</td>\n",
       "      <td>3.415298</td>\n",
       "      <td>-2.543511</td>\n",
       "      <td>3.755391</td>\n",
       "    </tr>\n",
       "    <tr>\n",
       "      <th>46</th>\n",
       "      <td>5180</td>\n",
       "      <td>0</td>\n",
       "      <td>3.156636</td>\n",
       "      <td>-2.304009</td>\n",
       "      <td>4.069139</td>\n",
       "    </tr>\n",
       "    <tr>\n",
       "      <th>...</th>\n",
       "      <td>...</td>\n",
       "      <td>...</td>\n",
       "      <td>...</td>\n",
       "      <td>...</td>\n",
       "      <td>...</td>\n",
       "    </tr>\n",
       "    <tr>\n",
       "      <th>189232</th>\n",
       "      <td>606600</td>\n",
       "      <td>0</td>\n",
       "      <td>0.067061</td>\n",
       "      <td>4.734954</td>\n",
       "      <td>8.176597</td>\n",
       "    </tr>\n",
       "    <tr>\n",
       "      <th>189235</th>\n",
       "      <td>606610</td>\n",
       "      <td>0</td>\n",
       "      <td>0.747246</td>\n",
       "      <td>4.770879</td>\n",
       "      <td>8.095166</td>\n",
       "    </tr>\n",
       "    <tr>\n",
       "      <th>189238</th>\n",
       "      <td>606623</td>\n",
       "      <td>0</td>\n",
       "      <td>0.584385</td>\n",
       "      <td>4.509822</td>\n",
       "      <td>8.382568</td>\n",
       "    </tr>\n",
       "    <tr>\n",
       "      <th>189241</th>\n",
       "      <td>606632</td>\n",
       "      <td>0</td>\n",
       "      <td>0.512534</td>\n",
       "      <td>4.129014</td>\n",
       "      <td>8.669971</td>\n",
       "    </tr>\n",
       "    <tr>\n",
       "      <th>189244</th>\n",
       "      <td>606642</td>\n",
       "      <td>0</td>\n",
       "      <td>0.373623</td>\n",
       "      <td>4.229605</td>\n",
       "      <td>8.998089</td>\n",
       "    </tr>\n",
       "  </tbody>\n",
       "</table>\n",
       "<p>61475 rows × 5 columns</p>\n",
       "</div>"
      ],
      "text/plain": [
       "             0  1         2         3         4\n",
       "0            5  0 -0.067061  8.423284  5.324129\n",
       "43        5157  0  2.854863 -1.980681  3.978128\n",
       "44        5164  0  3.262017 -2.450105  3.554209\n",
       "45        5169  0  3.415298 -2.543511  3.755391\n",
       "46        5180  0  3.156636 -2.304009  4.069139\n",
       "...        ... ..       ...       ...       ...\n",
       "189232  606600  0  0.067061  4.734954  8.176597\n",
       "189235  606610  0  0.747246  4.770879  8.095166\n",
       "189238  606623  0  0.584385  4.509822  8.382568\n",
       "189241  606632  0  0.512534  4.129014  8.669971\n",
       "189244  606642  0  0.373623  4.229605  8.998089\n",
       "\n",
       "[61475 rows x 5 columns]"
      ]
     },
     "execution_count": 278,
     "metadata": {},
     "output_type": "execute_result"
    }
   ],
   "source": [
    "workout_accelerometer = data_workout[data_workout[1] == 0]\n",
    "workout_accelerometer"
   ]
  },
  {
   "cell_type": "markdown",
   "metadata": {},
   "source": [
    "So, in the next section, we will be working with: walking_accelerometer, sitting_accelerometer, lying_accelerometer and workout_accelerometer.<br/>\n",
    "The duration of the data is 10 minutes. <br/>\n",
    "We have 58947 data samples for walking_accelerometer, 61682 samples for sitting_accelerometer, 62037 samples for lying_accelerometer and 61475 samples for workout_accelerometer. So, we are getting 100 samples in one second.<br/>\n",
    "We will take 60 000 samples for the other measurements, and 58 000 for sitting.<br/>\n"
   ]
  },
  {
   "cell_type": "code",
   "execution_count": 279,
   "metadata": {},
   "outputs": [],
   "source": [
    "walking_accelerometer = walking_accelerometer.iloc[1:58001] # We do not need the first row, since it is not part of one whole series\n",
    "sitting_accelerometer = sitting_accelerometer.iloc[:60000]\n",
    "lying_accelerometer = lying_accelerometer.iloc[:60000]\n",
    "workout_accelerometer = workout_accelerometer.iloc[1:60001]"
   ]
  },
  {
   "cell_type": "code",
   "execution_count": 280,
   "metadata": {},
   "outputs": [],
   "source": [
    "walking_accelerometer = walking_accelerometer.rename(columns = {2:'x', 3:'y', 4:'z'}).drop(labels = 1, axis = 1)\n",
    "sitting_accelerometer = sitting_accelerometer.rename(columns = {2:'x', 3:'y', 4:'z'}).drop(labels = 1, axis = 1)\n",
    "lying_accelerometer = lying_accelerometer.rename(columns = {2:'x', 3:'y', 4:'z'}).drop(labels = 1, axis = 1)\n",
    "workout_accelerometer = workout_accelerometer.rename(columns = {2:'x', 3:'y', 4:'z'}).drop(labels = 1, axis = 1)"
   ]
  },
  {
   "cell_type": "markdown",
   "metadata": {},
   "source": [
    "Let's plot the distribution of the data in order to find out more about it."
   ]
  },
  {
   "cell_type": "code",
   "execution_count": 281,
   "metadata": {},
   "outputs": [
    {
     "data": {
      "text/plain": [
       "[<matplotlib.lines.Line2D at 0x1de47d935e0>]"
      ]
     },
     "execution_count": 281,
     "metadata": {},
     "output_type": "execute_result"
    },
    {
     "data": {
      "image/png": "[encoded data removed]",
      "text/plain": [
       "<Figure size 432x288 with 1 Axes>"
      ]
     },
     "metadata": {
      "needs_background": "light"
     },
     "output_type": "display_data"
    },
    {
     "data": {
      "image/png": "[encoded data removed]",
      "text/plain": [
       "<Figure size 432x288 with 1 Axes>"
      ]
     },
     "metadata": {
      "needs_background": "light"
     },
     "output_type": "display_data"
    },
    {
     "data": {
      "image/png": "[encoded data removed]",
      "text/plain": [
       "<Figure size 432x288 with 1 Axes>"
      ]
     },
     "metadata": {
      "needs_background": "light"
     },
     "output_type": "display_data"
    }
   ],
   "source": [
    "# Walking accelerometer\n",
    "lista = [x for x in range (0,walking_accelerometer.shape[0])]\n",
    "plt.figure()\n",
    "plt.plot(lista, walking_accelerometer[['x']])\n",
    "plt.figure()\n",
    "plt.plot(lista, walking_accelerometer[['y']])\n",
    "plt.figure()\n",
    "plt.plot(lista, walking_accelerometer[['z']])"
   ]
  },
  {
   "cell_type": "markdown",
   "metadata": {},
   "source": [
    "We can see that there is one part of the signal that is not looking good. This could be some error during data collection or just the movement of the hand of the person while walking was changed."
   ]
  },
  {
   "cell_type": "code",
   "execution_count": 282,
   "metadata": {},
   "outputs": [
    {
     "data": {
      "text/plain": [
       "[<matplotlib.lines.Line2D at 0x1de47e9f8b0>]"
      ]
     },
     "execution_count": 282,
     "metadata": {},
     "output_type": "execute_result"
    },
    {
     "data": {
      "image/png": "[encoded data removed]",
      "text/plain": [
       "<Figure size 432x288 with 1 Axes>"
      ]
     },
     "metadata": {
      "needs_background": "light"
     },
     "output_type": "display_data"
    },
    {
     "data": {
      "image/png": "[encoded data removed]",
      "text/plain": [
       "<Figure size 432x288 with 1 Axes>"
      ]
     },
     "metadata": {
      "needs_background": "light"
     },
     "output_type": "display_data"
    },
    {
     "data": {
      "image/png": "[encoded data removed]",
      "text/plain": [
       "<Figure size 432x288 with 1 Axes>"
      ]
     },
     "metadata": {
      "needs_background": "light"
     },
     "output_type": "display_data"
    }
   ],
   "source": [
    "# Sitting accelerometer\n",
    "plt.figure()\n",
    "plt.plot(sitting_accelerometer[['x']])\n",
    "plt.figure()\n",
    "plt.plot(sitting_accelerometer[['y']])\n",
    "plt.figure()\n",
    "plt.plot(sitting_accelerometer[['z']])"
   ]
  },
  {
   "cell_type": "code",
   "execution_count": 283,
   "metadata": {},
   "outputs": [
    {
     "data": {
      "text/plain": [
       "[<matplotlib.lines.Line2D at 0x1de47749c70>]"
      ]
     },
     "execution_count": 283,
     "metadata": {},
     "output_type": "execute_result"
    },
    {
     "data": {
      "image/png": "[encoded data removed]",
      "text/plain": [
       "<Figure size 432x288 with 1 Axes>"
      ]
     },
     "metadata": {
      "needs_background": "light"
     },
     "output_type": "display_data"
    },
    {
     "data": {
      "image/png": "[encoded data removed]",
      "text/plain": [
       "<Figure size 432x288 with 1 Axes>"
      ]
     },
     "metadata": {
      "needs_background": "light"
     },
     "output_type": "display_data"
    },
    {
     "data": {
      "image/png": "[encoded data removed]",
      "text/plain": [
       "<Figure size 432x288 with 1 Axes>"
      ]
     },
     "metadata": {
      "needs_background": "light"
     },
     "output_type": "display_data"
    }
   ],
   "source": [
    "# Lying accelerometer\n",
    "plt.figure()\n",
    "plt.plot(lying_accelerometer[['x']])\n",
    "plt.figure()\n",
    "plt.plot(lying_accelerometer[['y']])\n",
    "plt.figure()\n",
    "plt.plot(lying_accelerometer[['z']])"
   ]
  },
  {
   "cell_type": "code",
   "execution_count": 284,
   "metadata": {},
   "outputs": [
    {
     "data": {
      "text/plain": [
       "[<matplotlib.lines.Line2D at 0x1de4a2be160>]"
      ]
     },
     "execution_count": 284,
     "metadata": {},
     "output_type": "execute_result"
    },
    {
     "data": {
      "image/png": "[encoded data removed]",
      "text/plain": [
       "<Figure size 432x288 with 1 Axes>"
      ]
     },
     "metadata": {
      "needs_background": "light"
     },
     "output_type": "display_data"
    },
    {
     "data": {
      "image/png": "[encoded data removed]",
      "text/plain": [
       "<Figure size 432x288 with 1 Axes>"
      ]
     },
     "metadata": {
      "needs_background": "light"
     },
     "output_type": "display_data"
    },
    {
     "data": {
      "image/png": "[encoded data removed]",
      "text/plain": [
       "<Figure size 432x288 with 1 Axes>"
      ]
     },
     "metadata": {
      "needs_background": "light"
     },
     "output_type": "display_data"
    }
   ],
   "source": [
    "# Workout accelerometer\n",
    "plt.figure()\n",
    "plt.plot(workout_accelerometer[['x']])\n",
    "plt.figure()\n",
    "plt.plot(workout_accelerometer[['y']])\n",
    "plt.figure()\n",
    "plt.plot(workout_accelerometer[['z']])"
   ]
  },
  {
   "cell_type": "markdown",
   "metadata": {},
   "source": [
    "### Basic statistics"
   ]
  },
  {
   "cell_type": "code",
   "execution_count": 285,
   "metadata": {},
   "outputs": [
    {
     "data": {
      "text/html": [
       "<div>\n",
       "<style scoped>\n",
       "    .dataframe tbody tr th:only-of-type {\n",
       "        vertical-align: middle;\n",
       "    }\n",
       "\n",
       "    .dataframe tbody tr th {\n",
       "        vertical-align: top;\n",
       "    }\n",
       "\n",
       "    .dataframe thead th {\n",
       "        text-align: right;\n",
       "    }\n",
       "</style>\n",
       "<table border=\"1\" class=\"dataframe\">\n",
       "  <thead>\n",
       "    <tr style=\"text-align: right;\">\n",
       "      <th></th>\n",
       "      <th>0</th>\n",
       "      <th>x</th>\n",
       "      <th>y</th>\n",
       "      <th>z</th>\n",
       "    </tr>\n",
       "  </thead>\n",
       "  <tbody>\n",
       "    <tr>\n",
       "      <th>count</th>\n",
       "      <td>58000.000000</td>\n",
       "      <td>58000.000000</td>\n",
       "      <td>58000.000000</td>\n",
       "      <td>58000.000000</td>\n",
       "    </tr>\n",
       "    <tr>\n",
       "      <th>mean</th>\n",
       "      <td>311499.729086</td>\n",
       "      <td>-9.246456</td>\n",
       "      <td>-2.157680</td>\n",
       "      <td>2.427165</td>\n",
       "    </tr>\n",
       "    <tr>\n",
       "      <th>std</th>\n",
       "      <td>163849.283929</td>\n",
       "      <td>2.964223</td>\n",
       "      <td>1.883060</td>\n",
       "      <td>2.171392</td>\n",
       "    </tr>\n",
       "    <tr>\n",
       "      <th>min</th>\n",
       "      <td>27717.000000</td>\n",
       "      <td>-23.569387</td>\n",
       "      <td>-15.821500</td>\n",
       "      <td>-6.782696</td>\n",
       "    </tr>\n",
       "    <tr>\n",
       "      <th>25%</th>\n",
       "      <td>169601.500000</td>\n",
       "      <td>-10.899735</td>\n",
       "      <td>-2.914739</td>\n",
       "      <td>1.125659</td>\n",
       "    </tr>\n",
       "    <tr>\n",
       "      <th>50%</th>\n",
       "      <td>311500.500000</td>\n",
       "      <td>-9.366921</td>\n",
       "      <td>-2.148333</td>\n",
       "      <td>2.184258</td>\n",
       "    </tr>\n",
       "    <tr>\n",
       "      <th>75%</th>\n",
       "      <td>453389.500000</td>\n",
       "      <td>-8.152647</td>\n",
       "      <td>-1.429827</td>\n",
       "      <td>3.276387</td>\n",
       "    </tr>\n",
       "    <tr>\n",
       "      <th>max</th>\n",
       "      <td>595295.000000</td>\n",
       "      <td>4.205655</td>\n",
       "      <td>10.756033</td>\n",
       "      <td>13.340260</td>\n",
       "    </tr>\n",
       "  </tbody>\n",
       "</table>\n",
       "</div>"
      ],
      "text/plain": [
       "                   0             x             y             z\n",
       "count   58000.000000  58000.000000  58000.000000  58000.000000\n",
       "mean   311499.729086     -9.246456     -2.157680      2.427165\n",
       "std    163849.283929      2.964223      1.883060      2.171392\n",
       "min     27717.000000    -23.569387    -15.821500     -6.782696\n",
       "25%    169601.500000    -10.899735     -2.914739      1.125659\n",
       "50%    311500.500000     -9.366921     -2.148333      2.184258\n",
       "75%    453389.500000     -8.152647     -1.429827      3.276387\n",
       "max    595295.000000      4.205655     10.756033     13.340260"
      ]
     },
     "execution_count": 285,
     "metadata": {},
     "output_type": "execute_result"
    }
   ],
   "source": [
    "walking_accelerometer.describe()"
   ]
  },
  {
   "cell_type": "code",
   "execution_count": 286,
   "metadata": {},
   "outputs": [
    {
     "data": {
      "text/html": [
       "<div>\n",
       "<style scoped>\n",
       "    .dataframe tbody tr th:only-of-type {\n",
       "        vertical-align: middle;\n",
       "    }\n",
       "\n",
       "    .dataframe tbody tr th {\n",
       "        vertical-align: top;\n",
       "    }\n",
       "\n",
       "    .dataframe thead th {\n",
       "        text-align: right;\n",
       "    }\n",
       "</style>\n",
       "<table border=\"1\" class=\"dataframe\">\n",
       "  <thead>\n",
       "    <tr style=\"text-align: right;\">\n",
       "      <th></th>\n",
       "      <th>0</th>\n",
       "      <th>x</th>\n",
       "      <th>y</th>\n",
       "      <th>z</th>\n",
       "    </tr>\n",
       "  </thead>\n",
       "  <tbody>\n",
       "    <tr>\n",
       "      <th>count</th>\n",
       "      <td>60000.000000</td>\n",
       "      <td>60000.000000</td>\n",
       "      <td>60000.000000</td>\n",
       "      <td>60000.000000</td>\n",
       "    </tr>\n",
       "    <tr>\n",
       "      <th>mean</th>\n",
       "      <td>299239.263033</td>\n",
       "      <td>-0.776214</td>\n",
       "      <td>-1.812748</td>\n",
       "      <td>9.136854</td>\n",
       "    </tr>\n",
       "    <tr>\n",
       "      <th>std</th>\n",
       "      <td>169462.588246</td>\n",
       "      <td>1.936057</td>\n",
       "      <td>2.372588</td>\n",
       "      <td>1.182653</td>\n",
       "    </tr>\n",
       "    <tr>\n",
       "      <th>min</th>\n",
       "      <td>5735.000000</td>\n",
       "      <td>-7.735913</td>\n",
       "      <td>-12.949871</td>\n",
       "      <td>-5.367239</td>\n",
       "    </tr>\n",
       "    <tr>\n",
       "      <th>25%</th>\n",
       "      <td>152493.500000</td>\n",
       "      <td>-2.074087</td>\n",
       "      <td>-3.257227</td>\n",
       "      <td>8.926238</td>\n",
       "    </tr>\n",
       "    <tr>\n",
       "      <th>50%</th>\n",
       "      <td>299233.000000</td>\n",
       "      <td>-0.838257</td>\n",
       "      <td>-1.978286</td>\n",
       "      <td>9.467513</td>\n",
       "    </tr>\n",
       "    <tr>\n",
       "      <th>75%</th>\n",
       "      <td>445985.500000</td>\n",
       "      <td>0.081431</td>\n",
       "      <td>-0.653840</td>\n",
       "      <td>9.644744</td>\n",
       "    </tr>\n",
       "    <tr>\n",
       "      <th>max</th>\n",
       "      <td>592753.000000</td>\n",
       "      <td>8.044871</td>\n",
       "      <td>10.425521</td>\n",
       "      <td>16.700472</td>\n",
       "    </tr>\n",
       "  </tbody>\n",
       "</table>\n",
       "</div>"
      ],
      "text/plain": [
       "                   0             x             y             z\n",
       "count   60000.000000  60000.000000  60000.000000  60000.000000\n",
       "mean   299239.263033     -0.776214     -1.812748      9.136854\n",
       "std    169462.588246      1.936057      2.372588      1.182653\n",
       "min      5735.000000     -7.735913    -12.949871     -5.367239\n",
       "25%    152493.500000     -2.074087     -3.257227      8.926238\n",
       "50%    299233.000000     -0.838257     -1.978286      9.467513\n",
       "75%    445985.500000      0.081431     -0.653840      9.644744\n",
       "max    592753.000000      8.044871     10.425521     16.700472"
      ]
     },
     "execution_count": 286,
     "metadata": {},
     "output_type": "execute_result"
    }
   ],
   "source": [
    "sitting_accelerometer.describe()"
   ]
  },
  {
   "cell_type": "code",
   "execution_count": 287,
   "metadata": {},
   "outputs": [
    {
     "data": {
      "text/html": [
       "<div>\n",
       "<style scoped>\n",
       "    .dataframe tbody tr th:only-of-type {\n",
       "        vertical-align: middle;\n",
       "    }\n",
       "\n",
       "    .dataframe tbody tr th {\n",
       "        vertical-align: top;\n",
       "    }\n",
       "\n",
       "    .dataframe thead th {\n",
       "        text-align: right;\n",
       "    }\n",
       "</style>\n",
       "<table border=\"1\" class=\"dataframe\">\n",
       "  <thead>\n",
       "    <tr style=\"text-align: right;\">\n",
       "      <th></th>\n",
       "      <th>0</th>\n",
       "      <th>x</th>\n",
       "      <th>y</th>\n",
       "      <th>z</th>\n",
       "    </tr>\n",
       "  </thead>\n",
       "  <tbody>\n",
       "    <tr>\n",
       "      <th>count</th>\n",
       "      <td>60000.000000</td>\n",
       "      <td>60000.000000</td>\n",
       "      <td>60000.000000</td>\n",
       "      <td>60000.000000</td>\n",
       "    </tr>\n",
       "    <tr>\n",
       "      <th>mean</th>\n",
       "      <td>293665.383967</td>\n",
       "      <td>0.260814</td>\n",
       "      <td>-0.092606</td>\n",
       "      <td>6.740317</td>\n",
       "    </tr>\n",
       "    <tr>\n",
       "      <th>std</th>\n",
       "      <td>169663.729092</td>\n",
       "      <td>2.473293</td>\n",
       "      <td>4.533946</td>\n",
       "      <td>5.101082</td>\n",
       "    </tr>\n",
       "    <tr>\n",
       "      <th>min</th>\n",
       "      <td>8.000000</td>\n",
       "      <td>-10.657837</td>\n",
       "      <td>-18.769770</td>\n",
       "      <td>-16.621437</td>\n",
       "    </tr>\n",
       "    <tr>\n",
       "      <th>25%</th>\n",
       "      <td>146782.750000</td>\n",
       "      <td>-0.938848</td>\n",
       "      <td>-2.177073</td>\n",
       "      <td>7.319180</td>\n",
       "    </tr>\n",
       "    <tr>\n",
       "      <th>50%</th>\n",
       "      <td>293500.500000</td>\n",
       "      <td>0.579595</td>\n",
       "      <td>-0.241897</td>\n",
       "      <td>8.569380</td>\n",
       "    </tr>\n",
       "    <tr>\n",
       "      <th>75%</th>\n",
       "      <td>440251.000000</td>\n",
       "      <td>1.818419</td>\n",
       "      <td>4.127218</td>\n",
       "      <td>9.299861</td>\n",
       "    </tr>\n",
       "    <tr>\n",
       "      <th>max</th>\n",
       "      <td>587715.000000</td>\n",
       "      <td>12.109220</td>\n",
       "      <td>14.396463</td>\n",
       "      <td>23.008953</td>\n",
       "    </tr>\n",
       "  </tbody>\n",
       "</table>\n",
       "</div>"
      ],
      "text/plain": [
       "                   0             x             y             z\n",
       "count   60000.000000  60000.000000  60000.000000  60000.000000\n",
       "mean   293665.383967      0.260814     -0.092606      6.740317\n",
       "std    169663.729092      2.473293      4.533946      5.101082\n",
       "min         8.000000    -10.657837    -18.769770    -16.621437\n",
       "25%    146782.750000     -0.938848     -2.177073      7.319180\n",
       "50%    293500.500000      0.579595     -0.241897      8.569380\n",
       "75%    440251.000000      1.818419      4.127218      9.299861\n",
       "max    587715.000000     12.109220     14.396463     23.008953"
      ]
     },
     "execution_count": 287,
     "metadata": {},
     "output_type": "execute_result"
    }
   ],
   "source": [
    "lying_accelerometer.describe()"
   ]
  },
  {
   "cell_type": "code",
   "execution_count": 288,
   "metadata": {},
   "outputs": [
    {
     "data": {
      "text/html": [
       "<div>\n",
       "<style scoped>\n",
       "    .dataframe tbody tr th:only-of-type {\n",
       "        vertical-align: middle;\n",
       "    }\n",
       "\n",
       "    .dataframe tbody tr th {\n",
       "        vertical-align: top;\n",
       "    }\n",
       "\n",
       "    .dataframe thead th {\n",
       "        text-align: right;\n",
       "    }\n",
       "</style>\n",
       "<table border=\"1\" class=\"dataframe\">\n",
       "  <thead>\n",
       "    <tr style=\"text-align: right;\">\n",
       "      <th></th>\n",
       "      <th>0</th>\n",
       "      <th>x</th>\n",
       "      <th>y</th>\n",
       "      <th>z</th>\n",
       "    </tr>\n",
       "  </thead>\n",
       "  <tbody>\n",
       "    <tr>\n",
       "      <th>count</th>\n",
       "      <td>60000.000000</td>\n",
       "      <td>60000.000000</td>\n",
       "      <td>60000.000000</td>\n",
       "      <td>60000.000000</td>\n",
       "    </tr>\n",
       "    <tr>\n",
       "      <th>mean</th>\n",
       "      <td>298709.578733</td>\n",
       "      <td>-0.585512</td>\n",
       "      <td>-9.469357</td>\n",
       "      <td>-0.502783</td>\n",
       "    </tr>\n",
       "    <tr>\n",
       "      <th>std</th>\n",
       "      <td>169480.515457</td>\n",
       "      <td>8.236244</td>\n",
       "      <td>12.435157</td>\n",
       "      <td>7.568735</td>\n",
       "    </tr>\n",
       "    <tr>\n",
       "      <th>min</th>\n",
       "      <td>5157.000000</td>\n",
       "      <td>-61.789112</td>\n",
       "      <td>-75.811950</td>\n",
       "      <td>-41.824226</td>\n",
       "    </tr>\n",
       "    <tr>\n",
       "      <th>25%</th>\n",
       "      <td>152134.000000</td>\n",
       "      <td>-5.637876</td>\n",
       "      <td>-16.243622</td>\n",
       "      <td>-4.524192</td>\n",
       "    </tr>\n",
       "    <tr>\n",
       "      <th>50%</th>\n",
       "      <td>298811.000000</td>\n",
       "      <td>-0.658630</td>\n",
       "      <td>-6.777905</td>\n",
       "      <td>-0.744851</td>\n",
       "    </tr>\n",
       "    <tr>\n",
       "      <th>75%</th>\n",
       "      <td>445472.500000</td>\n",
       "      <td>5.110972</td>\n",
       "      <td>-0.658032</td>\n",
       "      <td>3.370391</td>\n",
       "    </tr>\n",
       "    <tr>\n",
       "      <th>max</th>\n",
       "      <td>592226.000000</td>\n",
       "      <td>38.073627</td>\n",
       "      <td>41.021896</td>\n",
       "      <td>41.793090</td>\n",
       "    </tr>\n",
       "  </tbody>\n",
       "</table>\n",
       "</div>"
      ],
      "text/plain": [
       "                   0             x             y             z\n",
       "count   60000.000000  60000.000000  60000.000000  60000.000000\n",
       "mean   298709.578733     -0.585512     -9.469357     -0.502783\n",
       "std    169480.515457      8.236244     12.435157      7.568735\n",
       "min      5157.000000    -61.789112    -75.811950    -41.824226\n",
       "25%    152134.000000     -5.637876    -16.243622     -4.524192\n",
       "50%    298811.000000     -0.658630     -6.777905     -0.744851\n",
       "75%    445472.500000      5.110972     -0.658032      3.370391\n",
       "max    592226.000000     38.073627     41.021896     41.793090"
      ]
     },
     "execution_count": 288,
     "metadata": {},
     "output_type": "execute_result"
    }
   ],
   "source": [
    "workout_accelerometer.describe()"
   ]
  },
  {
   "cell_type": "markdown",
   "metadata": {},
   "source": [
    "### Calculating magnitude"
   ]
  },
  {
   "cell_type": "code",
   "execution_count": 289,
   "metadata": {},
   "outputs": [
    {
     "data": {
      "text/plain": [
       "224      -10.442286\n",
       "225      -11.136841\n",
       "226      -11.635005\n",
       "227      -11.754756\n",
       "228      -11.242222\n",
       "            ...    \n",
       "178734   -14.731766\n",
       "178739   -14.142591\n",
       "178741   -12.985797\n",
       "178744   -11.781101\n",
       "178747   -10.854229\n",
       "Name: x, Length: 58000, dtype: float64"
      ]
     },
     "execution_count": 289,
     "metadata": {},
     "output_type": "execute_result"
    }
   ],
   "source": [
    "walking_accelerometer['x']"
   ]
  },
  {
   "cell_type": "code",
   "execution_count": 290,
   "metadata": {},
   "outputs": [],
   "source": [
    "walking_accelerometer['magnitude'] = np.sqrt(walking_accelerometer['x']**2 + walking_accelerometer['y']**2 + walking_accelerometer['z']**2)\n",
    "sitting_accelerometer['magnitude'] = np.sqrt(sitting_accelerometer['x']**2 + sitting_accelerometer['y']**2 + sitting_accelerometer['z']**2)\n",
    "lying_accelerometer['magnitude'] = np.sqrt(lying_accelerometer['x']**2 + lying_accelerometer['y']**2 + lying_accelerometer['z']**2)\n",
    "workout_accelerometer['magnitude'] = np.sqrt(workout_accelerometer['x']**2 + workout_accelerometer['y']**2 + workout_accelerometer['z']**2)"
   ]
  },
  {
   "cell_type": "markdown",
   "metadata": {},
   "source": [
    "### Plotting the magnitude for all activities"
   ]
  },
  {
   "cell_type": "code",
   "execution_count": 291,
   "metadata": {},
   "outputs": [
    {
     "data": {
      "text/plain": [
       "<AxesSubplot:>"
      ]
     },
     "execution_count": 291,
     "metadata": {},
     "output_type": "execute_result"
    },
    {
     "data": {
      "image/png": "[encoded data removed]",
      "text/plain": [
       "<Figure size 432x288 with 1 Axes>"
      ]
     },
     "metadata": {
      "needs_background": "light"
     },
     "output_type": "display_data"
    }
   ],
   "source": [
    "sitting_accelerometer.magnitude.hist()"
   ]
  },
  {
   "cell_type": "code",
   "execution_count": 292,
   "metadata": {},
   "outputs": [
    {
     "data": {
      "text/plain": [
       "<AxesSubplot:>"
      ]
     },
     "execution_count": 292,
     "metadata": {},
     "output_type": "execute_result"
    },
    {
     "data": {
      "image/png": "[encoded data removed]",
      "text/plain": [
       "<Figure size 432x288 with 1 Axes>"
      ]
     },
     "metadata": {
      "needs_background": "light"
     },
     "output_type": "display_data"
    }
   ],
   "source": [
    "walking_accelerometer.magnitude.hist()"
   ]
  },
  {
   "cell_type": "code",
   "execution_count": 293,
   "metadata": {},
   "outputs": [
    {
     "data": {
      "text/plain": [
       "<AxesSubplot:>"
      ]
     },
     "execution_count": 293,
     "metadata": {},
     "output_type": "execute_result"
    },
    {
     "data": {
      "image/png": "[encoded data removed]",
      "text/plain": [
       "<Figure size 432x288 with 1 Axes>"
      ]
     },
     "metadata": {
      "needs_background": "light"
     },
     "output_type": "display_data"
    }
   ],
   "source": [
    "lying_accelerometer.magnitude.hist()"
   ]
  },
  {
   "cell_type": "code",
   "execution_count": 294,
   "metadata": {},
   "outputs": [
    {
     "data": {
      "text/plain": [
       "<AxesSubplot:>"
      ]
     },
     "execution_count": 294,
     "metadata": {},
     "output_type": "execute_result"
    },
    {
     "data": {
      "image/png": "[encoded data removed]",
      "text/plain": [
       "<Figure size 432x288 with 1 Axes>"
      ]
     },
     "metadata": {
      "needs_background": "light"
     },
     "output_type": "display_data"
    }
   ],
   "source": [
    "workout_accelerometer.magnitude.hist()"
   ]
  },
  {
   "cell_type": "markdown",
   "metadata": {},
   "source": [
    "So, sitting and lying are similar, but we hope that the model will still distinguish this two activities."
   ]
  },
  {
   "cell_type": "code",
   "execution_count": 295,
   "metadata": {},
   "outputs": [],
   "source": [
    "#Visualize the impact of mean-filtering in time domain\n",
    "#plot mean-filtered accelreation data\n",
    "def mean_filter(data, axis):\n",
    "    plt.figure(figsize = (15,5))\n",
    "    plt.plot(data[axis],label = axis)\n",
    "    plt.plot(data[axis].rolling(window=10).mean(),label = 'Mean filtering') #moving window with a size of 10 samples\n",
    "    plt.legend()\n",
    "    plt.title(\"MEAN-FILTERED ACCELERATION DATA\")\n",
    "    plt.show()"
   ]
  },
  {
   "cell_type": "code",
   "execution_count": 296,
   "metadata": {},
   "outputs": [
    {
     "data": {
      "image/png": "[encoded data removed]",
      "text/plain": [
       "<Figure size 1080x360 with 1 Axes>"
      ]
     },
     "metadata": {
      "needs_background": "light"
     },
     "output_type": "display_data"
    }
   ],
   "source": [
    "mean_filter(sitting_accelerometer, 'x')"
   ]
  },
  {
   "cell_type": "code",
   "execution_count": 297,
   "metadata": {},
   "outputs": [
    {
     "data": {
      "image/png": "[encoded data removed]",
      "text/plain": [
       "<Figure size 1080x360 with 1 Axes>"
      ]
     },
     "metadata": {
      "needs_background": "light"
     },
     "output_type": "display_data"
    }
   ],
   "source": [
    "mean_filter(walking_accelerometer, 'x')"
   ]
  },
  {
   "cell_type": "code",
   "execution_count": 298,
   "metadata": {},
   "outputs": [
    {
     "data": {
      "image/png": "[encoded data removed]",
      "text/plain": [
       "<Figure size 1080x360 with 1 Axes>"
      ]
     },
     "metadata": {
      "needs_background": "light"
     },
     "output_type": "display_data"
    }
   ],
   "source": [
    "mean_filter(workout_accelerometer, 'x')"
   ]
  },
  {
   "cell_type": "code",
   "execution_count": 299,
   "metadata": {},
   "outputs": [
    {
     "data": {
      "image/png": "[encoded data removed]",
      "text/plain": [
       "<Figure size 1080x360 with 1 Axes>"
      ]
     },
     "metadata": {
      "needs_background": "light"
     },
     "output_type": "display_data"
    }
   ],
   "source": [
    "mean_filter(lying_accelerometer, 'x')"
   ]
  },
  {
   "cell_type": "code",
   "execution_count": 300,
   "metadata": {},
   "outputs": [
    {
     "data": {
      "text/plain": [
       "array([[5.48293346e-02, 4.91820150e-01, 1.24281110e-04, ...,\n",
       "        2.14606019e-03, 4.21268170e-02, 2.53164004e-01],\n",
       "       [2.73228578e+01, 7.05905197e-01, 9.21927752e-01, ...,\n",
       "        2.19475879e-01, 4.87659900e-01, 2.34035218e+00],\n",
       "       [2.64979211e+01, 4.16523039e+00, 3.86091962e-01, ...,\n",
       "        6.86472161e-01, 6.79991900e-01, 3.42132620e+00],\n",
       "       ...,\n",
       "       [3.40042046e-07, 5.69760501e-07, 8.46052471e-07, ...,\n",
       "        4.84094284e-06, 1.28149826e-06, 1.80980453e-06],\n",
       "       [1.51325771e-06, 9.03800156e-07, 9.49069983e-07, ...,\n",
       "        7.73414922e-07, 1.64127863e-07, 2.72651845e-06],\n",
       "       [1.16274088e-06, 9.97949516e-08, 4.07127721e-06, ...,\n",
       "        4.17151655e-07, 2.41623288e-08, 2.98858453e-07]])"
      ]
     },
     "execution_count": 300,
     "metadata": {},
     "output_type": "execute_result"
    }
   ],
   "source": [
    "segment = walking_accelerometer['x'].values\n",
    "sampling_frequency = 100\n",
    "\n",
    "frequencies, time, spec = signal.spectrogram(segment, sampling_frequency)\n",
    "\n",
    "spec"
   ]
  },
  {
   "cell_type": "code",
   "execution_count": 301,
   "metadata": {},
   "outputs": [],
   "source": [
    "#Visualize the impact of mean-filtering in frequency domain\n",
    "def mean_filter_freq(data, axis, freq):\n",
    "    segment = data[axis].values\n",
    "    sampling_frequency = freq\n",
    "    frequencies, time, spec = signal.spectrogram(segment, sampling_frequency)\n",
    "    plt.pcolormesh(time, frequencies, spec)\n",
    "    plt.ylabel('Frequency [Hz]')\n",
    "    plt.xlabel('Time [sec]')\n",
    "    plt.title(\"SPECTROGRAM - ACCELERATION DATA\")\n",
    "    plt.show()\n",
    "\n",
    "    segment_mean = data[axis].rolling(window=50).mean()\n",
    "    frequencies, time, spec = signal.spectrogram(segment_mean, sampling_frequency)\n",
    "    plt.pcolormesh(time, frequencies, spec)\n",
    "    plt.ylabel('Frequency [Hz]')\n",
    "    plt.xlabel('Time [sec]')\n",
    "    plt.title(\"SPECTROGRAM - MEAN-FILTERED ACCELERATION DATA\")\n",
    "    plt.show()"
   ]
  },
  {
   "cell_type": "code",
   "execution_count": 302,
   "metadata": {},
   "outputs": [
    {
     "name": "stderr",
     "output_type": "stream",
     "text": [
      "<ipython-input-301-6b82bfe16d42>:6: MatplotlibDeprecationWarning: shading='flat' when X and Y have the same dimensions as C is deprecated since 3.3.  Either specify the corners of the quadrilaterals with X and Y, or pass shading='auto', 'nearest' or 'gouraud', or set rcParams['pcolor.shading'].  This will become an error two minor releases later.\n",
      "  plt.pcolormesh(time, frequencies, spec)\n"
     ]
    },
    {
     "data": {
      "image/png": "[encoded data removed]",
      "text/plain": [
       "<Figure size 432x288 with 1 Axes>"
      ]
     },
     "metadata": {
      "needs_background": "light"
     },
     "output_type": "display_data"
    },
    {
     "name": "stderr",
     "output_type": "stream",
     "text": [
      "<ipython-input-301-6b82bfe16d42>:14: MatplotlibDeprecationWarning: shading='flat' when X and Y have the same dimensions as C is deprecated since 3.3.  Either specify the corners of the quadrilaterals with X and Y, or pass shading='auto', 'nearest' or 'gouraud', or set rcParams['pcolor.shading'].  This will become an error two minor releases later.\n",
      "  plt.pcolormesh(time, frequencies, spec)\n"
     ]
    },
    {
     "data": {
      "image/png": "[encoded data removed]",
      "text/plain": [
       "<Figure size 432x288 with 1 Axes>"
      ]
     },
     "metadata": {
      "needs_background": "light"
     },
     "output_type": "display_data"
    }
   ],
   "source": [
    "mean_filter_freq(sitting_accelerometer, 'x', 100)"
   ]
  },
  {
   "cell_type": "code",
   "execution_count": 303,
   "metadata": {},
   "outputs": [
    {
     "name": "stderr",
     "output_type": "stream",
     "text": [
      "<ipython-input-301-6b82bfe16d42>:6: MatplotlibDeprecationWarning: shading='flat' when X and Y have the same dimensions as C is deprecated since 3.3.  Either specify the corners of the quadrilaterals with X and Y, or pass shading='auto', 'nearest' or 'gouraud', or set rcParams['pcolor.shading'].  This will become an error two minor releases later.\n",
      "  plt.pcolormesh(time, frequencies, spec)\n"
     ]
    },
    {
     "data": {
      "image/png": "[encoded data removed]",
      "text/plain": [
       "<Figure size 432x288 with 1 Axes>"
      ]
     },
     "metadata": {
      "needs_background": "light"
     },
     "output_type": "display_data"
    },
    {
     "name": "stderr",
     "output_type": "stream",
     "text": [
      "<ipython-input-301-6b82bfe16d42>:14: MatplotlibDeprecationWarning: shading='flat' when X and Y have the same dimensions as C is deprecated since 3.3.  Either specify the corners of the quadrilaterals with X and Y, or pass shading='auto', 'nearest' or 'gouraud', or set rcParams['pcolor.shading'].  This will become an error two minor releases later.\n",
      "  plt.pcolormesh(time, frequencies, spec)\n"
     ]
    },
    {
     "data": {
      "image/png": "[encoded data removed]",
      "text/plain": [
       "<Figure size 432x288 with 1 Axes>"
      ]
     },
     "metadata": {
      "needs_background": "light"
     },
     "output_type": "display_data"
    }
   ],
   "source": [
    "mean_filter_freq(walking_accelerometer, 'x', 100)"
   ]
  },
  {
   "cell_type": "code",
   "execution_count": 304,
   "metadata": {},
   "outputs": [
    {
     "name": "stderr",
     "output_type": "stream",
     "text": [
      "<ipython-input-301-6b82bfe16d42>:6: MatplotlibDeprecationWarning: shading='flat' when X and Y have the same dimensions as C is deprecated since 3.3.  Either specify the corners of the quadrilaterals with X and Y, or pass shading='auto', 'nearest' or 'gouraud', or set rcParams['pcolor.shading'].  This will become an error two minor releases later.\n",
      "  plt.pcolormesh(time, frequencies, spec)\n"
     ]
    },
    {
     "data": {
      "image/png": "[encoded data removed]",
      "text/plain": [
       "<Figure size 432x288 with 1 Axes>"
      ]
     },
     "metadata": {
      "needs_background": "light"
     },
     "output_type": "display_data"
    },
    {
     "name": "stderr",
     "output_type": "stream",
     "text": [
      "<ipython-input-301-6b82bfe16d42>:14: MatplotlibDeprecationWarning: shading='flat' when X and Y have the same dimensions as C is deprecated since 3.3.  Either specify the corners of the quadrilaterals with X and Y, or pass shading='auto', 'nearest' or 'gouraud', or set rcParams['pcolor.shading'].  This will become an error two minor releases later.\n",
      "  plt.pcolormesh(time, frequencies, spec)\n"
     ]
    },
    {
     "data": {
      "image/png": "[encoded data removed]",
      "text/plain": [
       "<Figure size 432x288 with 1 Axes>"
      ]
     },
     "metadata": {
      "needs_background": "light"
     },
     "output_type": "display_data"
    }
   ],
   "source": [
    "mean_filter_freq(lying_accelerometer, 'x', 100)"
   ]
  },
  {
   "cell_type": "code",
   "execution_count": 305,
   "metadata": {},
   "outputs": [
    {
     "name": "stderr",
     "output_type": "stream",
     "text": [
      "<ipython-input-301-6b82bfe16d42>:6: MatplotlibDeprecationWarning: shading='flat' when X and Y have the same dimensions as C is deprecated since 3.3.  Either specify the corners of the quadrilaterals with X and Y, or pass shading='auto', 'nearest' or 'gouraud', or set rcParams['pcolor.shading'].  This will become an error two minor releases later.\n",
      "  plt.pcolormesh(time, frequencies, spec)\n"
     ]
    },
    {
     "data": {
      "image/png": "[encoded data removed]",
      "text/plain": [
       "<Figure size 432x288 with 1 Axes>"
      ]
     },
     "metadata": {
      "needs_background": "light"
     },
     "output_type": "display_data"
    },
    {
     "name": "stderr",
     "output_type": "stream",
     "text": [
      "<ipython-input-301-6b82bfe16d42>:14: MatplotlibDeprecationWarning: shading='flat' when X and Y have the same dimensions as C is deprecated since 3.3.  Either specify the corners of the quadrilaterals with X and Y, or pass shading='auto', 'nearest' or 'gouraud', or set rcParams['pcolor.shading'].  This will become an error two minor releases later.\n",
      "  plt.pcolormesh(time, frequencies, spec)\n"
     ]
    },
    {
     "data": {
      "image/png": "[encoded data removed]",
      "text/plain": [
       "<Figure size 432x288 with 1 Axes>"
      ]
     },
     "metadata": {
      "needs_background": "light"
     },
     "output_type": "display_data"
    }
   ],
   "source": [
    "mean_filter_freq(workout_accelerometer, 'x', 100)"
   ]
  },
  {
   "cell_type": "markdown",
   "metadata": {},
   "source": [
    "### Feature Extraction"
   ]
  },
  {
   "cell_type": "markdown",
   "metadata": {},
   "source": [
    "We will use moving-average filter and extract features.\n",
    "We will create new column magnitude, since we are filtering the data."
   ]
  },
  {
   "cell_type": "code",
   "execution_count": 306,
   "metadata": {},
   "outputs": [
    {
     "data": {
      "text/html": [
       "<div>\n",
       "<style scoped>\n",
       "    .dataframe tbody tr th:only-of-type {\n",
       "        vertical-align: middle;\n",
       "    }\n",
       "\n",
       "    .dataframe tbody tr th {\n",
       "        vertical-align: top;\n",
       "    }\n",
       "\n",
       "    .dataframe thead th {\n",
       "        text-align: right;\n",
       "    }\n",
       "</style>\n",
       "<table border=\"1\" class=\"dataframe\">\n",
       "  <thead>\n",
       "    <tr style=\"text-align: right;\">\n",
       "      <th></th>\n",
       "      <th>0</th>\n",
       "      <th>x</th>\n",
       "      <th>y</th>\n",
       "      <th>z</th>\n",
       "      <th>magnitude</th>\n",
       "    </tr>\n",
       "  </thead>\n",
       "  <tbody>\n",
       "    <tr>\n",
       "      <th>224</th>\n",
       "      <td>27717</td>\n",
       "      <td>-10.442286</td>\n",
       "      <td>-0.179626</td>\n",
       "      <td>1.484912</td>\n",
       "      <td>10.548866</td>\n",
       "    </tr>\n",
       "    <tr>\n",
       "      <th>225</th>\n",
       "      <td>27731</td>\n",
       "      <td>-11.136841</td>\n",
       "      <td>-0.131726</td>\n",
       "      <td>1.609453</td>\n",
       "      <td>11.253307</td>\n",
       "    </tr>\n",
       "    <tr>\n",
       "      <th>226</th>\n",
       "      <td>27743</td>\n",
       "      <td>-11.635005</td>\n",
       "      <td>-0.098196</td>\n",
       "      <td>1.820215</td>\n",
       "      <td>11.776934</td>\n",
       "    </tr>\n",
       "    <tr>\n",
       "      <th>227</th>\n",
       "      <td>27743</td>\n",
       "      <td>-11.754756</td>\n",
       "      <td>-0.174836</td>\n",
       "      <td>2.138753</td>\n",
       "      <td>11.949022</td>\n",
       "    </tr>\n",
       "    <tr>\n",
       "      <th>228</th>\n",
       "      <td>27747</td>\n",
       "      <td>-11.242222</td>\n",
       "      <td>-0.325723</td>\n",
       "      <td>2.514771</td>\n",
       "      <td>11.524657</td>\n",
       "    </tr>\n",
       "    <tr>\n",
       "      <th>...</th>\n",
       "      <td>...</td>\n",
       "      <td>...</td>\n",
       "      <td>...</td>\n",
       "      <td>...</td>\n",
       "      <td>...</td>\n",
       "    </tr>\n",
       "    <tr>\n",
       "      <th>178734</th>\n",
       "      <td>595256</td>\n",
       "      <td>-14.731766</td>\n",
       "      <td>-2.100432</td>\n",
       "      <td>3.839217</td>\n",
       "      <td>15.368029</td>\n",
       "    </tr>\n",
       "    <tr>\n",
       "      <th>178739</th>\n",
       "      <td>595272</td>\n",
       "      <td>-14.142591</td>\n",
       "      <td>-1.983076</td>\n",
       "      <td>3.781736</td>\n",
       "      <td>14.773185</td>\n",
       "    </tr>\n",
       "    <tr>\n",
       "      <th>178741</th>\n",
       "      <td>595272</td>\n",
       "      <td>-12.985797</td>\n",
       "      <td>-1.863325</td>\n",
       "      <td>3.640430</td>\n",
       "      <td>13.614538</td>\n",
       "    </tr>\n",
       "    <tr>\n",
       "      <th>178744</th>\n",
       "      <td>595283</td>\n",
       "      <td>-11.781101</td>\n",
       "      <td>-1.702859</td>\n",
       "      <td>3.381768</td>\n",
       "      <td>12.374588</td>\n",
       "    </tr>\n",
       "    <tr>\n",
       "      <th>178747</th>\n",
       "      <td>595295</td>\n",
       "      <td>-10.854229</td>\n",
       "      <td>-1.554368</td>\n",
       "      <td>3.022515</td>\n",
       "      <td>11.373915</td>\n",
       "    </tr>\n",
       "  </tbody>\n",
       "</table>\n",
       "<p>58000 rows × 5 columns</p>\n",
       "</div>"
      ],
      "text/plain": [
       "             0          x         y         z  magnitude\n",
       "224      27717 -10.442286 -0.179626  1.484912  10.548866\n",
       "225      27731 -11.136841 -0.131726  1.609453  11.253307\n",
       "226      27743 -11.635005 -0.098196  1.820215  11.776934\n",
       "227      27743 -11.754756 -0.174836  2.138753  11.949022\n",
       "228      27747 -11.242222 -0.325723  2.514771  11.524657\n",
       "...        ...        ...       ...       ...        ...\n",
       "178734  595256 -14.731766 -2.100432  3.839217  15.368029\n",
       "178739  595272 -14.142591 -1.983076  3.781736  14.773185\n",
       "178741  595272 -12.985797 -1.863325  3.640430  13.614538\n",
       "178744  595283 -11.781101 -1.702859  3.381768  12.374588\n",
       "178747  595295 -10.854229 -1.554368  3.022515  11.373915\n",
       "\n",
       "[58000 rows x 5 columns]"
      ]
     },
     "execution_count": 306,
     "metadata": {},
     "output_type": "execute_result"
    }
   ],
   "source": [
    "walking_accelerometer"
   ]
  },
  {
   "cell_type": "code",
   "execution_count": 307,
   "metadata": {},
   "outputs": [],
   "source": [
    "def filtering(data):\n",
    "    '''This function filters the data with window_size = 10'''\n",
    "    new_data = pd.DataFrame(columns = ['x', 'y', 'z'])\n",
    "    new_data['x'] = data['x'].rolling(window=10).mean()\n",
    "    new_data['y'] = data['y'].rolling(window=10).mean()\n",
    "    new_data['z'] = data['z'].rolling(window=10).mean()\n",
    "    return new_data.dropna(axis = 0)"
   ]
  },
  {
   "cell_type": "code",
   "execution_count": 308,
   "metadata": {},
   "outputs": [],
   "source": [
    "walking_accelerometer_filtered = filtering(walking_accelerometer)"
   ]
  },
  {
   "cell_type": "code",
   "execution_count": 309,
   "metadata": {},
   "outputs": [
    {
     "data": {
      "text/html": [
       "<div>\n",
       "<style scoped>\n",
       "    .dataframe tbody tr th:only-of-type {\n",
       "        vertical-align: middle;\n",
       "    }\n",
       "\n",
       "    .dataframe tbody tr th {\n",
       "        vertical-align: top;\n",
       "    }\n",
       "\n",
       "    .dataframe thead th {\n",
       "        text-align: right;\n",
       "    }\n",
       "</style>\n",
       "<table border=\"1\" class=\"dataframe\">\n",
       "  <thead>\n",
       "    <tr style=\"text-align: right;\">\n",
       "      <th></th>\n",
       "      <th>x</th>\n",
       "      <th>y</th>\n",
       "      <th>z</th>\n",
       "    </tr>\n",
       "  </thead>\n",
       "  <tbody>\n",
       "    <tr>\n",
       "      <th>233</th>\n",
       "      <td>-10.242062</td>\n",
       "      <td>-0.376737</td>\n",
       "      <td>2.374183</td>\n",
       "    </tr>\n",
       "    <tr>\n",
       "      <th>235</th>\n",
       "      <td>-10.104109</td>\n",
       "      <td>-0.442600</td>\n",
       "      <td>2.470463</td>\n",
       "    </tr>\n",
       "    <tr>\n",
       "      <th>236</th>\n",
       "      <td>-9.937176</td>\n",
       "      <td>-0.516845</td>\n",
       "      <td>2.520040</td>\n",
       "    </tr>\n",
       "    <tr>\n",
       "      <th>238</th>\n",
       "      <td>-9.771680</td>\n",
       "      <td>-0.598755</td>\n",
       "      <td>2.506388</td>\n",
       "    </tr>\n",
       "    <tr>\n",
       "      <th>240</th>\n",
       "      <td>-9.652648</td>\n",
       "      <td>-0.675156</td>\n",
       "      <td>2.410827</td>\n",
       "    </tr>\n",
       "    <tr>\n",
       "      <th>...</th>\n",
       "      <td>...</td>\n",
       "      <td>...</td>\n",
       "      <td>...</td>\n",
       "    </tr>\n",
       "    <tr>\n",
       "      <th>178734</th>\n",
       "      <td>-12.035931</td>\n",
       "      <td>-2.298979</td>\n",
       "      <td>3.981960</td>\n",
       "    </tr>\n",
       "    <tr>\n",
       "      <th>178739</th>\n",
       "      <td>-12.470867</td>\n",
       "      <td>-2.247965</td>\n",
       "      <td>3.939089</td>\n",
       "    </tr>\n",
       "    <tr>\n",
       "      <th>178741</th>\n",
       "      <td>-12.766413</td>\n",
       "      <td>-2.187132</td>\n",
       "      <td>3.888793</td>\n",
       "    </tr>\n",
       "    <tr>\n",
       "      <th>178744</th>\n",
       "      <td>-12.909156</td>\n",
       "      <td>-2.114084</td>\n",
       "      <td>3.816224</td>\n",
       "    </tr>\n",
       "    <tr>\n",
       "      <th>178747</th>\n",
       "      <td>-12.918975</td>\n",
       "      <td>-2.035288</td>\n",
       "      <td>3.711322</td>\n",
       "    </tr>\n",
       "  </tbody>\n",
       "</table>\n",
       "<p>57991 rows × 3 columns</p>\n",
       "</div>"
      ],
      "text/plain": [
       "                x         y         z\n",
       "233    -10.242062 -0.376737  2.374183\n",
       "235    -10.104109 -0.442600  2.470463\n",
       "236     -9.937176 -0.516845  2.520040\n",
       "238     -9.771680 -0.598755  2.506388\n",
       "240     -9.652648 -0.675156  2.410827\n",
       "...           ...       ...       ...\n",
       "178734 -12.035931 -2.298979  3.981960\n",
       "178739 -12.470867 -2.247965  3.939089\n",
       "178741 -12.766413 -2.187132  3.888793\n",
       "178744 -12.909156 -2.114084  3.816224\n",
       "178747 -12.918975 -2.035288  3.711322\n",
       "\n",
       "[57991 rows x 3 columns]"
      ]
     },
     "execution_count": 309,
     "metadata": {},
     "output_type": "execute_result"
    }
   ],
   "source": [
    "walking_accelerometer_filtered"
   ]
  },
  {
   "cell_type": "code",
   "execution_count": 310,
   "metadata": {},
   "outputs": [],
   "source": [
    "# let's do the same for the other data\n",
    "lying_accelerometer_filtered = filtering(lying_accelerometer)\n",
    "sitting_accelerometer_filtered = filtering(sitting_accelerometer)\n",
    "workout_accelerometer_filtered = filtering(workout_accelerometer)"
   ]
  },
  {
   "cell_type": "code",
   "execution_count": 311,
   "metadata": {},
   "outputs": [
    {
     "data": {
      "text/html": [
       "<div>\n",
       "<style scoped>\n",
       "    .dataframe tbody tr th:only-of-type {\n",
       "        vertical-align: middle;\n",
       "    }\n",
       "\n",
       "    .dataframe tbody tr th {\n",
       "        vertical-align: top;\n",
       "    }\n",
       "\n",
       "    .dataframe thead th {\n",
       "        text-align: right;\n",
       "    }\n",
       "</style>\n",
       "<table border=\"1\" class=\"dataframe\">\n",
       "  <thead>\n",
       "    <tr style=\"text-align: right;\">\n",
       "      <th></th>\n",
       "      <th>x</th>\n",
       "      <th>y</th>\n",
       "      <th>z</th>\n",
       "    </tr>\n",
       "  </thead>\n",
       "  <tbody>\n",
       "    <tr>\n",
       "      <th>10</th>\n",
       "      <td>-0.861968</td>\n",
       "      <td>6.073530</td>\n",
       "      <td>7.813273</td>\n",
       "    </tr>\n",
       "    <tr>\n",
       "      <th>11</th>\n",
       "      <td>-0.774549</td>\n",
       "      <td>6.039281</td>\n",
       "      <td>7.832912</td>\n",
       "    </tr>\n",
       "    <tr>\n",
       "      <th>12</th>\n",
       "      <td>-0.785327</td>\n",
       "      <td>6.039760</td>\n",
       "      <td>7.828840</td>\n",
       "    </tr>\n",
       "    <tr>\n",
       "      <th>13</th>\n",
       "      <td>-0.780058</td>\n",
       "      <td>6.032336</td>\n",
       "      <td>7.828122</td>\n",
       "    </tr>\n",
       "    <tr>\n",
       "      <th>15</th>\n",
       "      <td>-0.775028</td>\n",
       "      <td>6.025869</td>\n",
       "      <td>7.829559</td>\n",
       "    </tr>\n",
       "    <tr>\n",
       "      <th>...</th>\n",
       "      <td>...</td>\n",
       "      <td>...</td>\n",
       "      <td>...</td>\n",
       "    </tr>\n",
       "    <tr>\n",
       "      <th>184658</th>\n",
       "      <td>0.977647</td>\n",
       "      <td>-8.405801</td>\n",
       "      <td>5.059239</td>\n",
       "    </tr>\n",
       "    <tr>\n",
       "      <th>184661</th>\n",
       "      <td>0.977647</td>\n",
       "      <td>-8.404603</td>\n",
       "      <td>5.057084</td>\n",
       "    </tr>\n",
       "    <tr>\n",
       "      <th>184664</th>\n",
       "      <td>0.977408</td>\n",
       "      <td>-8.404364</td>\n",
       "      <td>5.056365</td>\n",
       "    </tr>\n",
       "    <tr>\n",
       "      <th>184667</th>\n",
       "      <td>0.978126</td>\n",
       "      <td>-8.404603</td>\n",
       "      <td>5.054449</td>\n",
       "    </tr>\n",
       "    <tr>\n",
       "      <th>184670</th>\n",
       "      <td>0.977408</td>\n",
       "      <td>-8.406519</td>\n",
       "      <td>5.054449</td>\n",
       "    </tr>\n",
       "  </tbody>\n",
       "</table>\n",
       "<p>59991 rows × 3 columns</p>\n",
       "</div>"
      ],
      "text/plain": [
       "               x         y         z\n",
       "10     -0.861968  6.073530  7.813273\n",
       "11     -0.774549  6.039281  7.832912\n",
       "12     -0.785327  6.039760  7.828840\n",
       "13     -0.780058  6.032336  7.828122\n",
       "15     -0.775028  6.025869  7.829559\n",
       "...          ...       ...       ...\n",
       "184658  0.977647 -8.405801  5.059239\n",
       "184661  0.977647 -8.404603  5.057084\n",
       "184664  0.977408 -8.404364  5.056365\n",
       "184667  0.978126 -8.404603  5.054449\n",
       "184670  0.977408 -8.406519  5.054449\n",
       "\n",
       "[59991 rows x 3 columns]"
      ]
     },
     "execution_count": 311,
     "metadata": {},
     "output_type": "execute_result"
    }
   ],
   "source": [
    "lying_accelerometer_filtered # Just checking"
   ]
  },
  {
   "cell_type": "code",
   "execution_count": 312,
   "metadata": {},
   "outputs": [],
   "source": [
    "def feature_extraction(data):\n",
    "    new_data = pd.DataFrame(columns = ['magnitude', 'skew', 'std', 'q0.25', 'q0.75'])\n",
    "    new_data['magnitude'] = np.sqrt(data['x']**2 + data['y']**2 + data['z']**2)\n",
    "    new_data['skew'] = data.skew(axis = 1)\n",
    "    new_data['std'] = data.std(axis = 1)\n",
    "    new_data['q0.25'] = data.quantile(q = 0.25, axis = 1)\n",
    "    new_data['q0.75'] = data.quantile(q = 0.75, axis = 1)\n",
    "    return new_data"
   ]
  },
  {
   "cell_type": "code",
   "execution_count": 313,
   "metadata": {},
   "outputs": [],
   "source": [
    "walking_acc_features = feature_extraction(walking_accelerometer_filtered)\n",
    "lying_acc_features = feature_extraction(lying_accelerometer_filtered)\n",
    "sitting_acc_features = feature_extraction(sitting_accelerometer_filtered)\n",
    "workout_acc_features = feature_extraction(workout_accelerometer_filtered)"
   ]
  },
  {
   "cell_type": "code",
   "execution_count": 314,
   "metadata": {
    "scrolled": true
   },
   "outputs": [
    {
     "data": {
      "text/html": [
       "<div>\n",
       "<style scoped>\n",
       "    .dataframe tbody tr th:only-of-type {\n",
       "        vertical-align: middle;\n",
       "    }\n",
       "\n",
       "    .dataframe tbody tr th {\n",
       "        vertical-align: top;\n",
       "    }\n",
       "\n",
       "    .dataframe thead th {\n",
       "        text-align: right;\n",
       "    }\n",
       "</style>\n",
       "<table border=\"1\" class=\"dataframe\">\n",
       "  <thead>\n",
       "    <tr style=\"text-align: right;\">\n",
       "      <th></th>\n",
       "      <th>magnitude</th>\n",
       "      <th>skew</th>\n",
       "      <th>std</th>\n",
       "      <th>q0.25</th>\n",
       "      <th>q0.75</th>\n",
       "    </tr>\n",
       "  </thead>\n",
       "  <tbody>\n",
       "    <tr>\n",
       "      <th>233</th>\n",
       "      <td>10.520385</td>\n",
       "      <td>-1.403060</td>\n",
       "      <td>6.634026</td>\n",
       "      <td>-5.309399</td>\n",
       "      <td>0.998723</td>\n",
       "    </tr>\n",
       "    <tr>\n",
       "      <th>235</th>\n",
       "      <td>10.411153</td>\n",
       "      <td>-1.358272</td>\n",
       "      <td>6.582180</td>\n",
       "      <td>-5.273354</td>\n",
       "      <td>1.013932</td>\n",
       "    </tr>\n",
       "    <tr>\n",
       "      <th>236</th>\n",
       "      <td>10.264755</td>\n",
       "      <td>-1.315938</td>\n",
       "      <td>6.495480</td>\n",
       "      <td>-5.227011</td>\n",
       "      <td>1.001597</td>\n",
       "    </tr>\n",
       "    <tr>\n",
       "      <th>238</th>\n",
       "      <td>10.105752</td>\n",
       "      <td>-1.282589</td>\n",
       "      <td>6.384035</td>\n",
       "      <td>-5.185218</td>\n",
       "      <td>0.953817</td>\n",
       "    </tr>\n",
       "    <tr>\n",
       "      <th>240</th>\n",
       "      <td>9.972037</td>\n",
       "      <td>-1.271671</td>\n",
       "      <td>6.266925</td>\n",
       "      <td>-5.163902</td>\n",
       "      <td>0.867835</td>\n",
       "    </tr>\n",
       "    <tr>\n",
       "      <th>...</th>\n",
       "      <td>...</td>\n",
       "      <td>...</td>\n",
       "      <td>...</td>\n",
       "      <td>...</td>\n",
       "      <td>...</td>\n",
       "    </tr>\n",
       "    <tr>\n",
       "      <th>178734</th>\n",
       "      <td>12.884291</td>\n",
       "      <td>-0.629228</td>\n",
       "      <td>8.070845</td>\n",
       "      <td>-7.167455</td>\n",
       "      <td>0.841490</td>\n",
       "    </tr>\n",
       "    <tr>\n",
       "      <th>178739</th>\n",
       "      <td>13.269977</td>\n",
       "      <td>-0.711240</td>\n",
       "      <td>8.287279</td>\n",
       "      <td>-7.359416</td>\n",
       "      <td>0.845562</td>\n",
       "    </tr>\n",
       "    <tr>\n",
       "      <th>178741</th>\n",
       "      <td>13.523592</td>\n",
       "      <td>-0.776033</td>\n",
       "      <td>8.428463</td>\n",
       "      <td>-7.476772</td>\n",
       "      <td>0.850831</td>\n",
       "    </tr>\n",
       "    <tr>\n",
       "      <th>178744</th>\n",
       "      <td>13.626416</td>\n",
       "      <td>-0.829066</td>\n",
       "      <td>8.479784</td>\n",
       "      <td>-7.511620</td>\n",
       "      <td>0.851070</td>\n",
       "    </tr>\n",
       "    <tr>\n",
       "      <th>178747</th>\n",
       "      <td>13.594713</td>\n",
       "      <td>-0.874805</td>\n",
       "      <td>8.446350</td>\n",
       "      <td>-7.477131</td>\n",
       "      <td>0.838017</td>\n",
       "    </tr>\n",
       "  </tbody>\n",
       "</table>\n",
       "<p>57991 rows × 5 columns</p>\n",
       "</div>"
      ],
      "text/plain": [
       "        magnitude      skew       std     q0.25     q0.75\n",
       "233     10.520385 -1.403060  6.634026 -5.309399  0.998723\n",
       "235     10.411153 -1.358272  6.582180 -5.273354  1.013932\n",
       "236     10.264755 -1.315938  6.495480 -5.227011  1.001597\n",
       "238     10.105752 -1.282589  6.384035 -5.185218  0.953817\n",
       "240      9.972037 -1.271671  6.266925 -5.163902  0.867835\n",
       "...           ...       ...       ...       ...       ...\n",
       "178734  12.884291 -0.629228  8.070845 -7.167455  0.841490\n",
       "178739  13.269977 -0.711240  8.287279 -7.359416  0.845562\n",
       "178741  13.523592 -0.776033  8.428463 -7.476772  0.850831\n",
       "178744  13.626416 -0.829066  8.479784 -7.511620  0.851070\n",
       "178747  13.594713 -0.874805  8.446350 -7.477131  0.838017\n",
       "\n",
       "[57991 rows x 5 columns]"
      ]
     },
     "execution_count": 314,
     "metadata": {},
     "output_type": "execute_result"
    }
   ],
   "source": [
    "walking_acc_features"
   ]
  },
  {
   "cell_type": "code",
   "execution_count": 315,
   "metadata": {},
   "outputs": [],
   "source": [
    "walking_acc_features['label'] = 'walking'\n",
    "sitting_acc_features['label'] = 'sitting'\n",
    "workout_acc_features['label'] = 'workout'\n",
    "lying_acc_features['label'] = 'lying'"
   ]
  },
  {
   "cell_type": "code",
   "execution_count": 316,
   "metadata": {},
   "outputs": [
    {
     "data": {
      "text/html": [
       "<div>\n",
       "<style scoped>\n",
       "    .dataframe tbody tr th:only-of-type {\n",
       "        vertical-align: middle;\n",
       "    }\n",
       "\n",
       "    .dataframe tbody tr th {\n",
       "        vertical-align: top;\n",
       "    }\n",
       "\n",
       "    .dataframe thead th {\n",
       "        text-align: right;\n",
       "    }\n",
       "</style>\n",
       "<table border=\"1\" class=\"dataframe\">\n",
       "  <thead>\n",
       "    <tr style=\"text-align: right;\">\n",
       "      <th></th>\n",
       "      <th>magnitude</th>\n",
       "      <th>skew</th>\n",
       "      <th>std</th>\n",
       "      <th>q0.25</th>\n",
       "      <th>q0.75</th>\n",
       "      <th>label</th>\n",
       "    </tr>\n",
       "  </thead>\n",
       "  <tbody>\n",
       "    <tr>\n",
       "      <th>233</th>\n",
       "      <td>10.520385</td>\n",
       "      <td>-1.403060</td>\n",
       "      <td>6.634026</td>\n",
       "      <td>-5.309399</td>\n",
       "      <td>0.998723</td>\n",
       "      <td>walking</td>\n",
       "    </tr>\n",
       "    <tr>\n",
       "      <th>235</th>\n",
       "      <td>10.411153</td>\n",
       "      <td>-1.358272</td>\n",
       "      <td>6.582180</td>\n",
       "      <td>-5.273354</td>\n",
       "      <td>1.013932</td>\n",
       "      <td>walking</td>\n",
       "    </tr>\n",
       "    <tr>\n",
       "      <th>236</th>\n",
       "      <td>10.264755</td>\n",
       "      <td>-1.315938</td>\n",
       "      <td>6.495480</td>\n",
       "      <td>-5.227011</td>\n",
       "      <td>1.001597</td>\n",
       "      <td>walking</td>\n",
       "    </tr>\n",
       "    <tr>\n",
       "      <th>238</th>\n",
       "      <td>10.105752</td>\n",
       "      <td>-1.282589</td>\n",
       "      <td>6.384035</td>\n",
       "      <td>-5.185218</td>\n",
       "      <td>0.953817</td>\n",
       "      <td>walking</td>\n",
       "    </tr>\n",
       "    <tr>\n",
       "      <th>240</th>\n",
       "      <td>9.972037</td>\n",
       "      <td>-1.271671</td>\n",
       "      <td>6.266925</td>\n",
       "      <td>-5.163902</td>\n",
       "      <td>0.867835</td>\n",
       "      <td>walking</td>\n",
       "    </tr>\n",
       "    <tr>\n",
       "      <th>...</th>\n",
       "      <td>...</td>\n",
       "      <td>...</td>\n",
       "      <td>...</td>\n",
       "      <td>...</td>\n",
       "      <td>...</td>\n",
       "      <td>...</td>\n",
       "    </tr>\n",
       "    <tr>\n",
       "      <th>178734</th>\n",
       "      <td>12.884291</td>\n",
       "      <td>-0.629228</td>\n",
       "      <td>8.070845</td>\n",
       "      <td>-7.167455</td>\n",
       "      <td>0.841490</td>\n",
       "      <td>walking</td>\n",
       "    </tr>\n",
       "    <tr>\n",
       "      <th>178739</th>\n",
       "      <td>13.269977</td>\n",
       "      <td>-0.711240</td>\n",
       "      <td>8.287279</td>\n",
       "      <td>-7.359416</td>\n",
       "      <td>0.845562</td>\n",
       "      <td>walking</td>\n",
       "    </tr>\n",
       "    <tr>\n",
       "      <th>178741</th>\n",
       "      <td>13.523592</td>\n",
       "      <td>-0.776033</td>\n",
       "      <td>8.428463</td>\n",
       "      <td>-7.476772</td>\n",
       "      <td>0.850831</td>\n",
       "      <td>walking</td>\n",
       "    </tr>\n",
       "    <tr>\n",
       "      <th>178744</th>\n",
       "      <td>13.626416</td>\n",
       "      <td>-0.829066</td>\n",
       "      <td>8.479784</td>\n",
       "      <td>-7.511620</td>\n",
       "      <td>0.851070</td>\n",
       "      <td>walking</td>\n",
       "    </tr>\n",
       "    <tr>\n",
       "      <th>178747</th>\n",
       "      <td>13.594713</td>\n",
       "      <td>-0.874805</td>\n",
       "      <td>8.446350</td>\n",
       "      <td>-7.477131</td>\n",
       "      <td>0.838017</td>\n",
       "      <td>walking</td>\n",
       "    </tr>\n",
       "  </tbody>\n",
       "</table>\n",
       "<p>57991 rows × 6 columns</p>\n",
       "</div>"
      ],
      "text/plain": [
       "        magnitude      skew       std     q0.25     q0.75    label\n",
       "233     10.520385 -1.403060  6.634026 -5.309399  0.998723  walking\n",
       "235     10.411153 -1.358272  6.582180 -5.273354  1.013932  walking\n",
       "236     10.264755 -1.315938  6.495480 -5.227011  1.001597  walking\n",
       "238     10.105752 -1.282589  6.384035 -5.185218  0.953817  walking\n",
       "240      9.972037 -1.271671  6.266925 -5.163902  0.867835  walking\n",
       "...           ...       ...       ...       ...       ...      ...\n",
       "178734  12.884291 -0.629228  8.070845 -7.167455  0.841490  walking\n",
       "178739  13.269977 -0.711240  8.287279 -7.359416  0.845562  walking\n",
       "178741  13.523592 -0.776033  8.428463 -7.476772  0.850831  walking\n",
       "178744  13.626416 -0.829066  8.479784 -7.511620  0.851070  walking\n",
       "178747  13.594713 -0.874805  8.446350 -7.477131  0.838017  walking\n",
       "\n",
       "[57991 rows x 6 columns]"
      ]
     },
     "execution_count": 316,
     "metadata": {},
     "output_type": "execute_result"
    }
   ],
   "source": [
    "walking_acc_features"
   ]
  },
  {
   "cell_type": "code",
   "execution_count": 317,
   "metadata": {},
   "outputs": [],
   "source": [
    "frames = [walking_acc_features, sitting_acc_features, workout_acc_features, lying_acc_features]\n",
    "result = pd.concat(frames) # We concatenate all data together"
   ]
  },
  {
   "cell_type": "code",
   "execution_count": 318,
   "metadata": {},
   "outputs": [
    {
     "data": {
      "text/html": [
       "<div>\n",
       "<style scoped>\n",
       "    .dataframe tbody tr th:only-of-type {\n",
       "        vertical-align: middle;\n",
       "    }\n",
       "\n",
       "    .dataframe tbody tr th {\n",
       "        vertical-align: top;\n",
       "    }\n",
       "\n",
       "    .dataframe thead th {\n",
       "        text-align: right;\n",
       "    }\n",
       "</style>\n",
       "<table border=\"1\" class=\"dataframe\">\n",
       "  <thead>\n",
       "    <tr style=\"text-align: right;\">\n",
       "      <th></th>\n",
       "      <th>magnitude</th>\n",
       "      <th>skew</th>\n",
       "      <th>std</th>\n",
       "      <th>q0.25</th>\n",
       "      <th>q0.75</th>\n",
       "      <th>label</th>\n",
       "    </tr>\n",
       "  </thead>\n",
       "  <tbody>\n",
       "    <tr>\n",
       "      <th>233</th>\n",
       "      <td>10.520385</td>\n",
       "      <td>-1.403060</td>\n",
       "      <td>6.634026</td>\n",
       "      <td>-5.309399</td>\n",
       "      <td>0.998723</td>\n",
       "      <td>walking</td>\n",
       "    </tr>\n",
       "    <tr>\n",
       "      <th>235</th>\n",
       "      <td>10.411153</td>\n",
       "      <td>-1.358272</td>\n",
       "      <td>6.582180</td>\n",
       "      <td>-5.273354</td>\n",
       "      <td>1.013932</td>\n",
       "      <td>walking</td>\n",
       "    </tr>\n",
       "    <tr>\n",
       "      <th>236</th>\n",
       "      <td>10.264755</td>\n",
       "      <td>-1.315938</td>\n",
       "      <td>6.495480</td>\n",
       "      <td>-5.227011</td>\n",
       "      <td>1.001597</td>\n",
       "      <td>walking</td>\n",
       "    </tr>\n",
       "    <tr>\n",
       "      <th>238</th>\n",
       "      <td>10.105752</td>\n",
       "      <td>-1.282589</td>\n",
       "      <td>6.384035</td>\n",
       "      <td>-5.185218</td>\n",
       "      <td>0.953817</td>\n",
       "      <td>walking</td>\n",
       "    </tr>\n",
       "    <tr>\n",
       "      <th>240</th>\n",
       "      <td>9.972037</td>\n",
       "      <td>-1.271671</td>\n",
       "      <td>6.266925</td>\n",
       "      <td>-5.163902</td>\n",
       "      <td>0.867835</td>\n",
       "      <td>walking</td>\n",
       "    </tr>\n",
       "    <tr>\n",
       "      <th>...</th>\n",
       "      <td>...</td>\n",
       "      <td>...</td>\n",
       "      <td>...</td>\n",
       "      <td>...</td>\n",
       "      <td>...</td>\n",
       "      <td>...</td>\n",
       "    </tr>\n",
       "    <tr>\n",
       "      <th>184658</th>\n",
       "      <td>9.859472</td>\n",
       "      <td>-1.076390</td>\n",
       "      <td>6.904296</td>\n",
       "      <td>-3.714077</td>\n",
       "      <td>3.018443</td>\n",
       "      <td>lying</td>\n",
       "    </tr>\n",
       "    <tr>\n",
       "      <th>184661</th>\n",
       "      <td>9.857345</td>\n",
       "      <td>-1.076768</td>\n",
       "      <td>6.902722</td>\n",
       "      <td>-3.713478</td>\n",
       "      <td>3.017366</td>\n",
       "      <td>lying</td>\n",
       "    </tr>\n",
       "    <tr>\n",
       "      <th>184664</th>\n",
       "      <td>9.856748</td>\n",
       "      <td>-1.076831</td>\n",
       "      <td>6.902255</td>\n",
       "      <td>-3.713478</td>\n",
       "      <td>3.016887</td>\n",
       "      <td>lying</td>\n",
       "    </tr>\n",
       "    <tr>\n",
       "      <th>184667</th>\n",
       "      <td>9.856041</td>\n",
       "      <td>-1.077537</td>\n",
       "      <td>6.901668</td>\n",
       "      <td>-3.713238</td>\n",
       "      <td>3.016288</td>\n",
       "      <td>lying</td>\n",
       "    </tr>\n",
       "    <tr>\n",
       "      <th>184670</th>\n",
       "      <td>9.857603</td>\n",
       "      <td>-1.077491</td>\n",
       "      <td>6.902633</td>\n",
       "      <td>-3.714556</td>\n",
       "      <td>3.015928</td>\n",
       "      <td>lying</td>\n",
       "    </tr>\n",
       "  </tbody>\n",
       "</table>\n",
       "<p>237964 rows × 6 columns</p>\n",
       "</div>"
      ],
      "text/plain": [
       "        magnitude      skew       std     q0.25     q0.75    label\n",
       "233     10.520385 -1.403060  6.634026 -5.309399  0.998723  walking\n",
       "235     10.411153 -1.358272  6.582180 -5.273354  1.013932  walking\n",
       "236     10.264755 -1.315938  6.495480 -5.227011  1.001597  walking\n",
       "238     10.105752 -1.282589  6.384035 -5.185218  0.953817  walking\n",
       "240      9.972037 -1.271671  6.266925 -5.163902  0.867835  walking\n",
       "...           ...       ...       ...       ...       ...      ...\n",
       "184658   9.859472 -1.076390  6.904296 -3.714077  3.018443    lying\n",
       "184661   9.857345 -1.076768  6.902722 -3.713478  3.017366    lying\n",
       "184664   9.856748 -1.076831  6.902255 -3.713478  3.016887    lying\n",
       "184667   9.856041 -1.077537  6.901668 -3.713238  3.016288    lying\n",
       "184670   9.857603 -1.077491  6.902633 -3.714556  3.015928    lying\n",
       "\n",
       "[237964 rows x 6 columns]"
      ]
     },
     "execution_count": 318,
     "metadata": {},
     "output_type": "execute_result"
    }
   ],
   "source": [
    "result # Data for training and testing"
   ]
  },
  {
   "cell_type": "code",
   "execution_count": 319,
   "metadata": {},
   "outputs": [],
   "source": [
    "x = result.iloc[:,:5]\n",
    "y = result[['label']]"
   ]
  },
  {
   "cell_type": "code",
   "execution_count": 320,
   "metadata": {},
   "outputs": [
    {
     "name": "stderr",
     "output_type": "stream",
     "text": [
      "C:\\Users\\melanija\\anaconda3\\lib\\site-packages\\sklearn\\utils\\validation.py:72: DataConversionWarning: A column-vector y was passed when a 1d array was expected. Please change the shape of y to (n_samples, ), for example using ravel().\n",
      "  return f(**kwargs)\n",
      "<ipython-input-320-bc7fff3acbba>:2: SettingWithCopyWarning: \n",
      "A value is trying to be set on a copy of a slice from a DataFrame.\n",
      "Try using .loc[row_indexer,col_indexer] = value instead\n",
      "\n",
      "See the caveats in the documentation: https://pandas.pydata.org/pandas-docs/stable/user_guide/indexing.html#returning-a-view-versus-a-copy\n",
      "  y['label code'] = labelencoder.fit_transform(y)\n"
     ]
    }
   ],
   "source": [
    "labelencoder = LabelEncoder()\n",
    "y['label code'] = labelencoder.fit_transform(y)"
   ]
  },
  {
   "cell_type": "code",
   "execution_count": 321,
   "metadata": {},
   "outputs": [],
   "source": [
    "X_train, X_test, y_train, y_test = train_test_split(x, y['label code'], test_size=0.33, random_state = 1) # Train and test split"
   ]
  },
  {
   "cell_type": "markdown",
   "metadata": {},
   "source": [
    "# MODEL 1"
   ]
  },
  {
   "cell_type": "code",
   "execution_count": 322,
   "metadata": {},
   "outputs": [
    {
     "data": {
      "text/plain": [
       "RandomForestClassifier(max_depth=100, n_estimators=500, random_state=0)"
      ]
     },
     "execution_count": 322,
     "metadata": {},
     "output_type": "execute_result"
    }
   ],
   "source": [
    "clf = RandomForestClassifier(n_estimators = 500, max_depth=100, random_state=0)\n",
    "clf.fit(X_train, y_train)"
   ]
  },
  {
   "cell_type": "code",
   "execution_count": 323,
   "metadata": {},
   "outputs": [],
   "source": [
    "y_pred = clf.predict(X_test)"
   ]
  },
  {
   "cell_type": "code",
   "execution_count": 324,
   "metadata": {},
   "outputs": [
    {
     "data": {
      "text/plain": [
       "array([3, 0, 0, ..., 0, 3, 3])"
      ]
     },
     "execution_count": 324,
     "metadata": {},
     "output_type": "execute_result"
    }
   ],
   "source": [
    "y_pred"
   ]
  },
  {
   "cell_type": "code",
   "execution_count": 325,
   "metadata": {},
   "outputs": [
    {
     "data": {
      "text/plain": [
       "0.9185523819226018"
      ]
     },
     "execution_count": 325,
     "metadata": {},
     "output_type": "execute_result"
    }
   ],
   "source": [
    "clf.score(X_test, y_test)"
   ]
  },
  {
   "cell_type": "code",
   "execution_count": 326,
   "metadata": {},
   "outputs": [
    {
     "data": {
      "text/plain": [
       "array(['lying', 'sitting', 'walking', 'workout'], dtype=object)"
      ]
     },
     "execution_count": 326,
     "metadata": {},
     "output_type": "execute_result"
    }
   ],
   "source": [
    "labelencoder.classes_"
   ]
  },
  {
   "cell_type": "code",
   "execution_count": 327,
   "metadata": {},
   "outputs": [
    {
     "data": {
      "text/plain": [
       "<sklearn.metrics._plot.confusion_matrix.ConfusionMatrixDisplay at 0x1de5cda7550>"
      ]
     },
     "execution_count": 327,
     "metadata": {},
     "output_type": "execute_result"
    },
    {
     "data": {
      "image/png": "[encoded data removed]",
      "text/plain": [
       "<Figure size 432x288 with 2 Axes>"
      ]
     },
     "metadata": {
      "needs_background": "light"
     },
     "output_type": "display_data"
    }
   ],
   "source": [
    "confusion_matrix(y_test, y_pred)\n",
    "plot_confusion_matrix(clf, X_test, y_test)"
   ]
  },
  {
   "cell_type": "code",
   "execution_count": 329,
   "metadata": {},
   "outputs": [],
   "source": [
    "def evaluate_model(model, X_test, y_test):\n",
    "    \"\"\"This function predicts X_test and display the information about the predicted value and the real value\"\"\"\n",
    "    y_pred = model.predict(X_test)\n",
    "    \n",
    "    print(classification_report(y_test, y_pred))"
   ]
  },
  {
   "cell_type": "code",
   "execution_count": 330,
   "metadata": {},
   "outputs": [
    {
     "name": "stdout",
     "output_type": "stream",
     "text": [
      "              precision    recall  f1-score   support\n",
      "\n",
      "           0       0.95      0.93      0.94     19812\n",
      "           1       0.94      0.96      0.95     19860\n",
      "           2       0.89      0.91      0.90     19251\n",
      "           3       0.90      0.87      0.88     19606\n",
      "\n",
      "    accuracy                           0.92     78529\n",
      "   macro avg       0.92      0.92      0.92     78529\n",
      "weighted avg       0.92      0.92      0.92     78529\n",
      "\n"
     ]
    }
   ],
   "source": [
    "evaluate_model(clf, X_test, y_test)"
   ]
  },
  {
   "cell_type": "markdown",
   "metadata": {},
   "source": [
    "# MODEL 2"
   ]
  },
  {
   "cell_type": "code",
   "execution_count": 331,
   "metadata": {},
   "outputs": [],
   "source": [
    "def build_model():\n",
    "    \"\"\"This function returns machine learning pipeline\"\"\"\n",
    "    pipeline = Pipeline([\n",
    "\n",
    "       ('clf', KNeighborsClassifier())\n",
    "        #('clf',RandomForestClassifier())\n",
    "    ])\n",
    "\n",
    "    # specify parameters for grid search\n",
    "    parameters = {'clf__n_neighbors'  : [4, 10],\n",
    "\n",
    "\n",
    "   }\n",
    "\n",
    "    # create grid search object\n",
    "    cv = GridSearchCV(pipeline, param_grid = parameters, cv = 3)\n",
    "    # cv = GridSearchCV(pipeline, param_grid=parameters)\n",
    "    return cv"
   ]
  },
  {
   "cell_type": "code",
   "execution_count": 332,
   "metadata": {},
   "outputs": [],
   "source": [
    "model = build_model()"
   ]
  },
  {
   "cell_type": "code",
   "execution_count": 333,
   "metadata": {},
   "outputs": [
    {
     "data": {
      "text/plain": [
       "GridSearchCV(cv=3, estimator=Pipeline(steps=[('clf', KNeighborsClassifier())]),\n",
       "             param_grid={'clf__n_neighbors': [4, 10]})"
      ]
     },
     "execution_count": 333,
     "metadata": {},
     "output_type": "execute_result"
    }
   ],
   "source": [
    "model.fit(X_train, y_train)"
   ]
  },
  {
   "cell_type": "code",
   "execution_count": 334,
   "metadata": {},
   "outputs": [
    {
     "name": "stdout",
     "output_type": "stream",
     "text": [
      "              precision    recall  f1-score   support\n",
      "\n",
      "           0       0.93      0.94      0.93     19812\n",
      "           1       0.93      0.96      0.94     19860\n",
      "           2       0.88      0.92      0.90     19251\n",
      "           3       0.91      0.84      0.88     19606\n",
      "\n",
      "    accuracy                           0.91     78529\n",
      "   macro avg       0.91      0.91      0.91     78529\n",
      "weighted avg       0.91      0.91      0.91     78529\n",
      "\n"
     ]
    }
   ],
   "source": [
    "evaluate_model(model, X_test, y_test)"
   ]
  },
  {
   "cell_type": "code",
   "execution_count": null,
   "metadata": {},
   "outputs": [],
   "source": []
  }
 ],
 "metadata": {
  "kernelspec": {
   "display_name": "Python 3",
   "language": "python",
   "name": "python3"
  },
  "language_info": {
   "codemirror_mode": {
    "name": "ipython",
    "version": 3
   },
   "file_extension": ".py",
   "mimetype": "text/x-python",
   "name": "python",
   "nbconvert_exporter": "python",
   "pygments_lexer": "ipython3",
   "version": "3.8.5"
  }
 },
 "nbformat": 4,
 "nbformat_minor": 4
}
