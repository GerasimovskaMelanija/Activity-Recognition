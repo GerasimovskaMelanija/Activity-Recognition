{
 "cells": [
  {
   "cell_type": "markdown",
   "metadata": {},
   "source": [
    "# Activity Recognition with Machine Learning"
   ]
  },
  {
   "cell_type": "markdown",
   "metadata": {},
   "source": [
    "# Importing Libraries"
   ]
  },
  {
   "cell_type": "code",
   "execution_count": 1,
   "metadata": {},
   "outputs": [],
   "source": [
    "import pandas as pd\n",
    "import numpy as np\n",
    "from matplotlib import pyplot as plt\n",
    "from scipy import signal\n",
    "import seaborn as sns\n",
    "from sklearn.metrics import confusion_matrix\n",
    "from sklearn.metrics import plot_confusion_matrix\n",
    "from sklearn.preprocessing import StandardScaler, MinMaxScaler\n",
    "from sklearn.model_selection import train_test_split\n",
    "from sklearn.metrics import accuracy_score\n",
    "from sklearn.ensemble import RandomForestClassifier\n",
    "from sklearn.preprocessing import LabelEncoder\n",
    "from sklearn.pipeline import Pipeline\n",
    "from sklearn.neighbors import KNeighborsClassifier\n",
    "from sklearn.model_selection import GridSearchCV\n",
    "from sklearn.metrics import classification_report\n",
    "from sklearn.metrics import accuracy_score\n",
    "from scipy import fftpack as fft\n",
    "from sklearn.decomposition import PCA\n",
    "from scipy.stats import kurtosis\n",
    "from scipy.stats import skew\n",
    "from sklearn import svm\n",
    "from sklearn.tree import DecisionTreeClassifier\n",
    "from sklearn.model_selection import cross_val_score\n",
    "from sklearn.ensemble import GradientBoostingClassifier"
   ]
  },
  {
   "cell_type": "code",
   "execution_count": 2,
   "metadata": {},
   "outputs": [],
   "source": [
    "# Reading data\n",
    "data_walking = pd.read_csv('walking.csv', header = None, delimiter = ';')\n",
    "data_sitting = pd.read_csv('sitting.csv', header = None, delimiter = ';', skiprows = 46)\n",
    "data_lying_down = pd.read_csv('lying-down.csv', header = None, delimiter = ';')\n",
    "data_workout = pd.read_csv('workout.csv', header = None, delimiter = ';')\n",
    "# We have four activities: walking, sitting, lying down and working out."
   ]
  },
  {
   "cell_type": "markdown",
   "metadata": {},
   "source": [
    "## Data Exploration"
   ]
  },
  {
   "cell_type": "markdown",
   "metadata": {},
   "source": [
    "We need the accelerometer data, which is label '0' in column 1."
   ]
  },
  {
   "cell_type": "markdown",
   "metadata": {},
   "source": [
    "### Walking"
   ]
  },
  {
   "cell_type": "code",
   "execution_count": 5,
   "metadata": {},
   "outputs": [
    {
     "data": {
      "text/html": [
       "<div>\n",
       "<style scoped>\n",
       "    .dataframe tbody tr th:only-of-type {\n",
       "        vertical-align: middle;\n",
       "    }\n",
       "\n",
       "    .dataframe tbody tr th {\n",
       "        vertical-align: top;\n",
       "    }\n",
       "\n",
       "    .dataframe thead th {\n",
       "        text-align: right;\n",
       "    }\n",
       "</style>\n",
       "<table border=\"1\" class=\"dataframe\">\n",
       "  <thead>\n",
       "    <tr style=\"text-align: right;\">\n",
       "      <th></th>\n",
       "      <th>0</th>\n",
       "      <th>1</th>\n",
       "      <th>2</th>\n",
       "      <th>3</th>\n",
       "      <th>4</th>\n",
       "    </tr>\n",
       "  </thead>\n",
       "  <tbody>\n",
       "    <tr>\n",
       "      <th>0</th>\n",
       "      <td>7</td>\n",
       "      <td>0</td>\n",
       "      <td>-0.450264</td>\n",
       "      <td>3.463198</td>\n",
       "      <td>9.045989</td>\n",
       "    </tr>\n",
       "    <tr>\n",
       "      <th>1</th>\n",
       "      <td>7</td>\n",
       "      <td>13</td>\n",
       "      <td>118.845505</td>\n",
       "      <td>NaN</td>\n",
       "      <td>NaN</td>\n",
       "    </tr>\n",
       "    <tr>\n",
       "      <th>2</th>\n",
       "      <td>60</td>\n",
       "      <td>13</td>\n",
       "      <td>118.845505</td>\n",
       "      <td>NaN</td>\n",
       "      <td>NaN</td>\n",
       "    </tr>\n",
       "    <tr>\n",
       "      <th>3</th>\n",
       "      <td>195</td>\n",
       "      <td>13</td>\n",
       "      <td>101.867580</td>\n",
       "      <td>NaN</td>\n",
       "      <td>NaN</td>\n",
       "    </tr>\n",
       "    <tr>\n",
       "      <th>4</th>\n",
       "      <td>320</td>\n",
       "      <td>13</td>\n",
       "      <td>118.845505</td>\n",
       "      <td>NaN</td>\n",
       "      <td>NaN</td>\n",
       "    </tr>\n",
       "  </tbody>\n",
       "</table>\n",
       "</div>"
      ],
      "text/plain": [
       "     0   1           2         3         4\n",
       "0    7   0   -0.450264  3.463198  9.045989\n",
       "1    7  13  118.845505       NaN       NaN\n",
       "2   60  13  118.845505       NaN       NaN\n",
       "3  195  13  101.867580       NaN       NaN\n",
       "4  320  13  118.845505       NaN       NaN"
      ]
     },
     "execution_count": 5,
     "metadata": {},
     "output_type": "execute_result"
    }
   ],
   "source": [
    "data_walking.head(5)"
   ]
  },
  {
   "cell_type": "code",
   "execution_count": 6,
   "metadata": {},
   "outputs": [
    {
     "data": {
      "text/html": [
       "<div>\n",
       "<style scoped>\n",
       "    .dataframe tbody tr th:only-of-type {\n",
       "        vertical-align: middle;\n",
       "    }\n",
       "\n",
       "    .dataframe tbody tr th {\n",
       "        vertical-align: top;\n",
       "    }\n",
       "\n",
       "    .dataframe thead th {\n",
       "        text-align: right;\n",
       "    }\n",
       "</style>\n",
       "<table border=\"1\" class=\"dataframe\">\n",
       "  <thead>\n",
       "    <tr style=\"text-align: right;\">\n",
       "      <th></th>\n",
       "      <th>1</th>\n",
       "    </tr>\n",
       "  </thead>\n",
       "  <tbody>\n",
       "    <tr>\n",
       "      <th>0</th>\n",
       "      <td>0</td>\n",
       "    </tr>\n",
       "    <tr>\n",
       "      <th>1</th>\n",
       "      <td>13</td>\n",
       "    </tr>\n",
       "    <tr>\n",
       "      <th>2</th>\n",
       "      <td>13</td>\n",
       "    </tr>\n",
       "    <tr>\n",
       "      <th>3</th>\n",
       "      <td>13</td>\n",
       "    </tr>\n",
       "    <tr>\n",
       "      <th>4</th>\n",
       "      <td>13</td>\n",
       "    </tr>\n",
       "    <tr>\n",
       "      <th>...</th>\n",
       "      <td>...</td>\n",
       "    </tr>\n",
       "    <tr>\n",
       "      <th>181656</th>\n",
       "      <td>1</td>\n",
       "    </tr>\n",
       "    <tr>\n",
       "      <th>181657</th>\n",
       "      <td>3</td>\n",
       "    </tr>\n",
       "    <tr>\n",
       "      <th>181658</th>\n",
       "      <td>0</td>\n",
       "    </tr>\n",
       "    <tr>\n",
       "      <th>181659</th>\n",
       "      <td>3</td>\n",
       "    </tr>\n",
       "    <tr>\n",
       "      <th>181660</th>\n",
       "      <td>1</td>\n",
       "    </tr>\n",
       "  </tbody>\n",
       "</table>\n",
       "<p>181661 rows × 1 columns</p>\n",
       "</div>"
      ],
      "text/plain": [
       "         1\n",
       "0        0\n",
       "1       13\n",
       "2       13\n",
       "3       13\n",
       "4       13\n",
       "...     ..\n",
       "181656   1\n",
       "181657   3\n",
       "181658   0\n",
       "181659   3\n",
       "181660   1\n",
       "\n",
       "[181661 rows x 1 columns]"
      ]
     },
     "execution_count": 6,
     "metadata": {},
     "output_type": "execute_result"
    }
   ],
   "source": [
    "data_walking[[1]] # This is column 1"
   ]
  },
  {
   "cell_type": "code",
   "execution_count": 3,
   "metadata": {},
   "outputs": [],
   "source": [
    "walking_accelerometer = data_walking[data_walking[1] == 0] # We will extract only the data with value 0 in column 1"
   ]
  },
  {
   "cell_type": "code",
   "execution_count": 4,
   "metadata": {},
   "outputs": [
    {
     "data": {
      "text/html": [
       "<div>\n",
       "<style scoped>\n",
       "    .dataframe tbody tr th:only-of-type {\n",
       "        vertical-align: middle;\n",
       "    }\n",
       "\n",
       "    .dataframe tbody tr th {\n",
       "        vertical-align: top;\n",
       "    }\n",
       "\n",
       "    .dataframe thead th {\n",
       "        text-align: right;\n",
       "    }\n",
       "</style>\n",
       "<table border=\"1\" class=\"dataframe\">\n",
       "  <thead>\n",
       "    <tr style=\"text-align: right;\">\n",
       "      <th></th>\n",
       "      <th>0</th>\n",
       "      <th>1</th>\n",
       "      <th>2</th>\n",
       "      <th>3</th>\n",
       "      <th>4</th>\n",
       "    </tr>\n",
       "  </thead>\n",
       "  <tbody>\n",
       "    <tr>\n",
       "      <th>0</th>\n",
       "      <td>7</td>\n",
       "      <td>0</td>\n",
       "      <td>-0.450264</td>\n",
       "      <td>3.463198</td>\n",
       "      <td>9.045989</td>\n",
       "    </tr>\n",
       "    <tr>\n",
       "      <th>224</th>\n",
       "      <td>27717</td>\n",
       "      <td>0</td>\n",
       "      <td>-10.442286</td>\n",
       "      <td>-0.179626</td>\n",
       "      <td>1.484912</td>\n",
       "    </tr>\n",
       "    <tr>\n",
       "      <th>225</th>\n",
       "      <td>27731</td>\n",
       "      <td>0</td>\n",
       "      <td>-11.136841</td>\n",
       "      <td>-0.131726</td>\n",
       "      <td>1.609453</td>\n",
       "    </tr>\n",
       "    <tr>\n",
       "      <th>226</th>\n",
       "      <td>27743</td>\n",
       "      <td>0</td>\n",
       "      <td>-11.635005</td>\n",
       "      <td>-0.098196</td>\n",
       "      <td>1.820215</td>\n",
       "    </tr>\n",
       "    <tr>\n",
       "      <th>227</th>\n",
       "      <td>27743</td>\n",
       "      <td>0</td>\n",
       "      <td>-11.754756</td>\n",
       "      <td>-0.174836</td>\n",
       "      <td>2.138753</td>\n",
       "    </tr>\n",
       "    <tr>\n",
       "      <th>...</th>\n",
       "      <td>...</td>\n",
       "      <td>...</td>\n",
       "      <td>...</td>\n",
       "      <td>...</td>\n",
       "      <td>...</td>\n",
       "    </tr>\n",
       "    <tr>\n",
       "      <th>181646</th>\n",
       "      <td>604510</td>\n",
       "      <td>0</td>\n",
       "      <td>-0.098196</td>\n",
       "      <td>3.072810</td>\n",
       "      <td>9.254355</td>\n",
       "    </tr>\n",
       "    <tr>\n",
       "      <th>181649</th>\n",
       "      <td>604510</td>\n",
       "      <td>0</td>\n",
       "      <td>-0.069456</td>\n",
       "      <td>3.226091</td>\n",
       "      <td>9.218430</td>\n",
       "    </tr>\n",
       "    <tr>\n",
       "      <th>181652</th>\n",
       "      <td>604510</td>\n",
       "      <td>0</td>\n",
       "      <td>-0.014370</td>\n",
       "      <td>3.482359</td>\n",
       "      <td>9.192085</td>\n",
       "    </tr>\n",
       "    <tr>\n",
       "      <th>181655</th>\n",
       "      <td>604521</td>\n",
       "      <td>0</td>\n",
       "      <td>-0.026345</td>\n",
       "      <td>3.870352</td>\n",
       "      <td>9.163345</td>\n",
       "    </tr>\n",
       "    <tr>\n",
       "      <th>181658</th>\n",
       "      <td>604533</td>\n",
       "      <td>0</td>\n",
       "      <td>-0.110171</td>\n",
       "      <td>4.418811</td>\n",
       "      <td>9.172925</td>\n",
       "    </tr>\n",
       "  </tbody>\n",
       "</table>\n",
       "<p>58947 rows × 5 columns</p>\n",
       "</div>"
      ],
      "text/plain": [
       "             0  1          2         3         4\n",
       "0            7  0  -0.450264  3.463198  9.045989\n",
       "224      27717  0 -10.442286 -0.179626  1.484912\n",
       "225      27731  0 -11.136841 -0.131726  1.609453\n",
       "226      27743  0 -11.635005 -0.098196  1.820215\n",
       "227      27743  0 -11.754756 -0.174836  2.138753\n",
       "...        ... ..        ...       ...       ...\n",
       "181646  604510  0  -0.098196  3.072810  9.254355\n",
       "181649  604510  0  -0.069456  3.226091  9.218430\n",
       "181652  604510  0  -0.014370  3.482359  9.192085\n",
       "181655  604521  0  -0.026345  3.870352  9.163345\n",
       "181658  604533  0  -0.110171  4.418811  9.172925\n",
       "\n",
       "[58947 rows x 5 columns]"
      ]
     },
     "execution_count": 4,
     "metadata": {},
     "output_type": "execute_result"
    }
   ],
   "source": [
    "walking_accelerometer \n",
    "# The first column is timestamp in milliseconds, the second column is the accelerometer data label, and the next are the values for X, Y and Z-axis"
   ]
  },
  {
   "cell_type": "markdown",
   "metadata": {},
   "source": [
    "We will do the same for the other data."
   ]
  },
  {
   "cell_type": "markdown",
   "metadata": {},
   "source": [
    "### Sitting"
   ]
  },
  {
   "cell_type": "code",
   "execution_count": 5,
   "metadata": {},
   "outputs": [
    {
     "data": {
      "text/html": [
       "<div>\n",
       "<style scoped>\n",
       "    .dataframe tbody tr th:only-of-type {\n",
       "        vertical-align: middle;\n",
       "    }\n",
       "\n",
       "    .dataframe tbody tr th {\n",
       "        vertical-align: top;\n",
       "    }\n",
       "\n",
       "    .dataframe thead th {\n",
       "        text-align: right;\n",
       "    }\n",
       "</style>\n",
       "<table border=\"1\" class=\"dataframe\">\n",
       "  <thead>\n",
       "    <tr style=\"text-align: right;\">\n",
       "      <th></th>\n",
       "      <th>0</th>\n",
       "      <th>1</th>\n",
       "      <th>2</th>\n",
       "      <th>3</th>\n",
       "      <th>4</th>\n",
       "    </tr>\n",
       "  </thead>\n",
       "  <tbody>\n",
       "    <tr>\n",
       "      <th>0</th>\n",
       "      <td>5735</td>\n",
       "      <td>0</td>\n",
       "      <td>-1.736389</td>\n",
       "      <td>3.333867</td>\n",
       "      <td>9.335787</td>\n",
       "    </tr>\n",
       "    <tr>\n",
       "      <th>1</th>\n",
       "      <td>5745</td>\n",
       "      <td>0</td>\n",
       "      <td>-1.501677</td>\n",
       "      <td>3.199746</td>\n",
       "      <td>9.263936</td>\n",
       "    </tr>\n",
       "    <tr>\n",
       "      <th>2</th>\n",
       "      <td>5750</td>\n",
       "      <td>0</td>\n",
       "      <td>-1.432222</td>\n",
       "      <td>3.091970</td>\n",
       "      <td>9.309442</td>\n",
       "    </tr>\n",
       "    <tr>\n",
       "      <th>3</th>\n",
       "      <td>5752</td>\n",
       "      <td>0</td>\n",
       "      <td>-1.226250</td>\n",
       "      <td>3.350632</td>\n",
       "      <td>9.180110</td>\n",
       "    </tr>\n",
       "    <tr>\n",
       "      <th>4</th>\n",
       "      <td>5763</td>\n",
       "      <td>0</td>\n",
       "      <td>-1.384321</td>\n",
       "      <td>3.503914</td>\n",
       "      <td>9.151370</td>\n",
       "    </tr>\n",
       "    <tr>\n",
       "      <th>...</th>\n",
       "      <td>...</td>\n",
       "      <td>...</td>\n",
       "      <td>...</td>\n",
       "      <td>...</td>\n",
       "      <td>...</td>\n",
       "    </tr>\n",
       "    <tr>\n",
       "      <th>189835</th>\n",
       "      <td>609188</td>\n",
       "      <td>1</td>\n",
       "      <td>-1.401922</td>\n",
       "      <td>0.888821</td>\n",
       "      <td>9.665143</td>\n",
       "    </tr>\n",
       "    <tr>\n",
       "      <th>189836</th>\n",
       "      <td>609198</td>\n",
       "      <td>0</td>\n",
       "      <td>-1.556763</td>\n",
       "      <td>1.441802</td>\n",
       "      <td>9.592053</td>\n",
       "    </tr>\n",
       "    <tr>\n",
       "      <th>189837</th>\n",
       "      <td>609198</td>\n",
       "      <td>1</td>\n",
       "      <td>-1.405348</td>\n",
       "      <td>0.900740</td>\n",
       "      <td>9.663542</td>\n",
       "    </tr>\n",
       "    <tr>\n",
       "      <th>189838</th>\n",
       "      <td>609198</td>\n",
       "      <td>3</td>\n",
       "      <td>0.090408</td>\n",
       "      <td>0.026878</td>\n",
       "      <td>0.007330</td>\n",
       "    </tr>\n",
       "    <tr>\n",
       "      <th>189839</th>\n",
       "      <td>609200</td>\n",
       "      <td>13</td>\n",
       "      <td>0.000000</td>\n",
       "      <td>NaN</td>\n",
       "      <td>NaN</td>\n",
       "    </tr>\n",
       "  </tbody>\n",
       "</table>\n",
       "<p>189840 rows × 5 columns</p>\n",
       "</div>"
      ],
      "text/plain": [
       "             0   1         2         3         4\n",
       "0         5735   0 -1.736389  3.333867  9.335787\n",
       "1         5745   0 -1.501677  3.199746  9.263936\n",
       "2         5750   0 -1.432222  3.091970  9.309442\n",
       "3         5752   0 -1.226250  3.350632  9.180110\n",
       "4         5763   0 -1.384321  3.503914  9.151370\n",
       "...        ...  ..       ...       ...       ...\n",
       "189835  609188   1 -1.401922  0.888821  9.665143\n",
       "189836  609198   0 -1.556763  1.441802  9.592053\n",
       "189837  609198   1 -1.405348  0.900740  9.663542\n",
       "189838  609198   3  0.090408  0.026878  0.007330\n",
       "189839  609200  13  0.000000       NaN       NaN\n",
       "\n",
       "[189840 rows x 5 columns]"
      ]
     },
     "execution_count": 5,
     "metadata": {},
     "output_type": "execute_result"
    }
   ],
   "source": [
    "data_sitting"
   ]
  },
  {
   "cell_type": "code",
   "execution_count": 6,
   "metadata": {},
   "outputs": [
    {
     "data": {
      "text/html": [
       "<div>\n",
       "<style scoped>\n",
       "    .dataframe tbody tr th:only-of-type {\n",
       "        vertical-align: middle;\n",
       "    }\n",
       "\n",
       "    .dataframe tbody tr th {\n",
       "        vertical-align: top;\n",
       "    }\n",
       "\n",
       "    .dataframe thead th {\n",
       "        text-align: right;\n",
       "    }\n",
       "</style>\n",
       "<table border=\"1\" class=\"dataframe\">\n",
       "  <thead>\n",
       "    <tr style=\"text-align: right;\">\n",
       "      <th></th>\n",
       "      <th>0</th>\n",
       "      <th>1</th>\n",
       "      <th>2</th>\n",
       "      <th>3</th>\n",
       "      <th>4</th>\n",
       "    </tr>\n",
       "  </thead>\n",
       "  <tbody>\n",
       "    <tr>\n",
       "      <th>0</th>\n",
       "      <td>5735</td>\n",
       "      <td>0</td>\n",
       "      <td>-1.736389</td>\n",
       "      <td>3.333867</td>\n",
       "      <td>9.335787</td>\n",
       "    </tr>\n",
       "    <tr>\n",
       "      <th>1</th>\n",
       "      <td>5745</td>\n",
       "      <td>0</td>\n",
       "      <td>-1.501677</td>\n",
       "      <td>3.199746</td>\n",
       "      <td>9.263936</td>\n",
       "    </tr>\n",
       "    <tr>\n",
       "      <th>2</th>\n",
       "      <td>5750</td>\n",
       "      <td>0</td>\n",
       "      <td>-1.432222</td>\n",
       "      <td>3.091970</td>\n",
       "      <td>9.309442</td>\n",
       "    </tr>\n",
       "    <tr>\n",
       "      <th>3</th>\n",
       "      <td>5752</td>\n",
       "      <td>0</td>\n",
       "      <td>-1.226250</td>\n",
       "      <td>3.350632</td>\n",
       "      <td>9.180110</td>\n",
       "    </tr>\n",
       "    <tr>\n",
       "      <th>4</th>\n",
       "      <td>5763</td>\n",
       "      <td>0</td>\n",
       "      <td>-1.384321</td>\n",
       "      <td>3.503914</td>\n",
       "      <td>9.151370</td>\n",
       "    </tr>\n",
       "    <tr>\n",
       "      <th>...</th>\n",
       "      <td>...</td>\n",
       "      <td>...</td>\n",
       "      <td>...</td>\n",
       "      <td>...</td>\n",
       "      <td>...</td>\n",
       "    </tr>\n",
       "    <tr>\n",
       "      <th>189824</th>\n",
       "      <td>609158</td>\n",
       "      <td>0</td>\n",
       "      <td>-1.257385</td>\n",
       "      <td>0.658630</td>\n",
       "      <td>9.841136</td>\n",
       "    </tr>\n",
       "    <tr>\n",
       "      <th>189827</th>\n",
       "      <td>609170</td>\n",
       "      <td>0</td>\n",
       "      <td>-1.465752</td>\n",
       "      <td>0.574805</td>\n",
       "      <td>9.982442</td>\n",
       "    </tr>\n",
       "    <tr>\n",
       "      <th>189830</th>\n",
       "      <td>609181</td>\n",
       "      <td>0</td>\n",
       "      <td>-1.563948</td>\n",
       "      <td>0.725691</td>\n",
       "      <td>9.972861</td>\n",
       "    </tr>\n",
       "    <tr>\n",
       "      <th>189833</th>\n",
       "      <td>609188</td>\n",
       "      <td>0</td>\n",
       "      <td>-1.508862</td>\n",
       "      <td>1.063389</td>\n",
       "      <td>9.824370</td>\n",
       "    </tr>\n",
       "    <tr>\n",
       "      <th>189836</th>\n",
       "      <td>609198</td>\n",
       "      <td>0</td>\n",
       "      <td>-1.556763</td>\n",
       "      <td>1.441802</td>\n",
       "      <td>9.592053</td>\n",
       "    </tr>\n",
       "  </tbody>\n",
       "</table>\n",
       "<p>61682 rows × 5 columns</p>\n",
       "</div>"
      ],
      "text/plain": [
       "             0  1         2         3         4\n",
       "0         5735  0 -1.736389  3.333867  9.335787\n",
       "1         5745  0 -1.501677  3.199746  9.263936\n",
       "2         5750  0 -1.432222  3.091970  9.309442\n",
       "3         5752  0 -1.226250  3.350632  9.180110\n",
       "4         5763  0 -1.384321  3.503914  9.151370\n",
       "...        ... ..       ...       ...       ...\n",
       "189824  609158  0 -1.257385  0.658630  9.841136\n",
       "189827  609170  0 -1.465752  0.574805  9.982442\n",
       "189830  609181  0 -1.563948  0.725691  9.972861\n",
       "189833  609188  0 -1.508862  1.063389  9.824370\n",
       "189836  609198  0 -1.556763  1.441802  9.592053\n",
       "\n",
       "[61682 rows x 5 columns]"
      ]
     },
     "execution_count": 6,
     "metadata": {},
     "output_type": "execute_result"
    }
   ],
   "source": [
    "sitting_accelerometer = data_sitting[data_sitting[1] == 0]\n",
    "sitting_accelerometer"
   ]
  },
  {
   "cell_type": "markdown",
   "metadata": {},
   "source": [
    "### Lying down"
   ]
  },
  {
   "cell_type": "code",
   "execution_count": 7,
   "metadata": {},
   "outputs": [
    {
     "data": {
      "text/html": [
       "<div>\n",
       "<style scoped>\n",
       "    .dataframe tbody tr th:only-of-type {\n",
       "        vertical-align: middle;\n",
       "    }\n",
       "\n",
       "    .dataframe tbody tr th {\n",
       "        vertical-align: top;\n",
       "    }\n",
       "\n",
       "    .dataframe thead th {\n",
       "        text-align: right;\n",
       "    }\n",
       "</style>\n",
       "<table border=\"1\" class=\"dataframe\">\n",
       "  <thead>\n",
       "    <tr style=\"text-align: right;\">\n",
       "      <th></th>\n",
       "      <th>0</th>\n",
       "      <th>1</th>\n",
       "      <th>2</th>\n",
       "      <th>3</th>\n",
       "      <th>4</th>\n",
       "    </tr>\n",
       "  </thead>\n",
       "  <tbody>\n",
       "    <tr>\n",
       "      <th>0</th>\n",
       "      <td>8</td>\n",
       "      <td>0</td>\n",
       "      <td>-1.659749</td>\n",
       "      <td>6.365962</td>\n",
       "      <td>7.616162</td>\n",
       "    </tr>\n",
       "    <tr>\n",
       "      <th>1</th>\n",
       "      <td>8</td>\n",
       "      <td>13</td>\n",
       "      <td>0.000000</td>\n",
       "      <td>NaN</td>\n",
       "      <td>NaN</td>\n",
       "    </tr>\n",
       "    <tr>\n",
       "      <th>2</th>\n",
       "      <td>35</td>\n",
       "      <td>0</td>\n",
       "      <td>-0.677791</td>\n",
       "      <td>6.025869</td>\n",
       "      <td>7.891590</td>\n",
       "    </tr>\n",
       "    <tr>\n",
       "      <th>3</th>\n",
       "      <td>35</td>\n",
       "      <td>0</td>\n",
       "      <td>-0.866997</td>\n",
       "      <td>6.116880</td>\n",
       "      <td>7.903565</td>\n",
       "    </tr>\n",
       "    <tr>\n",
       "      <th>4</th>\n",
       "      <td>41</td>\n",
       "      <td>0</td>\n",
       "      <td>-0.902922</td>\n",
       "      <td>6.112090</td>\n",
       "      <td>7.893985</td>\n",
       "    </tr>\n",
       "  </tbody>\n",
       "</table>\n",
       "</div>"
      ],
      "text/plain": [
       "    0   1         2         3         4\n",
       "0   8   0 -1.659749  6.365962  7.616162\n",
       "1   8  13  0.000000       NaN       NaN\n",
       "2  35   0 -0.677791  6.025869  7.891590\n",
       "3  35   0 -0.866997  6.116880  7.903565\n",
       "4  41   0 -0.902922  6.112090  7.893985"
      ]
     },
     "execution_count": 7,
     "metadata": {},
     "output_type": "execute_result"
    }
   ],
   "source": [
    "data_lying_down.head(5)"
   ]
  },
  {
   "cell_type": "code",
   "execution_count": 8,
   "metadata": {},
   "outputs": [
    {
     "data": {
      "text/html": [
       "<div>\n",
       "<style scoped>\n",
       "    .dataframe tbody tr th:only-of-type {\n",
       "        vertical-align: middle;\n",
       "    }\n",
       "\n",
       "    .dataframe tbody tr th {\n",
       "        vertical-align: top;\n",
       "    }\n",
       "\n",
       "    .dataframe thead th {\n",
       "        text-align: right;\n",
       "    }\n",
       "</style>\n",
       "<table border=\"1\" class=\"dataframe\">\n",
       "  <thead>\n",
       "    <tr style=\"text-align: right;\">\n",
       "      <th></th>\n",
       "      <th>0</th>\n",
       "      <th>1</th>\n",
       "      <th>2</th>\n",
       "      <th>3</th>\n",
       "      <th>4</th>\n",
       "    </tr>\n",
       "  </thead>\n",
       "  <tbody>\n",
       "    <tr>\n",
       "      <th>0</th>\n",
       "      <td>8</td>\n",
       "      <td>0</td>\n",
       "      <td>-1.659749</td>\n",
       "      <td>6.365962</td>\n",
       "      <td>7.616162</td>\n",
       "    </tr>\n",
       "    <tr>\n",
       "      <th>2</th>\n",
       "      <td>35</td>\n",
       "      <td>0</td>\n",
       "      <td>-0.677791</td>\n",
       "      <td>6.025869</td>\n",
       "      <td>7.891590</td>\n",
       "    </tr>\n",
       "    <tr>\n",
       "      <th>3</th>\n",
       "      <td>35</td>\n",
       "      <td>0</td>\n",
       "      <td>-0.866997</td>\n",
       "      <td>6.116880</td>\n",
       "      <td>7.903565</td>\n",
       "    </tr>\n",
       "    <tr>\n",
       "      <th>4</th>\n",
       "      <td>41</td>\n",
       "      <td>0</td>\n",
       "      <td>-0.902922</td>\n",
       "      <td>6.112090</td>\n",
       "      <td>7.893985</td>\n",
       "    </tr>\n",
       "    <tr>\n",
       "      <th>5</th>\n",
       "      <td>51</td>\n",
       "      <td>0</td>\n",
       "      <td>-0.797542</td>\n",
       "      <td>6.057004</td>\n",
       "      <td>7.850874</td>\n",
       "    </tr>\n",
       "    <tr>\n",
       "      <th>...</th>\n",
       "      <td>...</td>\n",
       "      <td>...</td>\n",
       "      <td>...</td>\n",
       "      <td>...</td>\n",
       "      <td>...</td>\n",
       "    </tr>\n",
       "    <tr>\n",
       "      <th>190928</th>\n",
       "      <td>607597</td>\n",
       "      <td>0</td>\n",
       "      <td>-0.886157</td>\n",
       "      <td>8.844808</td>\n",
       "      <td>-3.724256</td>\n",
       "    </tr>\n",
       "    <tr>\n",
       "      <th>190931</th>\n",
       "      <td>607607</td>\n",
       "      <td>0</td>\n",
       "      <td>-0.895737</td>\n",
       "      <td>9.034014</td>\n",
       "      <td>-3.690725</td>\n",
       "    </tr>\n",
       "    <tr>\n",
       "      <th>190934</th>\n",
       "      <td>607620</td>\n",
       "      <td>0</td>\n",
       "      <td>-1.367556</td>\n",
       "      <td>9.563313</td>\n",
       "      <td>-3.590134</td>\n",
       "    </tr>\n",
       "    <tr>\n",
       "      <th>190937</th>\n",
       "      <td>607625</td>\n",
       "      <td>0</td>\n",
       "      <td>-2.627337</td>\n",
       "      <td>9.970467</td>\n",
       "      <td>-3.647615</td>\n",
       "    </tr>\n",
       "    <tr>\n",
       "      <th>190940</th>\n",
       "      <td>607637</td>\n",
       "      <td>0</td>\n",
       "      <td>-3.460803</td>\n",
       "      <td>9.433982</td>\n",
       "      <td>-3.930227</td>\n",
       "    </tr>\n",
       "  </tbody>\n",
       "</table>\n",
       "<p>62037 rows × 5 columns</p>\n",
       "</div>"
      ],
      "text/plain": [
       "             0  1         2         3         4\n",
       "0            8  0 -1.659749  6.365962  7.616162\n",
       "2           35  0 -0.677791  6.025869  7.891590\n",
       "3           35  0 -0.866997  6.116880  7.903565\n",
       "4           41  0 -0.902922  6.112090  7.893985\n",
       "5           51  0 -0.797542  6.057004  7.850874\n",
       "...        ... ..       ...       ...       ...\n",
       "190928  607597  0 -0.886157  8.844808 -3.724256\n",
       "190931  607607  0 -0.895737  9.034014 -3.690725\n",
       "190934  607620  0 -1.367556  9.563313 -3.590134\n",
       "190937  607625  0 -2.627337  9.970467 -3.647615\n",
       "190940  607637  0 -3.460803  9.433982 -3.930227\n",
       "\n",
       "[62037 rows x 5 columns]"
      ]
     },
     "execution_count": 8,
     "metadata": {},
     "output_type": "execute_result"
    }
   ],
   "source": [
    "lying_accelerometer = data_lying_down[data_lying_down[1] == 0]\n",
    "lying_accelerometer"
   ]
  },
  {
   "cell_type": "markdown",
   "metadata": {},
   "source": [
    "### Workout"
   ]
  },
  {
   "cell_type": "code",
   "execution_count": 9,
   "metadata": {},
   "outputs": [
    {
     "data": {
      "text/html": [
       "<div>\n",
       "<style scoped>\n",
       "    .dataframe tbody tr th:only-of-type {\n",
       "        vertical-align: middle;\n",
       "    }\n",
       "\n",
       "    .dataframe tbody tr th {\n",
       "        vertical-align: top;\n",
       "    }\n",
       "\n",
       "    .dataframe thead th {\n",
       "        text-align: right;\n",
       "    }\n",
       "</style>\n",
       "<table border=\"1\" class=\"dataframe\">\n",
       "  <thead>\n",
       "    <tr style=\"text-align: right;\">\n",
       "      <th></th>\n",
       "      <th>0</th>\n",
       "      <th>1</th>\n",
       "      <th>2</th>\n",
       "      <th>3</th>\n",
       "      <th>4</th>\n",
       "    </tr>\n",
       "  </thead>\n",
       "  <tbody>\n",
       "    <tr>\n",
       "      <th>0</th>\n",
       "      <td>5</td>\n",
       "      <td>0</td>\n",
       "      <td>-0.067061</td>\n",
       "      <td>8.423284</td>\n",
       "      <td>5.324129</td>\n",
       "    </tr>\n",
       "    <tr>\n",
       "      <th>1</th>\n",
       "      <td>6</td>\n",
       "      <td>13</td>\n",
       "      <td>0.000000</td>\n",
       "      <td>NaN</td>\n",
       "      <td>NaN</td>\n",
       "    </tr>\n",
       "    <tr>\n",
       "      <th>2</th>\n",
       "      <td>53</td>\n",
       "      <td>13</td>\n",
       "      <td>0.000000</td>\n",
       "      <td>NaN</td>\n",
       "      <td>NaN</td>\n",
       "    </tr>\n",
       "    <tr>\n",
       "      <th>3</th>\n",
       "      <td>187</td>\n",
       "      <td>13</td>\n",
       "      <td>0.000000</td>\n",
       "      <td>NaN</td>\n",
       "      <td>NaN</td>\n",
       "    </tr>\n",
       "    <tr>\n",
       "      <th>4</th>\n",
       "      <td>316</td>\n",
       "      <td>13</td>\n",
       "      <td>0.000000</td>\n",
       "      <td>NaN</td>\n",
       "      <td>NaN</td>\n",
       "    </tr>\n",
       "  </tbody>\n",
       "</table>\n",
       "</div>"
      ],
      "text/plain": [
       "     0   1         2         3         4\n",
       "0    5   0 -0.067061  8.423284  5.324129\n",
       "1    6  13  0.000000       NaN       NaN\n",
       "2   53  13  0.000000       NaN       NaN\n",
       "3  187  13  0.000000       NaN       NaN\n",
       "4  316  13  0.000000       NaN       NaN"
      ]
     },
     "execution_count": 9,
     "metadata": {},
     "output_type": "execute_result"
    }
   ],
   "source": [
    "data_workout.head(5)"
   ]
  },
  {
   "cell_type": "code",
   "execution_count": 10,
   "metadata": {},
   "outputs": [
    {
     "data": {
      "text/html": [
       "<div>\n",
       "<style scoped>\n",
       "    .dataframe tbody tr th:only-of-type {\n",
       "        vertical-align: middle;\n",
       "    }\n",
       "\n",
       "    .dataframe tbody tr th {\n",
       "        vertical-align: top;\n",
       "    }\n",
       "\n",
       "    .dataframe thead th {\n",
       "        text-align: right;\n",
       "    }\n",
       "</style>\n",
       "<table border=\"1\" class=\"dataframe\">\n",
       "  <thead>\n",
       "    <tr style=\"text-align: right;\">\n",
       "      <th></th>\n",
       "      <th>0</th>\n",
       "      <th>1</th>\n",
       "      <th>2</th>\n",
       "      <th>3</th>\n",
       "      <th>4</th>\n",
       "    </tr>\n",
       "  </thead>\n",
       "  <tbody>\n",
       "    <tr>\n",
       "      <th>0</th>\n",
       "      <td>5</td>\n",
       "      <td>0</td>\n",
       "      <td>-0.067061</td>\n",
       "      <td>8.423284</td>\n",
       "      <td>5.324129</td>\n",
       "    </tr>\n",
       "    <tr>\n",
       "      <th>43</th>\n",
       "      <td>5157</td>\n",
       "      <td>0</td>\n",
       "      <td>2.854863</td>\n",
       "      <td>-1.980681</td>\n",
       "      <td>3.978128</td>\n",
       "    </tr>\n",
       "    <tr>\n",
       "      <th>44</th>\n",
       "      <td>5164</td>\n",
       "      <td>0</td>\n",
       "      <td>3.262017</td>\n",
       "      <td>-2.450105</td>\n",
       "      <td>3.554209</td>\n",
       "    </tr>\n",
       "    <tr>\n",
       "      <th>45</th>\n",
       "      <td>5169</td>\n",
       "      <td>0</td>\n",
       "      <td>3.415298</td>\n",
       "      <td>-2.543511</td>\n",
       "      <td>3.755391</td>\n",
       "    </tr>\n",
       "    <tr>\n",
       "      <th>46</th>\n",
       "      <td>5180</td>\n",
       "      <td>0</td>\n",
       "      <td>3.156636</td>\n",
       "      <td>-2.304009</td>\n",
       "      <td>4.069139</td>\n",
       "    </tr>\n",
       "    <tr>\n",
       "      <th>...</th>\n",
       "      <td>...</td>\n",
       "      <td>...</td>\n",
       "      <td>...</td>\n",
       "      <td>...</td>\n",
       "      <td>...</td>\n",
       "    </tr>\n",
       "    <tr>\n",
       "      <th>189232</th>\n",
       "      <td>606600</td>\n",
       "      <td>0</td>\n",
       "      <td>0.067061</td>\n",
       "      <td>4.734954</td>\n",
       "      <td>8.176597</td>\n",
       "    </tr>\n",
       "    <tr>\n",
       "      <th>189235</th>\n",
       "      <td>606610</td>\n",
       "      <td>0</td>\n",
       "      <td>0.747246</td>\n",
       "      <td>4.770879</td>\n",
       "      <td>8.095166</td>\n",
       "    </tr>\n",
       "    <tr>\n",
       "      <th>189238</th>\n",
       "      <td>606623</td>\n",
       "      <td>0</td>\n",
       "      <td>0.584385</td>\n",
       "      <td>4.509822</td>\n",
       "      <td>8.382568</td>\n",
       "    </tr>\n",
       "    <tr>\n",
       "      <th>189241</th>\n",
       "      <td>606632</td>\n",
       "      <td>0</td>\n",
       "      <td>0.512534</td>\n",
       "      <td>4.129014</td>\n",
       "      <td>8.669971</td>\n",
       "    </tr>\n",
       "    <tr>\n",
       "      <th>189244</th>\n",
       "      <td>606642</td>\n",
       "      <td>0</td>\n",
       "      <td>0.373623</td>\n",
       "      <td>4.229605</td>\n",
       "      <td>8.998089</td>\n",
       "    </tr>\n",
       "  </tbody>\n",
       "</table>\n",
       "<p>61475 rows × 5 columns</p>\n",
       "</div>"
      ],
      "text/plain": [
       "             0  1         2         3         4\n",
       "0            5  0 -0.067061  8.423284  5.324129\n",
       "43        5157  0  2.854863 -1.980681  3.978128\n",
       "44        5164  0  3.262017 -2.450105  3.554209\n",
       "45        5169  0  3.415298 -2.543511  3.755391\n",
       "46        5180  0  3.156636 -2.304009  4.069139\n",
       "...        ... ..       ...       ...       ...\n",
       "189232  606600  0  0.067061  4.734954  8.176597\n",
       "189235  606610  0  0.747246  4.770879  8.095166\n",
       "189238  606623  0  0.584385  4.509822  8.382568\n",
       "189241  606632  0  0.512534  4.129014  8.669971\n",
       "189244  606642  0  0.373623  4.229605  8.998089\n",
       "\n",
       "[61475 rows x 5 columns]"
      ]
     },
     "execution_count": 10,
     "metadata": {},
     "output_type": "execute_result"
    }
   ],
   "source": [
    "workout_accelerometer = data_workout[data_workout[1] == 0]\n",
    "workout_accelerometer"
   ]
  },
  {
   "cell_type": "markdown",
   "metadata": {},
   "source": [
    "So, in the next section, we will be working with: walking_accelerometer, sitting_accelerometer, lying_accelerometer and workout_accelerometer.<br/>\n",
    "The duration of the data is 10 minutes. <br/>\n",
    "We have 58947 data samples for walking_accelerometer, 61682 samples for sitting_accelerometer, 62037 samples for lying_accelerometer and 61475 samples for workout_accelerometer. So, we are getting 100 samples in one second.<br/>\n",
    "We will take 60 000 samples for the other measurements, and 58 000 for sitting.<br/>\n"
   ]
  },
  {
   "cell_type": "code",
   "execution_count": 11,
   "metadata": {},
   "outputs": [],
   "source": [
    "walking_accelerometer = walking_accelerometer.iloc[1:58001] # We do not need the first row, since it is not part of one whole series\n",
    "sitting_accelerometer = sitting_accelerometer.iloc[:60000]\n",
    "lying_accelerometer = lying_accelerometer.iloc[:60000]\n",
    "workout_accelerometer = workout_accelerometer.iloc[1:60001]"
   ]
  },
  {
   "cell_type": "markdown",
   "metadata": {},
   "source": [
    "Rename the columns into axis X, axis Y and axis Z:"
   ]
  },
  {
   "cell_type": "code",
   "execution_count": 12,
   "metadata": {},
   "outputs": [],
   "source": [
    "walking_accelerometer = walking_accelerometer.rename(columns = {2:'x', 3:'y', 4:'z'}).drop(labels = 1, axis = 1)\n",
    "sitting_accelerometer = sitting_accelerometer.rename(columns = {2:'x', 3:'y', 4:'z'}).drop(labels = 1, axis = 1)\n",
    "lying_accelerometer = lying_accelerometer.rename(columns = {2:'x', 3:'y', 4:'z'}).drop(labels = 1, axis = 1)\n",
    "workout_accelerometer = workout_accelerometer.rename(columns = {2:'x', 3:'y', 4:'z'}).drop(labels = 1, axis = 1)"
   ]
  },
  {
   "cell_type": "markdown",
   "metadata": {},
   "source": [
    "Let's plot the distribution of the data in order to find out more about it."
   ]
  },
  {
   "cell_type": "code",
   "execution_count": 13,
   "metadata": {},
   "outputs": [
    {
     "data": {
      "text/plain": [
       "[<matplotlib.lines.Line2D at 0x200c24ed5b0>]"
      ]
     },
     "execution_count": 13,
     "metadata": {},
     "output_type": "execute_result"
    },
    {
     "data": {
      "image/png": "[encoded data removed]",
      "text/plain": [
       "<Figure size 432x288 with 1 Axes>"
      ]
     },
     "metadata": {
      "needs_background": "light"
     },
     "output_type": "display_data"
    },
    {
     "data": {
      "image/png": "[encoded data removed]",
      "text/plain": [
       "<Figure size 432x288 with 1 Axes>"
      ]
     },
     "metadata": {
      "needs_background": "light"
     },
     "output_type": "display_data"
    },
    {
     "data": {
      "image/png": "[encoded data removed]",
      "text/plain": [
       "<Figure size 432x288 with 1 Axes>"
      ]
     },
     "metadata": {
      "needs_background": "light"
     },
     "output_type": "display_data"
    }
   ],
   "source": [
    "# Walking accelerometer\n",
    "lista = [x for x in range (0,walking_accelerometer.shape[0])]\n",
    "plt.figure()\n",
    "plt.plot(lista, walking_accelerometer[['x']])\n",
    "plt.figure()\n",
    "plt.plot(lista, walking_accelerometer[['y']])\n",
    "plt.figure()\n",
    "plt.plot(lista, walking_accelerometer[['z']])"
   ]
  },
  {
   "cell_type": "markdown",
   "metadata": {},
   "source": [
    "We can see that there is one part of the signal that is not looking good. This could be some error during data collection or just the movement of the hand of the person while walking was changed."
   ]
  },
  {
   "cell_type": "code",
   "execution_count": 14,
   "metadata": {},
   "outputs": [
    {
     "data": {
      "text/plain": [
       "[<matplotlib.lines.Line2D at 0x200c66efdf0>]"
      ]
     },
     "execution_count": 14,
     "metadata": {},
     "output_type": "execute_result"
    },
    {
     "data": {
      "image/png": "[encoded data removed]",
      "text/plain": [
       "<Figure size 432x288 with 1 Axes>"
      ]
     },
     "metadata": {
      "needs_background": "light"
     },
     "output_type": "display_data"
    },
    {
     "data": {
      "image/png": "[encoded data removed]",
      "text/plain": [
       "<Figure size 432x288 with 1 Axes>"
      ]
     },
     "metadata": {
      "needs_background": "light"
     },
     "output_type": "display_data"
    },
    {
     "data": {
      "image/png": "[encoded data removed]",
      "text/plain": [
       "<Figure size 432x288 with 1 Axes>"
      ]
     },
     "metadata": {
      "needs_background": "light"
     },
     "output_type": "display_data"
    }
   ],
   "source": [
    "# Sitting accelerometer\n",
    "plt.figure()\n",
    "plt.plot(sitting_accelerometer[['x']])\n",
    "plt.figure()\n",
    "plt.plot(sitting_accelerometer[['y']])\n",
    "plt.figure()\n",
    "plt.plot(sitting_accelerometer[['z']])"
   ]
  },
  {
   "cell_type": "code",
   "execution_count": 15,
   "metadata": {},
   "outputs": [
    {
     "data": {
      "text/plain": [
       "[<matplotlib.lines.Line2D at 0x200c77d8b50>]"
      ]
     },
     "execution_count": 15,
     "metadata": {},
     "output_type": "execute_result"
    },
    {
     "data": {
      "image/png": "[encoded data removed]",
      "text/plain": [
       "<Figure size 432x288 with 1 Axes>"
      ]
     },
     "metadata": {
      "needs_background": "light"
     },
     "output_type": "display_data"
    },
    {
     "data": {
      "image/png": "[encoded data removed]",
      "text/plain": [
       "<Figure size 432x288 with 1 Axes>"
      ]
     },
     "metadata": {
      "needs_background": "light"
     },
     "output_type": "display_data"
    },
    {
     "data": {
      "image/png": "[encoded data removed]",
      "text/plain": [
       "<Figure size 432x288 with 1 Axes>"
      ]
     },
     "metadata": {
      "needs_background": "light"
     },
     "output_type": "display_data"
    }
   ],
   "source": [
    "# Lying accelerometer\n",
    "plt.figure()\n",
    "plt.plot(lying_accelerometer[['x']])\n",
    "plt.figure()\n",
    "plt.plot(lying_accelerometer[['y']])\n",
    "plt.figure()\n",
    "plt.plot(lying_accelerometer[['z']])"
   ]
  },
  {
   "cell_type": "code",
   "execution_count": 16,
   "metadata": {},
   "outputs": [
    {
     "data": {
      "text/plain": [
       "[<matplotlib.lines.Line2D at 0x200c25b87f0>]"
      ]
     },
     "execution_count": 16,
     "metadata": {},
     "output_type": "execute_result"
    },
    {
     "data": {
      "image/png": "[encoded data removed]",
      "text/plain": [
       "<Figure size 432x288 with 1 Axes>"
      ]
     },
     "metadata": {
      "needs_background": "light"
     },
     "output_type": "display_data"
    },
    {
     "data": {
      "image/png": "[encoded data removed]",
      "text/plain": [
       "<Figure size 432x288 with 1 Axes>"
      ]
     },
     "metadata": {
      "needs_background": "light"
     },
     "output_type": "display_data"
    },
    {
     "data": {
      "image/png": "[encoded data removed]",
      "text/plain": [
       "<Figure size 432x288 with 1 Axes>"
      ]
     },
     "metadata": {
      "needs_background": "light"
     },
     "output_type": "display_data"
    }
   ],
   "source": [
    "# Workout accelerometer\n",
    "plt.figure()\n",
    "plt.plot(workout_accelerometer[['x']])\n",
    "plt.figure()\n",
    "plt.plot(workout_accelerometer[['y']])\n",
    "plt.figure()\n",
    "plt.plot(workout_accelerometer[['z']])"
   ]
  },
  {
   "cell_type": "markdown",
   "metadata": {},
   "source": [
    "### Basic statistics"
   ]
  },
  {
   "cell_type": "code",
   "execution_count": 17,
   "metadata": {},
   "outputs": [
    {
     "data": {
      "text/html": [
       "<div>\n",
       "<style scoped>\n",
       "    .dataframe tbody tr th:only-of-type {\n",
       "        vertical-align: middle;\n",
       "    }\n",
       "\n",
       "    .dataframe tbody tr th {\n",
       "        vertical-align: top;\n",
       "    }\n",
       "\n",
       "    .dataframe thead th {\n",
       "        text-align: right;\n",
       "    }\n",
       "</style>\n",
       "<table border=\"1\" class=\"dataframe\">\n",
       "  <thead>\n",
       "    <tr style=\"text-align: right;\">\n",
       "      <th></th>\n",
       "      <th>0</th>\n",
       "      <th>x</th>\n",
       "      <th>y</th>\n",
       "      <th>z</th>\n",
       "    </tr>\n",
       "  </thead>\n",
       "  <tbody>\n",
       "    <tr>\n",
       "      <th>count</th>\n",
       "      <td>58000.000000</td>\n",
       "      <td>58000.000000</td>\n",
       "      <td>58000.000000</td>\n",
       "      <td>58000.000000</td>\n",
       "    </tr>\n",
       "    <tr>\n",
       "      <th>mean</th>\n",
       "      <td>311499.729086</td>\n",
       "      <td>-9.246456</td>\n",
       "      <td>-2.157680</td>\n",
       "      <td>2.427165</td>\n",
       "    </tr>\n",
       "    <tr>\n",
       "      <th>std</th>\n",
       "      <td>163849.283929</td>\n",
       "      <td>2.964223</td>\n",
       "      <td>1.883060</td>\n",
       "      <td>2.171392</td>\n",
       "    </tr>\n",
       "    <tr>\n",
       "      <th>min</th>\n",
       "      <td>27717.000000</td>\n",
       "      <td>-23.569387</td>\n",
       "      <td>-15.821500</td>\n",
       "      <td>-6.782696</td>\n",
       "    </tr>\n",
       "    <tr>\n",
       "      <th>25%</th>\n",
       "      <td>169601.500000</td>\n",
       "      <td>-10.899735</td>\n",
       "      <td>-2.914739</td>\n",
       "      <td>1.125659</td>\n",
       "    </tr>\n",
       "    <tr>\n",
       "      <th>50%</th>\n",
       "      <td>311500.500000</td>\n",
       "      <td>-9.366921</td>\n",
       "      <td>-2.148333</td>\n",
       "      <td>2.184258</td>\n",
       "    </tr>\n",
       "    <tr>\n",
       "      <th>75%</th>\n",
       "      <td>453389.500000</td>\n",
       "      <td>-8.152647</td>\n",
       "      <td>-1.429827</td>\n",
       "      <td>3.276387</td>\n",
       "    </tr>\n",
       "    <tr>\n",
       "      <th>max</th>\n",
       "      <td>595295.000000</td>\n",
       "      <td>4.205655</td>\n",
       "      <td>10.756033</td>\n",
       "      <td>13.340260</td>\n",
       "    </tr>\n",
       "  </tbody>\n",
       "</table>\n",
       "</div>"
      ],
      "text/plain": [
       "                   0             x             y             z\n",
       "count   58000.000000  58000.000000  58000.000000  58000.000000\n",
       "mean   311499.729086     -9.246456     -2.157680      2.427165\n",
       "std    163849.283929      2.964223      1.883060      2.171392\n",
       "min     27717.000000    -23.569387    -15.821500     -6.782696\n",
       "25%    169601.500000    -10.899735     -2.914739      1.125659\n",
       "50%    311500.500000     -9.366921     -2.148333      2.184258\n",
       "75%    453389.500000     -8.152647     -1.429827      3.276387\n",
       "max    595295.000000      4.205655     10.756033     13.340260"
      ]
     },
     "execution_count": 17,
     "metadata": {},
     "output_type": "execute_result"
    }
   ],
   "source": [
    "walking_accelerometer.describe()"
   ]
  },
  {
   "cell_type": "code",
   "execution_count": 18,
   "metadata": {},
   "outputs": [
    {
     "data": {
      "text/html": [
       "<div>\n",
       "<style scoped>\n",
       "    .dataframe tbody tr th:only-of-type {\n",
       "        vertical-align: middle;\n",
       "    }\n",
       "\n",
       "    .dataframe tbody tr th {\n",
       "        vertical-align: top;\n",
       "    }\n",
       "\n",
       "    .dataframe thead th {\n",
       "        text-align: right;\n",
       "    }\n",
       "</style>\n",
       "<table border=\"1\" class=\"dataframe\">\n",
       "  <thead>\n",
       "    <tr style=\"text-align: right;\">\n",
       "      <th></th>\n",
       "      <th>0</th>\n",
       "      <th>x</th>\n",
       "      <th>y</th>\n",
       "      <th>z</th>\n",
       "    </tr>\n",
       "  </thead>\n",
       "  <tbody>\n",
       "    <tr>\n",
       "      <th>count</th>\n",
       "      <td>60000.000000</td>\n",
       "      <td>60000.000000</td>\n",
       "      <td>60000.000000</td>\n",
       "      <td>60000.000000</td>\n",
       "    </tr>\n",
       "    <tr>\n",
       "      <th>mean</th>\n",
       "      <td>299239.263033</td>\n",
       "      <td>-0.776214</td>\n",
       "      <td>-1.812748</td>\n",
       "      <td>9.136854</td>\n",
       "    </tr>\n",
       "    <tr>\n",
       "      <th>std</th>\n",
       "      <td>169462.588246</td>\n",
       "      <td>1.936057</td>\n",
       "      <td>2.372588</td>\n",
       "      <td>1.182653</td>\n",
       "    </tr>\n",
       "    <tr>\n",
       "      <th>min</th>\n",
       "      <td>5735.000000</td>\n",
       "      <td>-7.735913</td>\n",
       "      <td>-12.949871</td>\n",
       "      <td>-5.367239</td>\n",
       "    </tr>\n",
       "    <tr>\n",
       "      <th>25%</th>\n",
       "      <td>152493.500000</td>\n",
       "      <td>-2.074087</td>\n",
       "      <td>-3.257227</td>\n",
       "      <td>8.926238</td>\n",
       "    </tr>\n",
       "    <tr>\n",
       "      <th>50%</th>\n",
       "      <td>299233.000000</td>\n",
       "      <td>-0.838257</td>\n",
       "      <td>-1.978286</td>\n",
       "      <td>9.467513</td>\n",
       "    </tr>\n",
       "    <tr>\n",
       "      <th>75%</th>\n",
       "      <td>445985.500000</td>\n",
       "      <td>0.081431</td>\n",
       "      <td>-0.653840</td>\n",
       "      <td>9.644744</td>\n",
       "    </tr>\n",
       "    <tr>\n",
       "      <th>max</th>\n",
       "      <td>592753.000000</td>\n",
       "      <td>8.044871</td>\n",
       "      <td>10.425521</td>\n",
       "      <td>16.700472</td>\n",
       "    </tr>\n",
       "  </tbody>\n",
       "</table>\n",
       "</div>"
      ],
      "text/plain": [
       "                   0             x             y             z\n",
       "count   60000.000000  60000.000000  60000.000000  60000.000000\n",
       "mean   299239.263033     -0.776214     -1.812748      9.136854\n",
       "std    169462.588246      1.936057      2.372588      1.182653\n",
       "min      5735.000000     -7.735913    -12.949871     -5.367239\n",
       "25%    152493.500000     -2.074087     -3.257227      8.926238\n",
       "50%    299233.000000     -0.838257     -1.978286      9.467513\n",
       "75%    445985.500000      0.081431     -0.653840      9.644744\n",
       "max    592753.000000      8.044871     10.425521     16.700472"
      ]
     },
     "execution_count": 18,
     "metadata": {},
     "output_type": "execute_result"
    }
   ],
   "source": [
    "sitting_accelerometer.describe()"
   ]
  },
  {
   "cell_type": "code",
   "execution_count": 24,
   "metadata": {},
   "outputs": [
    {
     "data": {
      "text/html": [
       "<div>\n",
       "<style scoped>\n",
       "    .dataframe tbody tr th:only-of-type {\n",
       "        vertical-align: middle;\n",
       "    }\n",
       "\n",
       "    .dataframe tbody tr th {\n",
       "        vertical-align: top;\n",
       "    }\n",
       "\n",
       "    .dataframe thead th {\n",
       "        text-align: right;\n",
       "    }\n",
       "</style>\n",
       "<table border=\"1\" class=\"dataframe\">\n",
       "  <thead>\n",
       "    <tr style=\"text-align: right;\">\n",
       "      <th></th>\n",
       "      <th>0</th>\n",
       "      <th>x</th>\n",
       "      <th>y</th>\n",
       "      <th>z</th>\n",
       "    </tr>\n",
       "  </thead>\n",
       "  <tbody>\n",
       "    <tr>\n",
       "      <th>count</th>\n",
       "      <td>60000.000000</td>\n",
       "      <td>60000.000000</td>\n",
       "      <td>60000.000000</td>\n",
       "      <td>60000.000000</td>\n",
       "    </tr>\n",
       "    <tr>\n",
       "      <th>mean</th>\n",
       "      <td>293665.383967</td>\n",
       "      <td>0.260814</td>\n",
       "      <td>-0.092606</td>\n",
       "      <td>6.740317</td>\n",
       "    </tr>\n",
       "    <tr>\n",
       "      <th>std</th>\n",
       "      <td>169663.729092</td>\n",
       "      <td>2.473293</td>\n",
       "      <td>4.533946</td>\n",
       "      <td>5.101082</td>\n",
       "    </tr>\n",
       "    <tr>\n",
       "      <th>min</th>\n",
       "      <td>8.000000</td>\n",
       "      <td>-10.657837</td>\n",
       "      <td>-18.769770</td>\n",
       "      <td>-16.621437</td>\n",
       "    </tr>\n",
       "    <tr>\n",
       "      <th>25%</th>\n",
       "      <td>146782.750000</td>\n",
       "      <td>-0.938848</td>\n",
       "      <td>-2.177073</td>\n",
       "      <td>7.319180</td>\n",
       "    </tr>\n",
       "    <tr>\n",
       "      <th>50%</th>\n",
       "      <td>293500.500000</td>\n",
       "      <td>0.579595</td>\n",
       "      <td>-0.241897</td>\n",
       "      <td>8.569380</td>\n",
       "    </tr>\n",
       "    <tr>\n",
       "      <th>75%</th>\n",
       "      <td>440251.000000</td>\n",
       "      <td>1.818419</td>\n",
       "      <td>4.127218</td>\n",
       "      <td>9.299861</td>\n",
       "    </tr>\n",
       "    <tr>\n",
       "      <th>max</th>\n",
       "      <td>587715.000000</td>\n",
       "      <td>12.109220</td>\n",
       "      <td>14.396463</td>\n",
       "      <td>23.008953</td>\n",
       "    </tr>\n",
       "  </tbody>\n",
       "</table>\n",
       "</div>"
      ],
      "text/plain": [
       "                   0             x             y             z\n",
       "count   60000.000000  60000.000000  60000.000000  60000.000000\n",
       "mean   293665.383967      0.260814     -0.092606      6.740317\n",
       "std    169663.729092      2.473293      4.533946      5.101082\n",
       "min         8.000000    -10.657837    -18.769770    -16.621437\n",
       "25%    146782.750000     -0.938848     -2.177073      7.319180\n",
       "50%    293500.500000      0.579595     -0.241897      8.569380\n",
       "75%    440251.000000      1.818419      4.127218      9.299861\n",
       "max    587715.000000     12.109220     14.396463     23.008953"
      ]
     },
     "execution_count": 24,
     "metadata": {},
     "output_type": "execute_result"
    }
   ],
   "source": [
    "lying_accelerometer.describe()"
   ]
  },
  {
   "cell_type": "code",
   "execution_count": 25,
   "metadata": {},
   "outputs": [
    {
     "data": {
      "text/html": [
       "<div>\n",
       "<style scoped>\n",
       "    .dataframe tbody tr th:only-of-type {\n",
       "        vertical-align: middle;\n",
       "    }\n",
       "\n",
       "    .dataframe tbody tr th {\n",
       "        vertical-align: top;\n",
       "    }\n",
       "\n",
       "    .dataframe thead th {\n",
       "        text-align: right;\n",
       "    }\n",
       "</style>\n",
       "<table border=\"1\" class=\"dataframe\">\n",
       "  <thead>\n",
       "    <tr style=\"text-align: right;\">\n",
       "      <th></th>\n",
       "      <th>0</th>\n",
       "      <th>x</th>\n",
       "      <th>y</th>\n",
       "      <th>z</th>\n",
       "    </tr>\n",
       "  </thead>\n",
       "  <tbody>\n",
       "    <tr>\n",
       "      <th>count</th>\n",
       "      <td>60000.000000</td>\n",
       "      <td>60000.000000</td>\n",
       "      <td>60000.000000</td>\n",
       "      <td>60000.000000</td>\n",
       "    </tr>\n",
       "    <tr>\n",
       "      <th>mean</th>\n",
       "      <td>298709.578733</td>\n",
       "      <td>-0.585512</td>\n",
       "      <td>-9.469357</td>\n",
       "      <td>-0.502783</td>\n",
       "    </tr>\n",
       "    <tr>\n",
       "      <th>std</th>\n",
       "      <td>169480.515457</td>\n",
       "      <td>8.236244</td>\n",
       "      <td>12.435157</td>\n",
       "      <td>7.568735</td>\n",
       "    </tr>\n",
       "    <tr>\n",
       "      <th>min</th>\n",
       "      <td>5157.000000</td>\n",
       "      <td>-61.789112</td>\n",
       "      <td>-75.811950</td>\n",
       "      <td>-41.824226</td>\n",
       "    </tr>\n",
       "    <tr>\n",
       "      <th>25%</th>\n",
       "      <td>152134.000000</td>\n",
       "      <td>-5.637876</td>\n",
       "      <td>-16.243622</td>\n",
       "      <td>-4.524192</td>\n",
       "    </tr>\n",
       "    <tr>\n",
       "      <th>50%</th>\n",
       "      <td>298811.000000</td>\n",
       "      <td>-0.658630</td>\n",
       "      <td>-6.777905</td>\n",
       "      <td>-0.744851</td>\n",
       "    </tr>\n",
       "    <tr>\n",
       "      <th>75%</th>\n",
       "      <td>445472.500000</td>\n",
       "      <td>5.110972</td>\n",
       "      <td>-0.658032</td>\n",
       "      <td>3.370391</td>\n",
       "    </tr>\n",
       "    <tr>\n",
       "      <th>max</th>\n",
       "      <td>592226.000000</td>\n",
       "      <td>38.073627</td>\n",
       "      <td>41.021896</td>\n",
       "      <td>41.793090</td>\n",
       "    </tr>\n",
       "  </tbody>\n",
       "</table>\n",
       "</div>"
      ],
      "text/plain": [
       "                   0             x             y             z\n",
       "count   60000.000000  60000.000000  60000.000000  60000.000000\n",
       "mean   298709.578733     -0.585512     -9.469357     -0.502783\n",
       "std    169480.515457      8.236244     12.435157      7.568735\n",
       "min      5157.000000    -61.789112    -75.811950    -41.824226\n",
       "25%    152134.000000     -5.637876    -16.243622     -4.524192\n",
       "50%    298811.000000     -0.658630     -6.777905     -0.744851\n",
       "75%    445472.500000      5.110972     -0.658032      3.370391\n",
       "max    592226.000000     38.073627     41.021896     41.793090"
      ]
     },
     "execution_count": 25,
     "metadata": {},
     "output_type": "execute_result"
    }
   ],
   "source": [
    "workout_accelerometer.describe()"
   ]
  },
  {
   "cell_type": "markdown",
   "metadata": {},
   "source": [
    "## Plotting the mean-filtering in time domain "
   ]
  },
  {
   "cell_type": "code",
   "execution_count": 26,
   "metadata": {},
   "outputs": [],
   "source": [
    "#Visualize the impact of mean-filtering in time domain\n",
    "#plot mean-filtered accelreation data\n",
    "def mean_filter(data, axis):\n",
    "    plt.figure(figsize = (15,5))\n",
    "    plt.plot(data[axis],label = axis)\n",
    "    plt.plot(data[axis].rolling(window=10).mean(),label = 'Mean filtering') #moving window with a size of 10 samples\n",
    "    plt.legend()\n",
    "    plt.title(\"MEAN-FILTERED ACCELERATION DATA\")\n",
    "    plt.show()"
   ]
  },
  {
   "cell_type": "code",
   "execution_count": 27,
   "metadata": {},
   "outputs": [
    {
     "data": {
      "image/png": "[encoded data removed]",
      "text/plain": [
       "<Figure size 1080x360 with 1 Axes>"
      ]
     },
     "metadata": {
      "needs_background": "light"
     },
     "output_type": "display_data"
    }
   ],
   "source": [
    "mean_filter(sitting_accelerometer, 'x')"
   ]
  },
  {
   "cell_type": "code",
   "execution_count": 19,
   "metadata": {},
   "outputs": [
    {
     "data": {
      "image/png": "[encoded data removed]",
      "text/plain": [
       "<Figure size 1080x360 with 1 Axes>"
      ]
     },
     "metadata": {
      "needs_background": "light"
     },
     "output_type": "display_data"
    }
   ],
   "source": [
    "mean_filter(walking_accelerometer, 'x')"
   ]
  },
  {
   "cell_type": "code",
   "execution_count": 20,
   "metadata": {},
   "outputs": [
    {
     "data": {
      "image/png": "[encoded data removed]",
      "text/plain": [
       "<Figure size 1080x360 with 1 Axes>"
      ]
     },
     "metadata": {
      "needs_background": "light"
     },
     "output_type": "display_data"
    }
   ],
   "source": [
    "mean_filter(workout_accelerometer, 'x')"
   ]
  },
  {
   "cell_type": "code",
   "execution_count": 299,
   "metadata": {},
   "outputs": [
    {
     "data": {
      "image/png": "[encoded data removed]",
      "text/plain": [
       "<Figure size 1080x360 with 1 Axes>"
      ]
     },
     "metadata": {
      "needs_background": "light"
     },
     "output_type": "display_data"
    }
   ],
   "source": [
    "mean_filter(lying_accelerometer, 'x')"
   ]
  },
  {
   "cell_type": "code",
   "execution_count": 19,
   "metadata": {},
   "outputs": [],
   "source": [
    "#Visualize the impact of mean-filtering in frequency domain\n",
    "def mean_filter_freq(data, axis, freq):\n",
    "    segment = data[axis].values\n",
    "    sampling_frequency = freq\n",
    "    frequencies, time, spec = signal.spectrogram(segment, sampling_frequency)\n",
    "    plt.pcolormesh(time, frequencies, spec)\n",
    "    plt.ylabel('Frequency [Hz]')\n",
    "    plt.xlabel('Time [sec]')\n",
    "    plt.title(\"SPECTROGRAM - ACCELERATION DATA\")\n",
    "    plt.show()\n",
    "\n",
    "    segment_mean = data[axis].rolling(window=10).mean()\n",
    "    frequencies, time, spec = signal.spectrogram(segment_mean, sampling_frequency)\n",
    "    plt.pcolormesh(time, frequencies, spec)\n",
    "    plt.ylabel('Frequency [Hz]')\n",
    "    plt.xlabel('Time [sec]')\n",
    "    plt.title(\"SPECTROGRAM - MEAN-FILTERED ACCELERATION DATA\")\n",
    "    plt.show()"
   ]
  },
  {
   "cell_type": "code",
   "execution_count": 29,
   "metadata": {},
   "outputs": [
    {
     "name": "stderr",
     "output_type": "stream",
     "text": [
      "<ipython-input-28-4dbebb036533>:6: MatplotlibDeprecationWarning: shading='flat' when X and Y have the same dimensions as C is deprecated since 3.3.  Either specify the corners of the quadrilaterals with X and Y, or pass shading='auto', 'nearest' or 'gouraud', or set rcParams['pcolor.shading'].  This will become an error two minor releases later.\n",
      "  plt.pcolormesh(time, frequencies, spec)\n"
     ]
    },
    {
     "data": {
      "image/png": "[encoded data removed]",
      "text/plain": [
       "<Figure size 432x288 with 1 Axes>"
      ]
     },
     "metadata": {
      "needs_background": "light"
     },
     "output_type": "display_data"
    },
    {
     "name": "stderr",
     "output_type": "stream",
     "text": [
      "<ipython-input-28-4dbebb036533>:14: MatplotlibDeprecationWarning: shading='flat' when X and Y have the same dimensions as C is deprecated since 3.3.  Either specify the corners of the quadrilaterals with X and Y, or pass shading='auto', 'nearest' or 'gouraud', or set rcParams['pcolor.shading'].  This will become an error two minor releases later.\n",
      "  plt.pcolormesh(time, frequencies, spec)\n"
     ]
    },
    {
     "data": {
      "image/png": "[encoded data removed]",
      "text/plain": [
       "<Figure size 432x288 with 1 Axes>"
      ]
     },
     "metadata": {
      "needs_background": "light"
     },
     "output_type": "display_data"
    }
   ],
   "source": [
    "mean_filter_freq(sitting_accelerometer, 'x', 100)"
   ]
  },
  {
   "cell_type": "code",
   "execution_count": 30,
   "metadata": {},
   "outputs": [
    {
     "name": "stderr",
     "output_type": "stream",
     "text": [
      "<ipython-input-28-4dbebb036533>:6: MatplotlibDeprecationWarning: shading='flat' when X and Y have the same dimensions as C is deprecated since 3.3.  Either specify the corners of the quadrilaterals with X and Y, or pass shading='auto', 'nearest' or 'gouraud', or set rcParams['pcolor.shading'].  This will become an error two minor releases later.\n",
      "  plt.pcolormesh(time, frequencies, spec)\n"
     ]
    },
    {
     "data": {
      "image/png": "[encoded data removed]",
      "text/plain": [
       "<Figure size 432x288 with 1 Axes>"
      ]
     },
     "metadata": {
      "needs_background": "light"
     },
     "output_type": "display_data"
    },
    {
     "name": "stderr",
     "output_type": "stream",
     "text": [
      "<ipython-input-28-4dbebb036533>:14: MatplotlibDeprecationWarning: shading='flat' when X and Y have the same dimensions as C is deprecated since 3.3.  Either specify the corners of the quadrilaterals with X and Y, or pass shading='auto', 'nearest' or 'gouraud', or set rcParams['pcolor.shading'].  This will become an error two minor releases later.\n",
      "  plt.pcolormesh(time, frequencies, spec)\n"
     ]
    },
    {
     "data": {
      "image/png": "[encoded data removed]",
      "text/plain": [
       "<Figure size 432x288 with 1 Axes>"
      ]
     },
     "metadata": {
      "needs_background": "light"
     },
     "output_type": "display_data"
    }
   ],
   "source": [
    "mean_filter_freq(walking_accelerometer, 'x', 100)"
   ]
  },
  {
   "cell_type": "code",
   "execution_count": 31,
   "metadata": {},
   "outputs": [
    {
     "name": "stderr",
     "output_type": "stream",
     "text": [
      "<ipython-input-28-4dbebb036533>:6: MatplotlibDeprecationWarning: shading='flat' when X and Y have the same dimensions as C is deprecated since 3.3.  Either specify the corners of the quadrilaterals with X and Y, or pass shading='auto', 'nearest' or 'gouraud', or set rcParams['pcolor.shading'].  This will become an error two minor releases later.\n",
      "  plt.pcolormesh(time, frequencies, spec)\n"
     ]
    },
    {
     "data": {
      "image/png": "[encoded data removed]",
      "text/plain": [
       "<Figure size 432x288 with 1 Axes>"
      ]
     },
     "metadata": {
      "needs_background": "light"
     },
     "output_type": "display_data"
    },
    {
     "name": "stderr",
     "output_type": "stream",
     "text": [
      "<ipython-input-28-4dbebb036533>:14: MatplotlibDeprecationWarning: shading='flat' when X and Y have the same dimensions as C is deprecated since 3.3.  Either specify the corners of the quadrilaterals with X and Y, or pass shading='auto', 'nearest' or 'gouraud', or set rcParams['pcolor.shading'].  This will become an error two minor releases later.\n",
      "  plt.pcolormesh(time, frequencies, spec)\n"
     ]
    },
    {
     "data": {
      "image/png": "[encoded data removed]",
      "text/plain": [
       "<Figure size 432x288 with 1 Axes>"
      ]
     },
     "metadata": {
      "needs_background": "light"
     },
     "output_type": "display_data"
    }
   ],
   "source": [
    "mean_filter_freq(lying_accelerometer, 'x', 100)"
   ]
  },
  {
   "cell_type": "code",
   "execution_count": 32,
   "metadata": {},
   "outputs": [
    {
     "name": "stderr",
     "output_type": "stream",
     "text": [
      "<ipython-input-28-4dbebb036533>:6: MatplotlibDeprecationWarning: shading='flat' when X and Y have the same dimensions as C is deprecated since 3.3.  Either specify the corners of the quadrilaterals with X and Y, or pass shading='auto', 'nearest' or 'gouraud', or set rcParams['pcolor.shading'].  This will become an error two minor releases later.\n",
      "  plt.pcolormesh(time, frequencies, spec)\n"
     ]
    },
    {
     "data": {
      "image/png": "[encoded data removed]",
      "text/plain": [
       "<Figure size 432x288 with 1 Axes>"
      ]
     },
     "metadata": {
      "needs_background": "light"
     },
     "output_type": "display_data"
    },
    {
     "name": "stderr",
     "output_type": "stream",
     "text": [
      "<ipython-input-28-4dbebb036533>:14: MatplotlibDeprecationWarning: shading='flat' when X and Y have the same dimensions as C is deprecated since 3.3.  Either specify the corners of the quadrilaterals with X and Y, or pass shading='auto', 'nearest' or 'gouraud', or set rcParams['pcolor.shading'].  This will become an error two minor releases later.\n",
      "  plt.pcolormesh(time, frequencies, spec)\n"
     ]
    },
    {
     "data": {
      "image/png": "[encoded data removed]",
      "text/plain": [
       "<Figure size 432x288 with 1 Axes>"
      ]
     },
     "metadata": {
      "needs_background": "light"
     },
     "output_type": "display_data"
    }
   ],
   "source": [
    "mean_filter_freq(workout_accelerometer, 'x', 100)"
   ]
  },
  {
   "cell_type": "markdown",
   "metadata": {},
   "source": [
    "### Feature Extraction"
   ]
  },
  {
   "cell_type": "markdown",
   "metadata": {},
   "source": [
    "We will use moving-average filter and extract features.\n",
    "After we filter the data, we will calculate the magnitude for each row."
   ]
  },
  {
   "cell_type": "code",
   "execution_count": 33,
   "metadata": {},
   "outputs": [
    {
     "data": {
      "text/html": [
       "<div>\n",
       "<style scoped>\n",
       "    .dataframe tbody tr th:only-of-type {\n",
       "        vertical-align: middle;\n",
       "    }\n",
       "\n",
       "    .dataframe tbody tr th {\n",
       "        vertical-align: top;\n",
       "    }\n",
       "\n",
       "    .dataframe thead th {\n",
       "        text-align: right;\n",
       "    }\n",
       "</style>\n",
       "<table border=\"1\" class=\"dataframe\">\n",
       "  <thead>\n",
       "    <tr style=\"text-align: right;\">\n",
       "      <th></th>\n",
       "      <th>0</th>\n",
       "      <th>x</th>\n",
       "      <th>y</th>\n",
       "      <th>z</th>\n",
       "    </tr>\n",
       "  </thead>\n",
       "  <tbody>\n",
       "    <tr>\n",
       "      <th>224</th>\n",
       "      <td>27717</td>\n",
       "      <td>-10.442286</td>\n",
       "      <td>-0.179626</td>\n",
       "      <td>1.484912</td>\n",
       "    </tr>\n",
       "    <tr>\n",
       "      <th>225</th>\n",
       "      <td>27731</td>\n",
       "      <td>-11.136841</td>\n",
       "      <td>-0.131726</td>\n",
       "      <td>1.609453</td>\n",
       "    </tr>\n",
       "    <tr>\n",
       "      <th>226</th>\n",
       "      <td>27743</td>\n",
       "      <td>-11.635005</td>\n",
       "      <td>-0.098196</td>\n",
       "      <td>1.820215</td>\n",
       "    </tr>\n",
       "    <tr>\n",
       "      <th>227</th>\n",
       "      <td>27743</td>\n",
       "      <td>-11.754756</td>\n",
       "      <td>-0.174836</td>\n",
       "      <td>2.138753</td>\n",
       "    </tr>\n",
       "    <tr>\n",
       "      <th>228</th>\n",
       "      <td>27747</td>\n",
       "      <td>-11.242222</td>\n",
       "      <td>-0.325723</td>\n",
       "      <td>2.514771</td>\n",
       "    </tr>\n",
       "    <tr>\n",
       "      <th>...</th>\n",
       "      <td>...</td>\n",
       "      <td>...</td>\n",
       "      <td>...</td>\n",
       "      <td>...</td>\n",
       "    </tr>\n",
       "    <tr>\n",
       "      <th>178734</th>\n",
       "      <td>595256</td>\n",
       "      <td>-14.731766</td>\n",
       "      <td>-2.100432</td>\n",
       "      <td>3.839217</td>\n",
       "    </tr>\n",
       "    <tr>\n",
       "      <th>178739</th>\n",
       "      <td>595272</td>\n",
       "      <td>-14.142591</td>\n",
       "      <td>-1.983076</td>\n",
       "      <td>3.781736</td>\n",
       "    </tr>\n",
       "    <tr>\n",
       "      <th>178741</th>\n",
       "      <td>595272</td>\n",
       "      <td>-12.985797</td>\n",
       "      <td>-1.863325</td>\n",
       "      <td>3.640430</td>\n",
       "    </tr>\n",
       "    <tr>\n",
       "      <th>178744</th>\n",
       "      <td>595283</td>\n",
       "      <td>-11.781101</td>\n",
       "      <td>-1.702859</td>\n",
       "      <td>3.381768</td>\n",
       "    </tr>\n",
       "    <tr>\n",
       "      <th>178747</th>\n",
       "      <td>595295</td>\n",
       "      <td>-10.854229</td>\n",
       "      <td>-1.554368</td>\n",
       "      <td>3.022515</td>\n",
       "    </tr>\n",
       "  </tbody>\n",
       "</table>\n",
       "<p>58000 rows × 4 columns</p>\n",
       "</div>"
      ],
      "text/plain": [
       "             0          x         y         z\n",
       "224      27717 -10.442286 -0.179626  1.484912\n",
       "225      27731 -11.136841 -0.131726  1.609453\n",
       "226      27743 -11.635005 -0.098196  1.820215\n",
       "227      27743 -11.754756 -0.174836  2.138753\n",
       "228      27747 -11.242222 -0.325723  2.514771\n",
       "...        ...        ...       ...       ...\n",
       "178734  595256 -14.731766 -2.100432  3.839217\n",
       "178739  595272 -14.142591 -1.983076  3.781736\n",
       "178741  595272 -12.985797 -1.863325  3.640430\n",
       "178744  595283 -11.781101 -1.702859  3.381768\n",
       "178747  595295 -10.854229 -1.554368  3.022515\n",
       "\n",
       "[58000 rows x 4 columns]"
      ]
     },
     "execution_count": 33,
     "metadata": {},
     "output_type": "execute_result"
    }
   ],
   "source": [
    "walking_accelerometer"
   ]
  },
  {
   "cell_type": "code",
   "execution_count": 20,
   "metadata": {},
   "outputs": [],
   "source": [
    "def filtering(data):\n",
    "    '''This function filters the data (mean-filtering) with window_size = 10'''\n",
    "    new_data = pd.DataFrame(columns = ['x', 'y', 'z'])\n",
    "    new_data['x'] = data['x'].rolling(window=10).mean()\n",
    "    new_data['y'] = data['y'].rolling(window=10).mean()\n",
    "    new_data['z'] = data['z'].rolling(window=10).mean()\n",
    "    return new_data.dropna(axis = 0)"
   ]
  },
  {
   "cell_type": "code",
   "execution_count": 21,
   "metadata": {},
   "outputs": [],
   "source": [
    "walking_accelerometer_filtered = filtering(walking_accelerometer)"
   ]
  },
  {
   "cell_type": "code",
   "execution_count": 22,
   "metadata": {},
   "outputs": [
    {
     "data": {
      "text/html": [
       "<div>\n",
       "<style scoped>\n",
       "    .dataframe tbody tr th:only-of-type {\n",
       "        vertical-align: middle;\n",
       "    }\n",
       "\n",
       "    .dataframe tbody tr th {\n",
       "        vertical-align: top;\n",
       "    }\n",
       "\n",
       "    .dataframe thead th {\n",
       "        text-align: right;\n",
       "    }\n",
       "</style>\n",
       "<table border=\"1\" class=\"dataframe\">\n",
       "  <thead>\n",
       "    <tr style=\"text-align: right;\">\n",
       "      <th></th>\n",
       "      <th>x</th>\n",
       "      <th>y</th>\n",
       "      <th>z</th>\n",
       "    </tr>\n",
       "  </thead>\n",
       "  <tbody>\n",
       "    <tr>\n",
       "      <th>233</th>\n",
       "      <td>-10.242062</td>\n",
       "      <td>-0.376737</td>\n",
       "      <td>2.374183</td>\n",
       "    </tr>\n",
       "    <tr>\n",
       "      <th>235</th>\n",
       "      <td>-10.104109</td>\n",
       "      <td>-0.442600</td>\n",
       "      <td>2.470463</td>\n",
       "    </tr>\n",
       "    <tr>\n",
       "      <th>236</th>\n",
       "      <td>-9.937176</td>\n",
       "      <td>-0.516845</td>\n",
       "      <td>2.520040</td>\n",
       "    </tr>\n",
       "    <tr>\n",
       "      <th>238</th>\n",
       "      <td>-9.771680</td>\n",
       "      <td>-0.598755</td>\n",
       "      <td>2.506388</td>\n",
       "    </tr>\n",
       "    <tr>\n",
       "      <th>240</th>\n",
       "      <td>-9.652648</td>\n",
       "      <td>-0.675156</td>\n",
       "      <td>2.410827</td>\n",
       "    </tr>\n",
       "    <tr>\n",
       "      <th>...</th>\n",
       "      <td>...</td>\n",
       "      <td>...</td>\n",
       "      <td>...</td>\n",
       "    </tr>\n",
       "    <tr>\n",
       "      <th>178734</th>\n",
       "      <td>-12.035931</td>\n",
       "      <td>-2.298979</td>\n",
       "      <td>3.981960</td>\n",
       "    </tr>\n",
       "    <tr>\n",
       "      <th>178739</th>\n",
       "      <td>-12.470867</td>\n",
       "      <td>-2.247965</td>\n",
       "      <td>3.939089</td>\n",
       "    </tr>\n",
       "    <tr>\n",
       "      <th>178741</th>\n",
       "      <td>-12.766413</td>\n",
       "      <td>-2.187132</td>\n",
       "      <td>3.888793</td>\n",
       "    </tr>\n",
       "    <tr>\n",
       "      <th>178744</th>\n",
       "      <td>-12.909156</td>\n",
       "      <td>-2.114084</td>\n",
       "      <td>3.816224</td>\n",
       "    </tr>\n",
       "    <tr>\n",
       "      <th>178747</th>\n",
       "      <td>-12.918975</td>\n",
       "      <td>-2.035288</td>\n",
       "      <td>3.711322</td>\n",
       "    </tr>\n",
       "  </tbody>\n",
       "</table>\n",
       "<p>57991 rows × 3 columns</p>\n",
       "</div>"
      ],
      "text/plain": [
       "                x         y         z\n",
       "233    -10.242062 -0.376737  2.374183\n",
       "235    -10.104109 -0.442600  2.470463\n",
       "236     -9.937176 -0.516845  2.520040\n",
       "238     -9.771680 -0.598755  2.506388\n",
       "240     -9.652648 -0.675156  2.410827\n",
       "...           ...       ...       ...\n",
       "178734 -12.035931 -2.298979  3.981960\n",
       "178739 -12.470867 -2.247965  3.939089\n",
       "178741 -12.766413 -2.187132  3.888793\n",
       "178744 -12.909156 -2.114084  3.816224\n",
       "178747 -12.918975 -2.035288  3.711322\n",
       "\n",
       "[57991 rows x 3 columns]"
      ]
     },
     "execution_count": 22,
     "metadata": {},
     "output_type": "execute_result"
    }
   ],
   "source": [
    "walking_accelerometer_filtered"
   ]
  },
  {
   "cell_type": "code",
   "execution_count": 23,
   "metadata": {},
   "outputs": [],
   "source": [
    "# let's do the same for the other data\n",
    "lying_accelerometer_filtered = filtering(lying_accelerometer)\n",
    "sitting_accelerometer_filtered = filtering(sitting_accelerometer)\n",
    "workout_accelerometer_filtered = filtering(workout_accelerometer)"
   ]
  },
  {
   "cell_type": "code",
   "execution_count": 24,
   "metadata": {},
   "outputs": [
    {
     "data": {
      "text/html": [
       "<div>\n",
       "<style scoped>\n",
       "    .dataframe tbody tr th:only-of-type {\n",
       "        vertical-align: middle;\n",
       "    }\n",
       "\n",
       "    .dataframe tbody tr th {\n",
       "        vertical-align: top;\n",
       "    }\n",
       "\n",
       "    .dataframe thead th {\n",
       "        text-align: right;\n",
       "    }\n",
       "</style>\n",
       "<table border=\"1\" class=\"dataframe\">\n",
       "  <thead>\n",
       "    <tr style=\"text-align: right;\">\n",
       "      <th></th>\n",
       "      <th>x</th>\n",
       "      <th>y</th>\n",
       "      <th>z</th>\n",
       "    </tr>\n",
       "  </thead>\n",
       "  <tbody>\n",
       "    <tr>\n",
       "      <th>10</th>\n",
       "      <td>-0.861968</td>\n",
       "      <td>6.073530</td>\n",
       "      <td>7.813273</td>\n",
       "    </tr>\n",
       "    <tr>\n",
       "      <th>11</th>\n",
       "      <td>-0.774549</td>\n",
       "      <td>6.039281</td>\n",
       "      <td>7.832912</td>\n",
       "    </tr>\n",
       "    <tr>\n",
       "      <th>12</th>\n",
       "      <td>-0.785327</td>\n",
       "      <td>6.039760</td>\n",
       "      <td>7.828840</td>\n",
       "    </tr>\n",
       "    <tr>\n",
       "      <th>13</th>\n",
       "      <td>-0.780058</td>\n",
       "      <td>6.032336</td>\n",
       "      <td>7.828122</td>\n",
       "    </tr>\n",
       "    <tr>\n",
       "      <th>15</th>\n",
       "      <td>-0.775028</td>\n",
       "      <td>6.025869</td>\n",
       "      <td>7.829559</td>\n",
       "    </tr>\n",
       "    <tr>\n",
       "      <th>...</th>\n",
       "      <td>...</td>\n",
       "      <td>...</td>\n",
       "      <td>...</td>\n",
       "    </tr>\n",
       "    <tr>\n",
       "      <th>184658</th>\n",
       "      <td>0.977647</td>\n",
       "      <td>-8.405801</td>\n",
       "      <td>5.059239</td>\n",
       "    </tr>\n",
       "    <tr>\n",
       "      <th>184661</th>\n",
       "      <td>0.977647</td>\n",
       "      <td>-8.404603</td>\n",
       "      <td>5.057084</td>\n",
       "    </tr>\n",
       "    <tr>\n",
       "      <th>184664</th>\n",
       "      <td>0.977408</td>\n",
       "      <td>-8.404364</td>\n",
       "      <td>5.056365</td>\n",
       "    </tr>\n",
       "    <tr>\n",
       "      <th>184667</th>\n",
       "      <td>0.978126</td>\n",
       "      <td>-8.404603</td>\n",
       "      <td>5.054449</td>\n",
       "    </tr>\n",
       "    <tr>\n",
       "      <th>184670</th>\n",
       "      <td>0.977408</td>\n",
       "      <td>-8.406519</td>\n",
       "      <td>5.054449</td>\n",
       "    </tr>\n",
       "  </tbody>\n",
       "</table>\n",
       "<p>59991 rows × 3 columns</p>\n",
       "</div>"
      ],
      "text/plain": [
       "               x         y         z\n",
       "10     -0.861968  6.073530  7.813273\n",
       "11     -0.774549  6.039281  7.832912\n",
       "12     -0.785327  6.039760  7.828840\n",
       "13     -0.780058  6.032336  7.828122\n",
       "15     -0.775028  6.025869  7.829559\n",
       "...          ...       ...       ...\n",
       "184658  0.977647 -8.405801  5.059239\n",
       "184661  0.977647 -8.404603  5.057084\n",
       "184664  0.977408 -8.404364  5.056365\n",
       "184667  0.978126 -8.404603  5.054449\n",
       "184670  0.977408 -8.406519  5.054449\n",
       "\n",
       "[59991 rows x 3 columns]"
      ]
     },
     "execution_count": 24,
     "metadata": {},
     "output_type": "execute_result"
    }
   ],
   "source": [
    "lying_accelerometer_filtered # Just checking"
   ]
  },
  {
   "cell_type": "code",
   "execution_count": 25,
   "metadata": {},
   "outputs": [],
   "source": [
    "def magnitude(x,y,z):\n",
    "    '''This function calculates the magnitude of row'''\n",
    "    return np.sqrt(x**2 + y**2 + z**2)"
   ]
  },
  {
   "cell_type": "code",
   "execution_count": 26,
   "metadata": {},
   "outputs": [],
   "source": [
    "walking_accelerometer_filtered = walking_accelerometer_filtered.reset_index().drop(['index'], axis = 1) # Reindex \n",
    "lying_accelerometer_filtered =  lying_accelerometer_filtered.reset_index().drop(['index'], axis = 1)\n",
    "sitting_accelerometer_filtered = sitting_accelerometer_filtered.reset_index().drop(['index'], axis = 1)\n",
    "workout_accelerometer_filtered = workout_accelerometer_filtered.reset_index().drop(['index'], axis = 1)"
   ]
  },
  {
   "cell_type": "markdown",
   "metadata": {},
   "source": [
    "Creating new column 'magnitude':"
   ]
  },
  {
   "cell_type": "code",
   "execution_count": 27,
   "metadata": {},
   "outputs": [],
   "source": [
    "walking_accelerometer_filtered['magnitude'] = walking_accelerometer_filtered.apply(lambda row: magnitude(row['x'], row['y'], row['z']), axis = 1)\n",
    "lying_accelerometer_filtered['magnitude'] = lying_accelerometer_filtered.apply(lambda row: magnitude(row['x'], row['y'], row['z']), axis = 1)\n",
    "sitting_accelerometer_filtered['magnitude'] = sitting_accelerometer_filtered.apply(lambda row: magnitude(row['x'], row['y'], row['z']), axis = 1)\n",
    "workout_accelerometer_filtered['magnitude'] = workout_accelerometer_filtered.apply(lambda row: magnitude(row['x'], row['y'], row['z']), axis = 1)"
   ]
  },
  {
   "cell_type": "markdown",
   "metadata": {},
   "source": [
    "Two functions for extracting features:"
   ]
  },
  {
   "cell_type": "code",
   "execution_count": 28,
   "metadata": {},
   "outputs": [],
   "source": [
    "def feature_extraction(data, window_size=50):\n",
    "    \"\"\"This function extracts features\"\"\"\n",
    "    mean = []\n",
    "    for i in range(0, len(data), window_size):\n",
    "        mean.append(data[i:i+window_size].mean())\n",
    "\n",
    "    std = []\n",
    "    for i in range(0, len(data), window_size):\n",
    "        std.append(np.std(data[i:i+window_size]))\n",
    "\n",
    "    kurt = []\n",
    "    for i in range(0, len(data), window_size):\n",
    "        kurt.append(kurtosis(data[i:i+window_size]))\n",
    "\n",
    "    skewness = []\n",
    "    for i in range(0, len(data), window_size):\n",
    "        skewness.append(skew(data[i:i+window_size])) \n",
    "\n",
    "    med = []\n",
    "    for i in range(0, len(data), window_size):\n",
    "        med.append(np.median(data[i:i+window_size]))   \n",
    "\n",
    "    q025 = []\n",
    "    for i in range(0, len(data), window_size):\n",
    "        q025.append(np.quantile(data[i:i+window_size], 0.25))       \n",
    "\n",
    "    q07 = []\n",
    "    for i in range(0, len(data), window_size):\n",
    "        q07.append(np.quantile(data[i:i+window_size], 0.7))  \n",
    "\n",
    "    df = pd.DataFrame()\n",
    "    df['mean_magnitude'] = mean\n",
    "    df['stdev_magnitude'] = std\n",
    "    df['kurtosis_magnitude'] = kurt\n",
    "    df['skewness_magnitude'] = skewness\n",
    "    df['median_magnitude'] = med\n",
    "    df['quantile0.25_magnitude'] = q025\n",
    "    df['quantile0.7_magnitude'] = q07\n",
    "\n",
    "    return df"
   ]
  },
  {
   "cell_type": "code",
   "execution_count": 29,
   "metadata": {},
   "outputs": [],
   "source": [
    "window_size = 50\n",
    "\n",
    "def get_spectrum(fs, x, n_fft=None, log=False):\n",
    "    \"\"\"Calculate FFT spectrum\"\"\"\n",
    "    n = x.size\n",
    "    if n_fft is None:\n",
    "        n_fft = np.int(2**np.ceil(np.log2(n)))\n",
    "    x_spec = fft.fft(x, n_fft)\n",
    "    x_spec = np.abs(x_spec)\n",
    "    x_spec = x_spec / n\n",
    "    n_keep = np.int(n_fft / 2) + 1\n",
    "    x_spec = x_spec[0:n_keep]\n",
    "    x_spec[1: -1] = 2 * x_spec[1: -1]\n",
    "    f = np.linspace(0, fs/2, n_keep)\n",
    "    x_spec[0] = 0\n",
    "    if log:\n",
    "        x_spec = 20 * np.log10(x_spec)\n",
    "    return f, x_spec\n",
    "\n",
    "def features(data):\n",
    "    lista = []\n",
    "    for i in range(0, len(data), window_size):\n",
    "        f, x_spec = get_spectrum(100, data[i:i+window_size])\n",
    "        lista.append(x_spec)\n",
    "    col = [str(x) for x in range(0, len(lista[0]))]\n",
    "    \n",
    "    df_fft = pd.DataFrame(columns=col)\n",
    "    data_to_append = {}\n",
    "    for j in range(0, len(lista)-1):\n",
    "        for i in range(len(df_fft.columns)):\n",
    "            data_to_append[df_fft.columns[i]] = lista[j][i][0]\n",
    "        df_fft = df_fft.append(data_to_append, ignore_index=True)\n",
    "    \n",
    "    pca = PCA(n_components=4)\n",
    "    df_f = np.array(df_fft)\n",
    "    col = [str(x) for x in range(0,4)]\n",
    "    df_new = pd.DataFrame(columns=col)\n",
    "    data_to_append = {}\n",
    "    for j in range(0, len(pca.fit_transform(df_f))):\n",
    "        for i in range(len(df_new.columns)):\n",
    "            data_to_append[df_new.columns[i]] = pca.fit_transform(df_f)[j][i]\n",
    "        df_new = df_new.append(data_to_append, ignore_index = True)\n",
    "        \n",
    "    mean = []\n",
    "    for i in range(0, len(data), window_size):\n",
    "        mean.append(data[i:i+window_size].mean())\n",
    "        \n",
    "    std = []\n",
    "    for i in range(0, len(data), window_size):\n",
    "        std.append(np.std(data[i:i+window_size]))\n",
    "        \n",
    "    kurt = []\n",
    "    for i in range(0, len(data), window_size):\n",
    "        kurt.append(kurtosis(data[i:i+window_size]))\n",
    "        \n",
    "    skewness = []\n",
    "    for i in range(0, len(data), window_size):\n",
    "        skewness.append(skew(data[i:i+window_size])) \n",
    "        \n",
    "    med = []\n",
    "    for i in range(0, len(data), window_size):\n",
    "        med.append(np.median(data[i:i+window_size]))   \n",
    "        \n",
    "    q025 = []\n",
    "    for i in range(0, len(data), window_size):\n",
    "        q025.append(np.quantile(data[i:i+window_size], 0.25))       \n",
    "    \n",
    "    q07 = []\n",
    "    for i in range(0, len(data), window_size):\n",
    "        q07.append(np.quantile(data[i:i+window_size], 0.7))  \n",
    "        \n",
    "    df = pd.DataFrame()\n",
    "    df['mean'] = mean\n",
    "    df['stdev'] = std\n",
    "    df['kurtosis'] = kurt\n",
    "    df['skewness'] = skewness\n",
    "    df['median'] = med\n",
    "    df['quantile0.25'] = q025\n",
    "    df['quantile0.7'] = q07\n",
    "    df['component1'] = df_new['0']\n",
    "    df['component2'] = df_new['1']\n",
    "    df['component3'] = df_new['2']\n",
    "    df['component4'] = df_new['3']\n",
    "    df.dropna(axis=0, inplace=True)\n",
    "    return df"
   ]
  },
  {
   "cell_type": "markdown",
   "metadata": {},
   "source": [
    "### We will extract features for each column (for axis X, axis Y, axis Z) with function features and we will extract features from magnitude with function feature_extraction"
   ]
  },
  {
   "cell_type": "code",
   "execution_count": 30,
   "metadata": {},
   "outputs": [],
   "source": [
    "walking_acc_features2_x = features(walking_accelerometer_filtered['x'].reset_index().drop(['index'], axis = 1).values)\n",
    "lying_acc_features2_x = features(lying_accelerometer_filtered['x'].reset_index().drop(['index'], axis = 1).values)\n",
    "sitting_acc_features2_x = features(sitting_accelerometer_filtered['x'].reset_index().drop(['index'], axis = 1).values)\n",
    "workout_acc_features2_x = features(workout_accelerometer_filtered['x'].reset_index().drop(['index'], axis = 1).values)"
   ]
  },
  {
   "cell_type": "code",
   "execution_count": 31,
   "metadata": {},
   "outputs": [],
   "source": [
    "walking_acc_features2_y = features(walking_accelerometer_filtered['y'].reset_index().drop(['index'], axis = 1).values)\n",
    "lying_acc_features2_y = features(lying_accelerometer_filtered['y'].reset_index().drop(['index'], axis = 1).values)\n",
    "sitting_acc_features2_y = features(sitting_accelerometer_filtered['y'].reset_index().drop(['index'], axis = 1).values)\n",
    "workout_acc_features2_y = features(workout_accelerometer_filtered['y'].reset_index().drop(['index'], axis = 1).values)"
   ]
  },
  {
   "cell_type": "code",
   "execution_count": 32,
   "metadata": {},
   "outputs": [],
   "source": [
    "walking_acc_features2_z = features(walking_accelerometer_filtered['z'].reset_index().drop(['index'], axis = 1).values)\n",
    "lying_acc_features2_z = features(lying_accelerometer_filtered['z'].reset_index().drop(['index'], axis = 1).values)\n",
    "sitting_acc_features2_z = features(sitting_accelerometer_filtered['z'].reset_index().drop(['index'], axis = 1).values)\n",
    "workout_acc_features2_z = features(workout_accelerometer_filtered['z'].reset_index().drop(['index'], axis = 1).values)"
   ]
  },
  {
   "cell_type": "markdown",
   "metadata": {},
   "source": [
    "Rename the columns:"
   ]
  },
  {
   "cell_type": "code",
   "execution_count": 33,
   "metadata": {},
   "outputs": [],
   "source": [
    "walking_acc_features2_x = walking_acc_features2_x.rename(columns={'mean': 'mean_X', 'stdev': 'stdev_X', 'kurtosis': 'kurtosis_X', 'skewness': 'skewness_X', 'median': 'median_X', 'quantile0.25': 'quantile0.25_X', 'quantile0.7': 'quantile0.7_X', 'component1': 'component1_X', 'component2': 'component2_X', 'component3': 'component3_X', 'component4': 'component4_X'})\n",
    "lying_acc_features2_x = lying_acc_features2_x.rename(columns={'mean': 'mean_X', 'stdev': 'stdev_X', 'kurtosis': 'kurtosis_X', 'skewness': 'skewness_X', 'median': 'median_X', 'quantile0.25': 'quantile0.25_X', 'quantile0.7': 'quantile0.7_X', 'component1': 'component1_X', 'component2': 'component2_X', 'component3': 'component3_X', 'component4': 'component4_X'})\n",
    "sitting_acc_features2_x = sitting_acc_features2_x.rename(columns={'mean': 'mean_X', 'stdev': 'stdev_X', 'kurtosis': 'kurtosis_X', 'skewness': 'skewness_X', 'median': 'median_X', 'quantile0.25': 'quantile0.25_X', 'quantile0.7': 'quantile0.7_X', 'component1': 'component1_X', 'component2': 'component2_X', 'component3': 'component3_X', 'component4': 'component4_X'})\n",
    "workout_acc_features2_x = workout_acc_features2_x.rename(columns={'mean': 'mean_X', 'stdev': 'stdev_X', 'kurtosis': 'kurtosis_X', 'skewness': 'skewness_X', 'median': 'median_X', 'quantile0.25': 'quantile0.25_X', 'quantile0.7': 'quantile0.7_X', 'component1': 'component1_X', 'component2': 'component2_X', 'component3': 'component3_X', 'component4': 'component4_X'})"
   ]
  },
  {
   "cell_type": "code",
   "execution_count": 34,
   "metadata": {},
   "outputs": [],
   "source": [
    "walking_acc_features2_y = walking_acc_features2_y.rename(columns={'mean': 'mean_Y', 'stdev': 'stdev_Y', 'kurtosis': 'kurtosis_Y', 'skewness': 'skewness_Y', 'median': 'median_Y', 'quantile0.25': 'quantile0.25_Y', 'quantile0.7': 'quantile0.7_Y', 'component1': 'component1_Y', 'component2': 'component2_Y', 'component3': 'component3_Y', 'component4': 'component4_Y'})\n",
    "lying_acc_features2_y = lying_acc_features2_y.rename(columns={'mean': 'mean_Y', 'stdev': 'stdev_Y', 'kurtosis': 'kurtosis_Y', 'skewness': 'skewness_Y', 'median': 'median_Y', 'quantile0.25': 'quantile0.25_Y', 'quantile0.7': 'quantile0.7_Y', 'component1': 'component1_Y', 'component2': 'component2_Y', 'component3': 'component3_Y', 'component4': 'component4_Y'})\n",
    "sitting_acc_features2_y = sitting_acc_features2_y.rename(columns={'mean': 'mean_Y', 'stdev': 'stdev_Y', 'kurtosis': 'kurtosis_Y', 'skewness': 'skewness_Y', 'median': 'median_Y', 'quantile0.25': 'quantile0.25_Y', 'quantile0.7': 'quantile0.7_Y', 'component1': 'component1_Y', 'component2': 'component2_Y', 'component3': 'component3_Y', 'component4': 'component4_Y'})\n",
    "workout_acc_features2_y = workout_acc_features2_y.rename(columns={'mean': 'mean_Y', 'stdev': 'stdev_Y', 'kurtosis': 'kurtosis_Y', 'skewness': 'skewness_Y', 'median': 'median_Y', 'quantile0.25': 'quantile0.25_Y', 'quantile0.7': 'quantile0.7_Y', 'component1': 'component1_Y', 'component2': 'component2_Y', 'component3': 'component3_Y', 'component4': 'component4_Y'})"
   ]
  },
  {
   "cell_type": "code",
   "execution_count": 35,
   "metadata": {},
   "outputs": [],
   "source": [
    "walking_acc_features2_z = walking_acc_features2_z.rename(columns={'mean': 'mean_Z', 'stdev': 'stdev_Z', 'kurtosis': 'kurtosis_Z', 'skewness': 'skewness_Z', 'median': 'median_Z', 'quantile0.25': 'quantile0.25_Z', 'quantile0.7': 'quantile0.7_Z', 'component1': 'component1_Z', 'component2': 'component2_Z', 'component3': 'component3_Z', 'component4': 'component4_Z'})\n",
    "lying_acc_features2_z = lying_acc_features2_z.rename(columns={'mean': 'mean_Z', 'stdev': 'stdev_Z', 'kurtosis': 'kurtosis_Z', 'skewness': 'skewness_Z', 'median': 'median_Z', 'quantile0.25': 'quantile0.25_Z', 'quantile0.7': 'quantile0.7_Z', 'component1': 'component1_Z', 'component2': 'component2_Z', 'component3': 'component3_Z', 'component4': 'component4_Z'})\n",
    "sitting_acc_features2_z = sitting_acc_features2_z.rename(columns={'mean': 'mean_Z', 'stdev': 'stdev_Z', 'kurtosis': 'kurtosis_Z', 'skewness': 'skewness_Z', 'median': 'median_Z', 'quantile0.25': 'quantile0.25_Z', 'quantile0.7': 'quantile0.7_Z', 'component1': 'component1_Z', 'component2': 'component2_Z', 'component3': 'component3_Z', 'component4': 'component4_Z'})\n",
    "workout_acc_features2_z = workout_acc_features2_z.rename(columns={'mean': 'mean_Z', 'stdev': 'stdev_Z', 'kurtosis': 'kurtosis_Z', 'skewness': 'skewness_Z', 'median': 'median_Z', 'quantile0.25': 'quantile0.25_Z', 'quantile0.7': 'quantile0.7_Z', 'component1': 'component1_Z', 'component2': 'component2_Z', 'component3': 'component3_Z', 'component4': 'component4_Z'})"
   ]
  },
  {
   "cell_type": "markdown",
   "metadata": {},
   "source": [
    "Extract features from magnitude:"
   ]
  },
  {
   "cell_type": "code",
   "execution_count": 36,
   "metadata": {},
   "outputs": [],
   "source": [
    "walking_magnitude = feature_extraction(walking_accelerometer_filtered['magnitude'].values)\n",
    "lying_magnitude = feature_extraction(lying_accelerometer_filtered['magnitude'].values)\n",
    "sitting_magnitude = feature_extraction(sitting_accelerometer_filtered['magnitude'].values)\n",
    "workout_magnitude = feature_extraction(workout_accelerometer_filtered['magnitude'].values)"
   ]
  },
  {
   "cell_type": "markdown",
   "metadata": {},
   "source": [
    "Concatenate all features based on activities:"
   ]
  },
  {
   "cell_type": "code",
   "execution_count": 37,
   "metadata": {},
   "outputs": [],
   "source": [
    "walking_df = pd.concat([walking_acc_features2_x, walking_acc_features2_y, walking_acc_features2_z, walking_magnitude], axis=1).dropna(axis = 0)\n",
    "lying_df = pd.concat([lying_acc_features2_x, lying_acc_features2_y, lying_acc_features2_z, lying_magnitude], axis=1).dropna(axis = 0)\n",
    "sitting_df = pd.concat([sitting_acc_features2_x, sitting_acc_features2_y, sitting_acc_features2_z, sitting_magnitude],axis = 1).dropna(axis = 0)\n",
    "workout_df = pd.concat([workout_acc_features2_x, workout_acc_features2_y, workout_acc_features2_z, workout_magnitude], axis = 1).dropna(axis = 0)"
   ]
  },
  {
   "cell_type": "code",
   "execution_count": 38,
   "metadata": {},
   "outputs": [
    {
     "data": {
      "text/html": [
       "<div>\n",
       "<style scoped>\n",
       "    .dataframe tbody tr th:only-of-type {\n",
       "        vertical-align: middle;\n",
       "    }\n",
       "\n",
       "    .dataframe tbody tr th {\n",
       "        vertical-align: top;\n",
       "    }\n",
       "\n",
       "    .dataframe thead th {\n",
       "        text-align: right;\n",
       "    }\n",
       "</style>\n",
       "<table border=\"1\" class=\"dataframe\">\n",
       "  <thead>\n",
       "    <tr style=\"text-align: right;\">\n",
       "      <th></th>\n",
       "      <th>mean_X</th>\n",
       "      <th>stdev_X</th>\n",
       "      <th>kurtosis_X</th>\n",
       "      <th>skewness_X</th>\n",
       "      <th>median_X</th>\n",
       "      <th>quantile0.25_X</th>\n",
       "      <th>quantile0.7_X</th>\n",
       "      <th>component1_X</th>\n",
       "      <th>component2_X</th>\n",
       "      <th>component3_X</th>\n",
       "      <th>...</th>\n",
       "      <th>component2_Z</th>\n",
       "      <th>component3_Z</th>\n",
       "      <th>component4_Z</th>\n",
       "      <th>mean_magnitude</th>\n",
       "      <th>stdev_magnitude</th>\n",
       "      <th>kurtosis_magnitude</th>\n",
       "      <th>skewness_magnitude</th>\n",
       "      <th>median_magnitude</th>\n",
       "      <th>quantile0.25_magnitude</th>\n",
       "      <th>quantile0.7_magnitude</th>\n",
       "    </tr>\n",
       "  </thead>\n",
       "  <tbody>\n",
       "    <tr>\n",
       "      <th>0</th>\n",
       "      <td>-10.813475</td>\n",
       "      <td>1.627674</td>\n",
       "      <td>[-0.3317035815520657]</td>\n",
       "      <td>[-0.9744116635823238]</td>\n",
       "      <td>-10.134047</td>\n",
       "      <td>-11.701287</td>\n",
       "      <td>-9.936817</td>\n",
       "      <td>-0.525328</td>\n",
       "      <td>-0.001843</td>\n",
       "      <td>0.320340</td>\n",
       "      <td>...</td>\n",
       "      <td>0.012631</td>\n",
       "      <td>0.088404</td>\n",
       "      <td>-0.089834</td>\n",
       "      <td>11.297999</td>\n",
       "      <td>1.506547</td>\n",
       "      <td>-0.290562</td>\n",
       "      <td>1.093173</td>\n",
       "      <td>10.563626</td>\n",
       "      <td>10.258103</td>\n",
       "      <td>11.531836</td>\n",
       "    </tr>\n",
       "    <tr>\n",
       "      <th>1</th>\n",
       "      <td>-12.450850</td>\n",
       "      <td>2.622394</td>\n",
       "      <td>[-1.097878118855529]</td>\n",
       "      <td>[0.0009318368322034966]</td>\n",
       "      <td>-12.555412</td>\n",
       "      <td>-14.189653</td>\n",
       "      <td>-11.247635</td>\n",
       "      <td>-0.420844</td>\n",
       "      <td>-0.365640</td>\n",
       "      <td>0.129404</td>\n",
       "      <td>...</td>\n",
       "      <td>0.236904</td>\n",
       "      <td>-0.023415</td>\n",
       "      <td>0.054921</td>\n",
       "      <td>13.330096</td>\n",
       "      <td>2.264886</td>\n",
       "      <td>-0.908761</td>\n",
       "      <td>0.398761</td>\n",
       "      <td>13.074252</td>\n",
       "      <td>11.556275</td>\n",
       "      <td>14.145470</td>\n",
       "    </tr>\n",
       "    <tr>\n",
       "      <th>2</th>\n",
       "      <td>-3.700650</td>\n",
       "      <td>3.687896</td>\n",
       "      <td>[0.48021353472864226]</td>\n",
       "      <td>[-1.3231576261083449]</td>\n",
       "      <td>-2.032054</td>\n",
       "      <td>-5.184559</td>\n",
       "      <td>-1.201629</td>\n",
       "      <td>1.068445</td>\n",
       "      <td>0.813392</td>\n",
       "      <td>-0.148710</td>\n",
       "      <td>...</td>\n",
       "      <td>-0.316157</td>\n",
       "      <td>0.016979</td>\n",
       "      <td>0.049762</td>\n",
       "      <td>8.562458</td>\n",
       "      <td>2.078323</td>\n",
       "      <td>-0.610349</td>\n",
       "      <td>0.350412</td>\n",
       "      <td>8.444529</td>\n",
       "      <td>6.850532</td>\n",
       "      <td>9.662024</td>\n",
       "    </tr>\n",
       "    <tr>\n",
       "      <th>3</th>\n",
       "      <td>-3.570476</td>\n",
       "      <td>1.047782</td>\n",
       "      <td>[5.321580895454348]</td>\n",
       "      <td>[-2.4592427195066673]</td>\n",
       "      <td>-3.287524</td>\n",
       "      <td>-3.435775</td>\n",
       "      <td>-3.162887</td>\n",
       "      <td>1.337474</td>\n",
       "      <td>-0.008007</td>\n",
       "      <td>0.123655</td>\n",
       "      <td>...</td>\n",
       "      <td>0.261877</td>\n",
       "      <td>0.153863</td>\n",
       "      <td>0.003773</td>\n",
       "      <td>8.867436</td>\n",
       "      <td>1.772408</td>\n",
       "      <td>-0.778275</td>\n",
       "      <td>0.177460</td>\n",
       "      <td>8.713920</td>\n",
       "      <td>7.817427</td>\n",
       "      <td>9.315484</td>\n",
       "    </tr>\n",
       "    <tr>\n",
       "      <th>4</th>\n",
       "      <td>-13.017813</td>\n",
       "      <td>4.536636</td>\n",
       "      <td>[-1.4840094120829643]</td>\n",
       "      <td>[-0.014095997793724509]</td>\n",
       "      <td>-12.954422</td>\n",
       "      <td>-17.479152</td>\n",
       "      <td>-9.306759</td>\n",
       "      <td>-1.476275</td>\n",
       "      <td>-0.526782</td>\n",
       "      <td>0.397154</td>\n",
       "      <td>...</td>\n",
       "      <td>-0.262053</td>\n",
       "      <td>-0.033455</td>\n",
       "      <td>-0.123957</td>\n",
       "      <td>14.370211</td>\n",
       "      <td>4.535356</td>\n",
       "      <td>-1.504084</td>\n",
       "      <td>0.161216</td>\n",
       "      <td>13.931252</td>\n",
       "      <td>9.656055</td>\n",
       "      <td>17.892719</td>\n",
       "    </tr>\n",
       "    <tr>\n",
       "      <th>...</th>\n",
       "      <td>...</td>\n",
       "      <td>...</td>\n",
       "      <td>...</td>\n",
       "      <td>...</td>\n",
       "      <td>...</td>\n",
       "      <td>...</td>\n",
       "      <td>...</td>\n",
       "      <td>...</td>\n",
       "      <td>...</td>\n",
       "      <td>...</td>\n",
       "      <td>...</td>\n",
       "      <td>...</td>\n",
       "      <td>...</td>\n",
       "      <td>...</td>\n",
       "      <td>...</td>\n",
       "      <td>...</td>\n",
       "      <td>...</td>\n",
       "      <td>...</td>\n",
       "      <td>...</td>\n",
       "      <td>...</td>\n",
       "      <td>...</td>\n",
       "    </tr>\n",
       "    <tr>\n",
       "      <th>1154</th>\n",
       "      <td>-10.080834</td>\n",
       "      <td>1.701172</td>\n",
       "      <td>[-1.243579683179535]</td>\n",
       "      <td>[0.10411986467316538]</td>\n",
       "      <td>-10.237751</td>\n",
       "      <td>-11.603271</td>\n",
       "      <td>-8.636968</td>\n",
       "      <td>-0.421105</td>\n",
       "      <td>0.021567</td>\n",
       "      <td>0.099321</td>\n",
       "      <td>...</td>\n",
       "      <td>0.081381</td>\n",
       "      <td>0.086348</td>\n",
       "      <td>-0.020914</td>\n",
       "      <td>10.841418</td>\n",
       "      <td>1.695561</td>\n",
       "      <td>-1.361428</td>\n",
       "      <td>0.105636</td>\n",
       "      <td>10.847531</td>\n",
       "      <td>9.240642</td>\n",
       "      <td>12.089756</td>\n",
       "    </tr>\n",
       "    <tr>\n",
       "      <th>1155</th>\n",
       "      <td>-6.268748</td>\n",
       "      <td>0.537753</td>\n",
       "      <td>[-0.9202317754193485]</td>\n",
       "      <td>[0.05948897784166586]</td>\n",
       "      <td>-6.256390</td>\n",
       "      <td>-6.720305</td>\n",
       "      <td>-6.071638</td>\n",
       "      <td>0.742320</td>\n",
       "      <td>-0.059113</td>\n",
       "      <td>0.041368</td>\n",
       "      <td>...</td>\n",
       "      <td>-0.144727</td>\n",
       "      <td>-0.141943</td>\n",
       "      <td>-0.008227</td>\n",
       "      <td>9.122491</td>\n",
       "      <td>0.969370</td>\n",
       "      <td>-1.105904</td>\n",
       "      <td>0.488132</td>\n",
       "      <td>8.861207</td>\n",
       "      <td>8.266272</td>\n",
       "      <td>9.711399</td>\n",
       "    </tr>\n",
       "    <tr>\n",
       "      <th>1156</th>\n",
       "      <td>-10.425214</td>\n",
       "      <td>1.069774</td>\n",
       "      <td>[1.016570576721885]</td>\n",
       "      <td>[0.89938983632711]</td>\n",
       "      <td>-10.427676</td>\n",
       "      <td>-11.035772</td>\n",
       "      <td>-10.276550</td>\n",
       "      <td>-0.290018</td>\n",
       "      <td>-0.094124</td>\n",
       "      <td>0.204365</td>\n",
       "      <td>...</td>\n",
       "      <td>-0.054343</td>\n",
       "      <td>0.035144</td>\n",
       "      <td>-0.007988</td>\n",
       "      <td>11.248457</td>\n",
       "      <td>1.190451</td>\n",
       "      <td>0.913102</td>\n",
       "      <td>-1.001548</td>\n",
       "      <td>11.319947</td>\n",
       "      <td>11.019461</td>\n",
       "      <td>11.714232</td>\n",
       "    </tr>\n",
       "    <tr>\n",
       "      <th>1157</th>\n",
       "      <td>-10.727144</td>\n",
       "      <td>1.491100</td>\n",
       "      <td>[-0.9676718435541867]</td>\n",
       "      <td>[0.23178913987260583]</td>\n",
       "      <td>-10.911829</td>\n",
       "      <td>-11.723322</td>\n",
       "      <td>-9.995878</td>\n",
       "      <td>-0.543843</td>\n",
       "      <td>-0.072076</td>\n",
       "      <td>0.070476</td>\n",
       "      <td>...</td>\n",
       "      <td>0.240930</td>\n",
       "      <td>0.052530</td>\n",
       "      <td>-0.044713</td>\n",
       "      <td>11.065975</td>\n",
       "      <td>1.556707</td>\n",
       "      <td>-1.174520</td>\n",
       "      <td>-0.351264</td>\n",
       "      <td>11.334056</td>\n",
       "      <td>9.707524</td>\n",
       "      <td>12.250073</td>\n",
       "    </tr>\n",
       "    <tr>\n",
       "      <th>1158</th>\n",
       "      <td>-10.089628</td>\n",
       "      <td>1.685302</td>\n",
       "      <td>[-1.1175301300374472]</td>\n",
       "      <td>[-0.4046331499103605]</td>\n",
       "      <td>-9.502240</td>\n",
       "      <td>-11.438135</td>\n",
       "      <td>-9.046253</td>\n",
       "      <td>0.042693</td>\n",
       "      <td>-0.181062</td>\n",
       "      <td>-0.004959</td>\n",
       "      <td>...</td>\n",
       "      <td>-0.015007</td>\n",
       "      <td>-0.035824</td>\n",
       "      <td>0.009970</td>\n",
       "      <td>10.465680</td>\n",
       "      <td>1.638298</td>\n",
       "      <td>-1.140138</td>\n",
       "      <td>0.372992</td>\n",
       "      <td>9.871188</td>\n",
       "      <td>9.321301</td>\n",
       "      <td>11.419631</td>\n",
       "    </tr>\n",
       "  </tbody>\n",
       "</table>\n",
       "<p>1159 rows × 40 columns</p>\n",
       "</div>"
      ],
      "text/plain": [
       "         mean_X   stdev_X             kurtosis_X               skewness_X  \\\n",
       "0    -10.813475  1.627674  [-0.3317035815520657]    [-0.9744116635823238]   \n",
       "1    -12.450850  2.622394   [-1.097878118855529]  [0.0009318368322034966]   \n",
       "2     -3.700650  3.687896  [0.48021353472864226]    [-1.3231576261083449]   \n",
       "3     -3.570476  1.047782    [5.321580895454348]    [-2.4592427195066673]   \n",
       "4    -13.017813  4.536636  [-1.4840094120829643]  [-0.014095997793724509]   \n",
       "...         ...       ...                    ...                      ...   \n",
       "1154 -10.080834  1.701172   [-1.243579683179535]    [0.10411986467316538]   \n",
       "1155  -6.268748  0.537753  [-0.9202317754193485]    [0.05948897784166586]   \n",
       "1156 -10.425214  1.069774    [1.016570576721885]       [0.89938983632711]   \n",
       "1157 -10.727144  1.491100  [-0.9676718435541867]    [0.23178913987260583]   \n",
       "1158 -10.089628  1.685302  [-1.1175301300374472]    [-0.4046331499103605]   \n",
       "\n",
       "       median_X  quantile0.25_X  quantile0.7_X  component1_X  component2_X  \\\n",
       "0    -10.134047      -11.701287      -9.936817     -0.525328     -0.001843   \n",
       "1    -12.555412      -14.189653     -11.247635     -0.420844     -0.365640   \n",
       "2     -2.032054       -5.184559      -1.201629      1.068445      0.813392   \n",
       "3     -3.287524       -3.435775      -3.162887      1.337474     -0.008007   \n",
       "4    -12.954422      -17.479152      -9.306759     -1.476275     -0.526782   \n",
       "...         ...             ...            ...           ...           ...   \n",
       "1154 -10.237751      -11.603271      -8.636968     -0.421105      0.021567   \n",
       "1155  -6.256390       -6.720305      -6.071638      0.742320     -0.059113   \n",
       "1156 -10.427676      -11.035772     -10.276550     -0.290018     -0.094124   \n",
       "1157 -10.911829      -11.723322      -9.995878     -0.543843     -0.072076   \n",
       "1158  -9.502240      -11.438135      -9.046253      0.042693     -0.181062   \n",
       "\n",
       "      component3_X  ...  component2_Z  component3_Z  component4_Z  \\\n",
       "0         0.320340  ...      0.012631      0.088404     -0.089834   \n",
       "1         0.129404  ...      0.236904     -0.023415      0.054921   \n",
       "2        -0.148710  ...     -0.316157      0.016979      0.049762   \n",
       "3         0.123655  ...      0.261877      0.153863      0.003773   \n",
       "4         0.397154  ...     -0.262053     -0.033455     -0.123957   \n",
       "...            ...  ...           ...           ...           ...   \n",
       "1154      0.099321  ...      0.081381      0.086348     -0.020914   \n",
       "1155      0.041368  ...     -0.144727     -0.141943     -0.008227   \n",
       "1156      0.204365  ...     -0.054343      0.035144     -0.007988   \n",
       "1157      0.070476  ...      0.240930      0.052530     -0.044713   \n",
       "1158     -0.004959  ...     -0.015007     -0.035824      0.009970   \n",
       "\n",
       "     mean_magnitude stdev_magnitude  kurtosis_magnitude  skewness_magnitude  \\\n",
       "0         11.297999        1.506547           -0.290562            1.093173   \n",
       "1         13.330096        2.264886           -0.908761            0.398761   \n",
       "2          8.562458        2.078323           -0.610349            0.350412   \n",
       "3          8.867436        1.772408           -0.778275            0.177460   \n",
       "4         14.370211        4.535356           -1.504084            0.161216   \n",
       "...             ...             ...                 ...                 ...   \n",
       "1154      10.841418        1.695561           -1.361428            0.105636   \n",
       "1155       9.122491        0.969370           -1.105904            0.488132   \n",
       "1156      11.248457        1.190451            0.913102           -1.001548   \n",
       "1157      11.065975        1.556707           -1.174520           -0.351264   \n",
       "1158      10.465680        1.638298           -1.140138            0.372992   \n",
       "\n",
       "      median_magnitude  quantile0.25_magnitude  quantile0.7_magnitude  \n",
       "0            10.563626               10.258103              11.531836  \n",
       "1            13.074252               11.556275              14.145470  \n",
       "2             8.444529                6.850532               9.662024  \n",
       "3             8.713920                7.817427               9.315484  \n",
       "4            13.931252                9.656055              17.892719  \n",
       "...                ...                     ...                    ...  \n",
       "1154         10.847531                9.240642              12.089756  \n",
       "1155          8.861207                8.266272               9.711399  \n",
       "1156         11.319947               11.019461              11.714232  \n",
       "1157         11.334056                9.707524              12.250073  \n",
       "1158          9.871188                9.321301              11.419631  \n",
       "\n",
       "[1159 rows x 40 columns]"
      ]
     },
     "execution_count": 38,
     "metadata": {},
     "output_type": "execute_result"
    }
   ],
   "source": [
    "walking_df"
   ]
  },
  {
   "cell_type": "markdown",
   "metadata": {},
   "source": [
    "Label the data with proper activity:"
   ]
  },
  {
   "cell_type": "code",
   "execution_count": 39,
   "metadata": {},
   "outputs": [],
   "source": [
    "walking_df['label'] = 'walking'\n",
    "sitting_df['label'] = 'sitting'\n",
    "workout_df['label'] = 'workout'\n",
    "lying_df['label'] = 'lying'"
   ]
  },
  {
   "cell_type": "markdown",
   "metadata": {},
   "source": [
    "We will concatenate all data together in one DataFrame:"
   ]
  },
  {
   "cell_type": "code",
   "execution_count": 40,
   "metadata": {},
   "outputs": [],
   "source": [
    "frames = [walking_df, sitting_df, workout_df, lying_df]\n",
    "result_df = pd.concat(frames) # We concatenate all data together"
   ]
  },
  {
   "cell_type": "code",
   "execution_count": 41,
   "metadata": {},
   "outputs": [
    {
     "data": {
      "text/html": [
       "<div>\n",
       "<style scoped>\n",
       "    .dataframe tbody tr th:only-of-type {\n",
       "        vertical-align: middle;\n",
       "    }\n",
       "\n",
       "    .dataframe tbody tr th {\n",
       "        vertical-align: top;\n",
       "    }\n",
       "\n",
       "    .dataframe thead th {\n",
       "        text-align: right;\n",
       "    }\n",
       "</style>\n",
       "<table border=\"1\" class=\"dataframe\">\n",
       "  <thead>\n",
       "    <tr style=\"text-align: right;\">\n",
       "      <th></th>\n",
       "      <th>mean_X</th>\n",
       "      <th>stdev_X</th>\n",
       "      <th>kurtosis_X</th>\n",
       "      <th>skewness_X</th>\n",
       "      <th>median_X</th>\n",
       "      <th>quantile0.25_X</th>\n",
       "      <th>quantile0.7_X</th>\n",
       "      <th>component1_X</th>\n",
       "      <th>component2_X</th>\n",
       "      <th>component3_X</th>\n",
       "      <th>...</th>\n",
       "      <th>component3_Z</th>\n",
       "      <th>component4_Z</th>\n",
       "      <th>mean_magnitude</th>\n",
       "      <th>stdev_magnitude</th>\n",
       "      <th>kurtosis_magnitude</th>\n",
       "      <th>skewness_magnitude</th>\n",
       "      <th>median_magnitude</th>\n",
       "      <th>quantile0.25_magnitude</th>\n",
       "      <th>quantile0.7_magnitude</th>\n",
       "      <th>label</th>\n",
       "    </tr>\n",
       "  </thead>\n",
       "  <tbody>\n",
       "    <tr>\n",
       "      <th>0</th>\n",
       "      <td>-10.813475</td>\n",
       "      <td>1.627674</td>\n",
       "      <td>[-0.3317035815520657]</td>\n",
       "      <td>[-0.9744116635823238]</td>\n",
       "      <td>-10.134047</td>\n",
       "      <td>-11.701287</td>\n",
       "      <td>-9.936817</td>\n",
       "      <td>-0.525328</td>\n",
       "      <td>-0.001843</td>\n",
       "      <td>0.320340</td>\n",
       "      <td>...</td>\n",
       "      <td>0.088404</td>\n",
       "      <td>-0.089834</td>\n",
       "      <td>11.297999</td>\n",
       "      <td>1.506547</td>\n",
       "      <td>-0.290562</td>\n",
       "      <td>1.093173</td>\n",
       "      <td>10.563626</td>\n",
       "      <td>10.258103</td>\n",
       "      <td>11.531836</td>\n",
       "      <td>walking</td>\n",
       "    </tr>\n",
       "    <tr>\n",
       "      <th>1</th>\n",
       "      <td>-12.450850</td>\n",
       "      <td>2.622394</td>\n",
       "      <td>[-1.097878118855529]</td>\n",
       "      <td>[0.0009318368322034966]</td>\n",
       "      <td>-12.555412</td>\n",
       "      <td>-14.189653</td>\n",
       "      <td>-11.247635</td>\n",
       "      <td>-0.420844</td>\n",
       "      <td>-0.365640</td>\n",
       "      <td>0.129404</td>\n",
       "      <td>...</td>\n",
       "      <td>-0.023415</td>\n",
       "      <td>0.054921</td>\n",
       "      <td>13.330096</td>\n",
       "      <td>2.264886</td>\n",
       "      <td>-0.908761</td>\n",
       "      <td>0.398761</td>\n",
       "      <td>13.074252</td>\n",
       "      <td>11.556275</td>\n",
       "      <td>14.145470</td>\n",
       "      <td>walking</td>\n",
       "    </tr>\n",
       "    <tr>\n",
       "      <th>2</th>\n",
       "      <td>-3.700650</td>\n",
       "      <td>3.687896</td>\n",
       "      <td>[0.48021353472864226]</td>\n",
       "      <td>[-1.3231576261083449]</td>\n",
       "      <td>-2.032054</td>\n",
       "      <td>-5.184559</td>\n",
       "      <td>-1.201629</td>\n",
       "      <td>1.068445</td>\n",
       "      <td>0.813392</td>\n",
       "      <td>-0.148710</td>\n",
       "      <td>...</td>\n",
       "      <td>0.016979</td>\n",
       "      <td>0.049762</td>\n",
       "      <td>8.562458</td>\n",
       "      <td>2.078323</td>\n",
       "      <td>-0.610349</td>\n",
       "      <td>0.350412</td>\n",
       "      <td>8.444529</td>\n",
       "      <td>6.850532</td>\n",
       "      <td>9.662024</td>\n",
       "      <td>walking</td>\n",
       "    </tr>\n",
       "    <tr>\n",
       "      <th>3</th>\n",
       "      <td>-3.570476</td>\n",
       "      <td>1.047782</td>\n",
       "      <td>[5.321580895454348]</td>\n",
       "      <td>[-2.4592427195066673]</td>\n",
       "      <td>-3.287524</td>\n",
       "      <td>-3.435775</td>\n",
       "      <td>-3.162887</td>\n",
       "      <td>1.337474</td>\n",
       "      <td>-0.008007</td>\n",
       "      <td>0.123655</td>\n",
       "      <td>...</td>\n",
       "      <td>0.153863</td>\n",
       "      <td>0.003773</td>\n",
       "      <td>8.867436</td>\n",
       "      <td>1.772408</td>\n",
       "      <td>-0.778275</td>\n",
       "      <td>0.177460</td>\n",
       "      <td>8.713920</td>\n",
       "      <td>7.817427</td>\n",
       "      <td>9.315484</td>\n",
       "      <td>walking</td>\n",
       "    </tr>\n",
       "    <tr>\n",
       "      <th>4</th>\n",
       "      <td>-13.017813</td>\n",
       "      <td>4.536636</td>\n",
       "      <td>[-1.4840094120829643]</td>\n",
       "      <td>[-0.014095997793724509]</td>\n",
       "      <td>-12.954422</td>\n",
       "      <td>-17.479152</td>\n",
       "      <td>-9.306759</td>\n",
       "      <td>-1.476275</td>\n",
       "      <td>-0.526782</td>\n",
       "      <td>0.397154</td>\n",
       "      <td>...</td>\n",
       "      <td>-0.033455</td>\n",
       "      <td>-0.123957</td>\n",
       "      <td>14.370211</td>\n",
       "      <td>4.535356</td>\n",
       "      <td>-1.504084</td>\n",
       "      <td>0.161216</td>\n",
       "      <td>13.931252</td>\n",
       "      <td>9.656055</td>\n",
       "      <td>17.892719</td>\n",
       "      <td>walking</td>\n",
       "    </tr>\n",
       "    <tr>\n",
       "      <th>...</th>\n",
       "      <td>...</td>\n",
       "      <td>...</td>\n",
       "      <td>...</td>\n",
       "      <td>...</td>\n",
       "      <td>...</td>\n",
       "      <td>...</td>\n",
       "      <td>...</td>\n",
       "      <td>...</td>\n",
       "      <td>...</td>\n",
       "      <td>...</td>\n",
       "      <td>...</td>\n",
       "      <td>...</td>\n",
       "      <td>...</td>\n",
       "      <td>...</td>\n",
       "      <td>...</td>\n",
       "      <td>...</td>\n",
       "      <td>...</td>\n",
       "      <td>...</td>\n",
       "      <td>...</td>\n",
       "      <td>...</td>\n",
       "      <td>...</td>\n",
       "    </tr>\n",
       "    <tr>\n",
       "      <th>4751</th>\n",
       "      <td>0.964101</td>\n",
       "      <td>0.004161</td>\n",
       "      <td>[0.24045934097827892]</td>\n",
       "      <td>[-0.6032850043988093]</td>\n",
       "      <td>0.964714</td>\n",
       "      <td>0.961600</td>\n",
       "      <td>0.966941</td>\n",
       "      <td>-0.198064</td>\n",
       "      <td>-0.000202</td>\n",
       "      <td>-0.001643</td>\n",
       "      <td>...</td>\n",
       "      <td>0.000574</td>\n",
       "      <td>0.001605</td>\n",
       "      <td>9.860988</td>\n",
       "      <td>0.004036</td>\n",
       "      <td>-0.465559</td>\n",
       "      <td>-0.743641</td>\n",
       "      <td>9.862428</td>\n",
       "      <td>9.857715</td>\n",
       "      <td>9.863927</td>\n",
       "      <td>lying</td>\n",
       "    </tr>\n",
       "    <tr>\n",
       "      <th>4752</th>\n",
       "      <td>0.959272</td>\n",
       "      <td>0.007143</td>\n",
       "      <td>[-0.4184147474447357]</td>\n",
       "      <td>[0.15857094058055107]</td>\n",
       "      <td>0.959325</td>\n",
       "      <td>0.954236</td>\n",
       "      <td>0.962870</td>\n",
       "      <td>-0.198959</td>\n",
       "      <td>-0.000475</td>\n",
       "      <td>-0.000618</td>\n",
       "      <td>...</td>\n",
       "      <td>0.000252</td>\n",
       "      <td>0.001153</td>\n",
       "      <td>9.861419</td>\n",
       "      <td>0.004158</td>\n",
       "      <td>1.124578</td>\n",
       "      <td>-0.946981</td>\n",
       "      <td>9.862256</td>\n",
       "      <td>9.860043</td>\n",
       "      <td>9.863710</td>\n",
       "      <td>lying</td>\n",
       "    </tr>\n",
       "    <tr>\n",
       "      <th>4753</th>\n",
       "      <td>0.965394</td>\n",
       "      <td>0.004884</td>\n",
       "      <td>[-0.8379470456161147]</td>\n",
       "      <td>[0.38681225362905425]</td>\n",
       "      <td>0.964474</td>\n",
       "      <td>0.962079</td>\n",
       "      <td>0.968857</td>\n",
       "      <td>-0.198088</td>\n",
       "      <td>-0.001021</td>\n",
       "      <td>-0.000702</td>\n",
       "      <td>...</td>\n",
       "      <td>0.000635</td>\n",
       "      <td>0.000469</td>\n",
       "      <td>9.861265</td>\n",
       "      <td>0.003833</td>\n",
       "      <td>-0.575587</td>\n",
       "      <td>-0.178340</td>\n",
       "      <td>9.860838</td>\n",
       "      <td>9.858485</td>\n",
       "      <td>9.863413</td>\n",
       "      <td>lying</td>\n",
       "    </tr>\n",
       "    <tr>\n",
       "      <th>4754</th>\n",
       "      <td>0.979697</td>\n",
       "      <td>0.007176</td>\n",
       "      <td>[-0.9780577354878841]</td>\n",
       "      <td>[0.2661997305824463]</td>\n",
       "      <td>0.978246</td>\n",
       "      <td>0.974054</td>\n",
       "      <td>0.983946</td>\n",
       "      <td>-0.194604</td>\n",
       "      <td>0.000141</td>\n",
       "      <td>0.000114</td>\n",
       "      <td>...</td>\n",
       "      <td>0.001692</td>\n",
       "      <td>0.001545</td>\n",
       "      <td>9.858368</td>\n",
       "      <td>0.003691</td>\n",
       "      <td>-0.848355</td>\n",
       "      <td>0.126531</td>\n",
       "      <td>9.858618</td>\n",
       "      <td>9.855389</td>\n",
       "      <td>9.860936</td>\n",
       "      <td>lying</td>\n",
       "    </tr>\n",
       "    <tr>\n",
       "      <th>4755</th>\n",
       "      <td>0.980957</td>\n",
       "      <td>0.007333</td>\n",
       "      <td>[0.8532080205691193]</td>\n",
       "      <td>[1.262055606982932]</td>\n",
       "      <td>0.979084</td>\n",
       "      <td>0.976270</td>\n",
       "      <td>0.982030</td>\n",
       "      <td>-0.194632</td>\n",
       "      <td>0.000054</td>\n",
       "      <td>-0.001318</td>\n",
       "      <td>...</td>\n",
       "      <td>0.000700</td>\n",
       "      <td>0.001341</td>\n",
       "      <td>9.860298</td>\n",
       "      <td>0.004301</td>\n",
       "      <td>-0.869874</td>\n",
       "      <td>0.291401</td>\n",
       "      <td>9.859741</td>\n",
       "      <td>9.856993</td>\n",
       "      <td>9.862884</td>\n",
       "      <td>lying</td>\n",
       "    </tr>\n",
       "  </tbody>\n",
       "</table>\n",
       "<p>4756 rows × 41 columns</p>\n",
       "</div>"
      ],
      "text/plain": [
       "         mean_X   stdev_X             kurtosis_X               skewness_X  \\\n",
       "0    -10.813475  1.627674  [-0.3317035815520657]    [-0.9744116635823238]   \n",
       "1    -12.450850  2.622394   [-1.097878118855529]  [0.0009318368322034966]   \n",
       "2     -3.700650  3.687896  [0.48021353472864226]    [-1.3231576261083449]   \n",
       "3     -3.570476  1.047782    [5.321580895454348]    [-2.4592427195066673]   \n",
       "4    -13.017813  4.536636  [-1.4840094120829643]  [-0.014095997793724509]   \n",
       "...         ...       ...                    ...                      ...   \n",
       "4751   0.964101  0.004161  [0.24045934097827892]    [-0.6032850043988093]   \n",
       "4752   0.959272  0.007143  [-0.4184147474447357]    [0.15857094058055107]   \n",
       "4753   0.965394  0.004884  [-0.8379470456161147]    [0.38681225362905425]   \n",
       "4754   0.979697  0.007176  [-0.9780577354878841]     [0.2661997305824463]   \n",
       "4755   0.980957  0.007333   [0.8532080205691193]      [1.262055606982932]   \n",
       "\n",
       "       median_X  quantile0.25_X  quantile0.7_X  component1_X  component2_X  \\\n",
       "0    -10.134047      -11.701287      -9.936817     -0.525328     -0.001843   \n",
       "1    -12.555412      -14.189653     -11.247635     -0.420844     -0.365640   \n",
       "2     -2.032054       -5.184559      -1.201629      1.068445      0.813392   \n",
       "3     -3.287524       -3.435775      -3.162887      1.337474     -0.008007   \n",
       "4    -12.954422      -17.479152      -9.306759     -1.476275     -0.526782   \n",
       "...         ...             ...            ...           ...           ...   \n",
       "4751   0.964714        0.961600       0.966941     -0.198064     -0.000202   \n",
       "4752   0.959325        0.954236       0.962870     -0.198959     -0.000475   \n",
       "4753   0.964474        0.962079       0.968857     -0.198088     -0.001021   \n",
       "4754   0.978246        0.974054       0.983946     -0.194604      0.000141   \n",
       "4755   0.979084        0.976270       0.982030     -0.194632      0.000054   \n",
       "\n",
       "      component3_X  ...  component3_Z  component4_Z  mean_magnitude  \\\n",
       "0         0.320340  ...      0.088404     -0.089834       11.297999   \n",
       "1         0.129404  ...     -0.023415      0.054921       13.330096   \n",
       "2        -0.148710  ...      0.016979      0.049762        8.562458   \n",
       "3         0.123655  ...      0.153863      0.003773        8.867436   \n",
       "4         0.397154  ...     -0.033455     -0.123957       14.370211   \n",
       "...            ...  ...           ...           ...             ...   \n",
       "4751     -0.001643  ...      0.000574      0.001605        9.860988   \n",
       "4752     -0.000618  ...      0.000252      0.001153        9.861419   \n",
       "4753     -0.000702  ...      0.000635      0.000469        9.861265   \n",
       "4754      0.000114  ...      0.001692      0.001545        9.858368   \n",
       "4755     -0.001318  ...      0.000700      0.001341        9.860298   \n",
       "\n",
       "     stdev_magnitude kurtosis_magnitude  skewness_magnitude  median_magnitude  \\\n",
       "0           1.506547          -0.290562            1.093173         10.563626   \n",
       "1           2.264886          -0.908761            0.398761         13.074252   \n",
       "2           2.078323          -0.610349            0.350412          8.444529   \n",
       "3           1.772408          -0.778275            0.177460          8.713920   \n",
       "4           4.535356          -1.504084            0.161216         13.931252   \n",
       "...              ...                ...                 ...               ...   \n",
       "4751        0.004036          -0.465559           -0.743641          9.862428   \n",
       "4752        0.004158           1.124578           -0.946981          9.862256   \n",
       "4753        0.003833          -0.575587           -0.178340          9.860838   \n",
       "4754        0.003691          -0.848355            0.126531          9.858618   \n",
       "4755        0.004301          -0.869874            0.291401          9.859741   \n",
       "\n",
       "      quantile0.25_magnitude  quantile0.7_magnitude    label  \n",
       "0                  10.258103              11.531836  walking  \n",
       "1                  11.556275              14.145470  walking  \n",
       "2                   6.850532               9.662024  walking  \n",
       "3                   7.817427               9.315484  walking  \n",
       "4                   9.656055              17.892719  walking  \n",
       "...                      ...                    ...      ...  \n",
       "4751                9.857715               9.863927    lying  \n",
       "4752                9.860043               9.863710    lying  \n",
       "4753                9.858485               9.863413    lying  \n",
       "4754                9.855389               9.860936    lying  \n",
       "4755                9.856993               9.862884    lying  \n",
       "\n",
       "[4756 rows x 41 columns]"
      ]
     },
     "execution_count": 41,
     "metadata": {},
     "output_type": "execute_result"
    }
   ],
   "source": [
    "result_df = result_df.reset_index().drop(['index'], axis = 1) # Data for training and testing\n",
    "result_df"
   ]
  },
  {
   "cell_type": "code",
   "execution_count": 42,
   "metadata": {},
   "outputs": [
    {
     "data": {
      "text/plain": [
       "mean_X                    float64\n",
       "stdev_X                   float64\n",
       "kurtosis_X                 object\n",
       "skewness_X                 object\n",
       "median_X                  float64\n",
       "quantile0.25_X            float64\n",
       "quantile0.7_X             float64\n",
       "component1_X              float64\n",
       "component2_X              float64\n",
       "component3_X              float64\n",
       "component4_X              float64\n",
       "mean_Y                    float64\n",
       "stdev_Y                   float64\n",
       "kurtosis_Y                 object\n",
       "skewness_Y                 object\n",
       "median_Y                  float64\n",
       "quantile0.25_Y            float64\n",
       "quantile0.7_Y             float64\n",
       "component1_Y              float64\n",
       "component2_Y              float64\n",
       "component3_Y              float64\n",
       "component4_Y              float64\n",
       "mean_Z                    float64\n",
       "stdev_Z                   float64\n",
       "kurtosis_Z                 object\n",
       "skewness_Z                 object\n",
       "median_Z                  float64\n",
       "quantile0.25_Z            float64\n",
       "quantile0.7_Z             float64\n",
       "component1_Z              float64\n",
       "component2_Z              float64\n",
       "component3_Z              float64\n",
       "component4_Z              float64\n",
       "mean_magnitude            float64\n",
       "stdev_magnitude           float64\n",
       "kurtosis_magnitude        float64\n",
       "skewness_magnitude        float64\n",
       "median_magnitude          float64\n",
       "quantile0.25_magnitude    float64\n",
       "quantile0.7_magnitude     float64\n",
       "label                      object\n",
       "dtype: object"
      ]
     },
     "execution_count": 42,
     "metadata": {},
     "output_type": "execute_result"
    }
   ],
   "source": [
    "result_df.dtypes # The type of each column"
   ]
  },
  {
   "cell_type": "markdown",
   "metadata": {},
   "source": [
    "We will change the types of kurtosis and skewness into float64:"
   ]
  },
  {
   "cell_type": "code",
   "execution_count": 43,
   "metadata": {},
   "outputs": [],
   "source": [
    "result_df['kurtosis_X'] = result_df['kurtosis_X'].astype('float64')\n",
    "result_df['skewness_X'] = result_df['skewness_X'].astype('float64')\n",
    "result_df['kurtosis_Y'] = result_df['kurtosis_Y'].astype('float64')\n",
    "result_df['skewness_Y'] = result_df['skewness_Y'].astype('float64')\n",
    "result_df['kurtosis_Z'] = result_df['kurtosis_Z'].astype('float64')\n",
    "result_df['skewness_Z'] = result_df['skewness_Z'].astype('float64')"
   ]
  },
  {
   "cell_type": "code",
   "execution_count": 44,
   "metadata": {},
   "outputs": [
    {
     "data": {
      "text/html": [
       "<div>\n",
       "<style scoped>\n",
       "    .dataframe tbody tr th:only-of-type {\n",
       "        vertical-align: middle;\n",
       "    }\n",
       "\n",
       "    .dataframe tbody tr th {\n",
       "        vertical-align: top;\n",
       "    }\n",
       "\n",
       "    .dataframe thead th {\n",
       "        text-align: right;\n",
       "    }\n",
       "</style>\n",
       "<table border=\"1\" class=\"dataframe\">\n",
       "  <thead>\n",
       "    <tr style=\"text-align: right;\">\n",
       "      <th></th>\n",
       "      <th>mean_X</th>\n",
       "      <th>stdev_X</th>\n",
       "      <th>kurtosis_X</th>\n",
       "      <th>skewness_X</th>\n",
       "      <th>median_X</th>\n",
       "      <th>quantile0.25_X</th>\n",
       "      <th>quantile0.7_X</th>\n",
       "      <th>component1_X</th>\n",
       "      <th>component2_X</th>\n",
       "      <th>component3_X</th>\n",
       "      <th>...</th>\n",
       "      <th>component3_Z</th>\n",
       "      <th>component4_Z</th>\n",
       "      <th>mean_magnitude</th>\n",
       "      <th>stdev_magnitude</th>\n",
       "      <th>kurtosis_magnitude</th>\n",
       "      <th>skewness_magnitude</th>\n",
       "      <th>median_magnitude</th>\n",
       "      <th>quantile0.25_magnitude</th>\n",
       "      <th>quantile0.7_magnitude</th>\n",
       "      <th>label</th>\n",
       "    </tr>\n",
       "  </thead>\n",
       "  <tbody>\n",
       "    <tr>\n",
       "      <th>0</th>\n",
       "      <td>-10.813475</td>\n",
       "      <td>1.627674</td>\n",
       "      <td>-0.331704</td>\n",
       "      <td>-0.974412</td>\n",
       "      <td>-10.134047</td>\n",
       "      <td>-11.701287</td>\n",
       "      <td>-9.936817</td>\n",
       "      <td>-0.525328</td>\n",
       "      <td>-0.001843</td>\n",
       "      <td>0.320340</td>\n",
       "      <td>...</td>\n",
       "      <td>0.088404</td>\n",
       "      <td>-0.089834</td>\n",
       "      <td>11.297999</td>\n",
       "      <td>1.506547</td>\n",
       "      <td>-0.290562</td>\n",
       "      <td>1.093173</td>\n",
       "      <td>10.563626</td>\n",
       "      <td>10.258103</td>\n",
       "      <td>11.531836</td>\n",
       "      <td>walking</td>\n",
       "    </tr>\n",
       "    <tr>\n",
       "      <th>1</th>\n",
       "      <td>-12.450850</td>\n",
       "      <td>2.622394</td>\n",
       "      <td>-1.097878</td>\n",
       "      <td>0.000932</td>\n",
       "      <td>-12.555412</td>\n",
       "      <td>-14.189653</td>\n",
       "      <td>-11.247635</td>\n",
       "      <td>-0.420844</td>\n",
       "      <td>-0.365640</td>\n",
       "      <td>0.129404</td>\n",
       "      <td>...</td>\n",
       "      <td>-0.023415</td>\n",
       "      <td>0.054921</td>\n",
       "      <td>13.330096</td>\n",
       "      <td>2.264886</td>\n",
       "      <td>-0.908761</td>\n",
       "      <td>0.398761</td>\n",
       "      <td>13.074252</td>\n",
       "      <td>11.556275</td>\n",
       "      <td>14.145470</td>\n",
       "      <td>walking</td>\n",
       "    </tr>\n",
       "    <tr>\n",
       "      <th>2</th>\n",
       "      <td>-3.700650</td>\n",
       "      <td>3.687896</td>\n",
       "      <td>0.480214</td>\n",
       "      <td>-1.323158</td>\n",
       "      <td>-2.032054</td>\n",
       "      <td>-5.184559</td>\n",
       "      <td>-1.201629</td>\n",
       "      <td>1.068445</td>\n",
       "      <td>0.813392</td>\n",
       "      <td>-0.148710</td>\n",
       "      <td>...</td>\n",
       "      <td>0.016979</td>\n",
       "      <td>0.049762</td>\n",
       "      <td>8.562458</td>\n",
       "      <td>2.078323</td>\n",
       "      <td>-0.610349</td>\n",
       "      <td>0.350412</td>\n",
       "      <td>8.444529</td>\n",
       "      <td>6.850532</td>\n",
       "      <td>9.662024</td>\n",
       "      <td>walking</td>\n",
       "    </tr>\n",
       "    <tr>\n",
       "      <th>3</th>\n",
       "      <td>-3.570476</td>\n",
       "      <td>1.047782</td>\n",
       "      <td>5.321581</td>\n",
       "      <td>-2.459243</td>\n",
       "      <td>-3.287524</td>\n",
       "      <td>-3.435775</td>\n",
       "      <td>-3.162887</td>\n",
       "      <td>1.337474</td>\n",
       "      <td>-0.008007</td>\n",
       "      <td>0.123655</td>\n",
       "      <td>...</td>\n",
       "      <td>0.153863</td>\n",
       "      <td>0.003773</td>\n",
       "      <td>8.867436</td>\n",
       "      <td>1.772408</td>\n",
       "      <td>-0.778275</td>\n",
       "      <td>0.177460</td>\n",
       "      <td>8.713920</td>\n",
       "      <td>7.817427</td>\n",
       "      <td>9.315484</td>\n",
       "      <td>walking</td>\n",
       "    </tr>\n",
       "    <tr>\n",
       "      <th>4</th>\n",
       "      <td>-13.017813</td>\n",
       "      <td>4.536636</td>\n",
       "      <td>-1.484009</td>\n",
       "      <td>-0.014096</td>\n",
       "      <td>-12.954422</td>\n",
       "      <td>-17.479152</td>\n",
       "      <td>-9.306759</td>\n",
       "      <td>-1.476275</td>\n",
       "      <td>-0.526782</td>\n",
       "      <td>0.397154</td>\n",
       "      <td>...</td>\n",
       "      <td>-0.033455</td>\n",
       "      <td>-0.123957</td>\n",
       "      <td>14.370211</td>\n",
       "      <td>4.535356</td>\n",
       "      <td>-1.504084</td>\n",
       "      <td>0.161216</td>\n",
       "      <td>13.931252</td>\n",
       "      <td>9.656055</td>\n",
       "      <td>17.892719</td>\n",
       "      <td>walking</td>\n",
       "    </tr>\n",
       "    <tr>\n",
       "      <th>...</th>\n",
       "      <td>...</td>\n",
       "      <td>...</td>\n",
       "      <td>...</td>\n",
       "      <td>...</td>\n",
       "      <td>...</td>\n",
       "      <td>...</td>\n",
       "      <td>...</td>\n",
       "      <td>...</td>\n",
       "      <td>...</td>\n",
       "      <td>...</td>\n",
       "      <td>...</td>\n",
       "      <td>...</td>\n",
       "      <td>...</td>\n",
       "      <td>...</td>\n",
       "      <td>...</td>\n",
       "      <td>...</td>\n",
       "      <td>...</td>\n",
       "      <td>...</td>\n",
       "      <td>...</td>\n",
       "      <td>...</td>\n",
       "      <td>...</td>\n",
       "    </tr>\n",
       "    <tr>\n",
       "      <th>4751</th>\n",
       "      <td>0.964101</td>\n",
       "      <td>0.004161</td>\n",
       "      <td>0.240459</td>\n",
       "      <td>-0.603285</td>\n",
       "      <td>0.964714</td>\n",
       "      <td>0.961600</td>\n",
       "      <td>0.966941</td>\n",
       "      <td>-0.198064</td>\n",
       "      <td>-0.000202</td>\n",
       "      <td>-0.001643</td>\n",
       "      <td>...</td>\n",
       "      <td>0.000574</td>\n",
       "      <td>0.001605</td>\n",
       "      <td>9.860988</td>\n",
       "      <td>0.004036</td>\n",
       "      <td>-0.465559</td>\n",
       "      <td>-0.743641</td>\n",
       "      <td>9.862428</td>\n",
       "      <td>9.857715</td>\n",
       "      <td>9.863927</td>\n",
       "      <td>lying</td>\n",
       "    </tr>\n",
       "    <tr>\n",
       "      <th>4752</th>\n",
       "      <td>0.959272</td>\n",
       "      <td>0.007143</td>\n",
       "      <td>-0.418415</td>\n",
       "      <td>0.158571</td>\n",
       "      <td>0.959325</td>\n",
       "      <td>0.954236</td>\n",
       "      <td>0.962870</td>\n",
       "      <td>-0.198959</td>\n",
       "      <td>-0.000475</td>\n",
       "      <td>-0.000618</td>\n",
       "      <td>...</td>\n",
       "      <td>0.000252</td>\n",
       "      <td>0.001153</td>\n",
       "      <td>9.861419</td>\n",
       "      <td>0.004158</td>\n",
       "      <td>1.124578</td>\n",
       "      <td>-0.946981</td>\n",
       "      <td>9.862256</td>\n",
       "      <td>9.860043</td>\n",
       "      <td>9.863710</td>\n",
       "      <td>lying</td>\n",
       "    </tr>\n",
       "    <tr>\n",
       "      <th>4753</th>\n",
       "      <td>0.965394</td>\n",
       "      <td>0.004884</td>\n",
       "      <td>-0.837947</td>\n",
       "      <td>0.386812</td>\n",
       "      <td>0.964474</td>\n",
       "      <td>0.962079</td>\n",
       "      <td>0.968857</td>\n",
       "      <td>-0.198088</td>\n",
       "      <td>-0.001021</td>\n",
       "      <td>-0.000702</td>\n",
       "      <td>...</td>\n",
       "      <td>0.000635</td>\n",
       "      <td>0.000469</td>\n",
       "      <td>9.861265</td>\n",
       "      <td>0.003833</td>\n",
       "      <td>-0.575587</td>\n",
       "      <td>-0.178340</td>\n",
       "      <td>9.860838</td>\n",
       "      <td>9.858485</td>\n",
       "      <td>9.863413</td>\n",
       "      <td>lying</td>\n",
       "    </tr>\n",
       "    <tr>\n",
       "      <th>4754</th>\n",
       "      <td>0.979697</td>\n",
       "      <td>0.007176</td>\n",
       "      <td>-0.978058</td>\n",
       "      <td>0.266200</td>\n",
       "      <td>0.978246</td>\n",
       "      <td>0.974054</td>\n",
       "      <td>0.983946</td>\n",
       "      <td>-0.194604</td>\n",
       "      <td>0.000141</td>\n",
       "      <td>0.000114</td>\n",
       "      <td>...</td>\n",
       "      <td>0.001692</td>\n",
       "      <td>0.001545</td>\n",
       "      <td>9.858368</td>\n",
       "      <td>0.003691</td>\n",
       "      <td>-0.848355</td>\n",
       "      <td>0.126531</td>\n",
       "      <td>9.858618</td>\n",
       "      <td>9.855389</td>\n",
       "      <td>9.860936</td>\n",
       "      <td>lying</td>\n",
       "    </tr>\n",
       "    <tr>\n",
       "      <th>4755</th>\n",
       "      <td>0.980957</td>\n",
       "      <td>0.007333</td>\n",
       "      <td>0.853208</td>\n",
       "      <td>1.262056</td>\n",
       "      <td>0.979084</td>\n",
       "      <td>0.976270</td>\n",
       "      <td>0.982030</td>\n",
       "      <td>-0.194632</td>\n",
       "      <td>0.000054</td>\n",
       "      <td>-0.001318</td>\n",
       "      <td>...</td>\n",
       "      <td>0.000700</td>\n",
       "      <td>0.001341</td>\n",
       "      <td>9.860298</td>\n",
       "      <td>0.004301</td>\n",
       "      <td>-0.869874</td>\n",
       "      <td>0.291401</td>\n",
       "      <td>9.859741</td>\n",
       "      <td>9.856993</td>\n",
       "      <td>9.862884</td>\n",
       "      <td>lying</td>\n",
       "    </tr>\n",
       "  </tbody>\n",
       "</table>\n",
       "<p>4756 rows × 41 columns</p>\n",
       "</div>"
      ],
      "text/plain": [
       "         mean_X   stdev_X  kurtosis_X  skewness_X   median_X  quantile0.25_X  \\\n",
       "0    -10.813475  1.627674   -0.331704   -0.974412 -10.134047      -11.701287   \n",
       "1    -12.450850  2.622394   -1.097878    0.000932 -12.555412      -14.189653   \n",
       "2     -3.700650  3.687896    0.480214   -1.323158  -2.032054       -5.184559   \n",
       "3     -3.570476  1.047782    5.321581   -2.459243  -3.287524       -3.435775   \n",
       "4    -13.017813  4.536636   -1.484009   -0.014096 -12.954422      -17.479152   \n",
       "...         ...       ...         ...         ...        ...             ...   \n",
       "4751   0.964101  0.004161    0.240459   -0.603285   0.964714        0.961600   \n",
       "4752   0.959272  0.007143   -0.418415    0.158571   0.959325        0.954236   \n",
       "4753   0.965394  0.004884   -0.837947    0.386812   0.964474        0.962079   \n",
       "4754   0.979697  0.007176   -0.978058    0.266200   0.978246        0.974054   \n",
       "4755   0.980957  0.007333    0.853208    1.262056   0.979084        0.976270   \n",
       "\n",
       "      quantile0.7_X  component1_X  component2_X  component3_X  ...  \\\n",
       "0         -9.936817     -0.525328     -0.001843      0.320340  ...   \n",
       "1        -11.247635     -0.420844     -0.365640      0.129404  ...   \n",
       "2         -1.201629      1.068445      0.813392     -0.148710  ...   \n",
       "3         -3.162887      1.337474     -0.008007      0.123655  ...   \n",
       "4         -9.306759     -1.476275     -0.526782      0.397154  ...   \n",
       "...             ...           ...           ...           ...  ...   \n",
       "4751       0.966941     -0.198064     -0.000202     -0.001643  ...   \n",
       "4752       0.962870     -0.198959     -0.000475     -0.000618  ...   \n",
       "4753       0.968857     -0.198088     -0.001021     -0.000702  ...   \n",
       "4754       0.983946     -0.194604      0.000141      0.000114  ...   \n",
       "4755       0.982030     -0.194632      0.000054     -0.001318  ...   \n",
       "\n",
       "      component3_Z  component4_Z  mean_magnitude  stdev_magnitude  \\\n",
       "0         0.088404     -0.089834       11.297999         1.506547   \n",
       "1        -0.023415      0.054921       13.330096         2.264886   \n",
       "2         0.016979      0.049762        8.562458         2.078323   \n",
       "3         0.153863      0.003773        8.867436         1.772408   \n",
       "4        -0.033455     -0.123957       14.370211         4.535356   \n",
       "...            ...           ...             ...              ...   \n",
       "4751      0.000574      0.001605        9.860988         0.004036   \n",
       "4752      0.000252      0.001153        9.861419         0.004158   \n",
       "4753      0.000635      0.000469        9.861265         0.003833   \n",
       "4754      0.001692      0.001545        9.858368         0.003691   \n",
       "4755      0.000700      0.001341        9.860298         0.004301   \n",
       "\n",
       "      kurtosis_magnitude  skewness_magnitude  median_magnitude  \\\n",
       "0              -0.290562            1.093173         10.563626   \n",
       "1              -0.908761            0.398761         13.074252   \n",
       "2              -0.610349            0.350412          8.444529   \n",
       "3              -0.778275            0.177460          8.713920   \n",
       "4              -1.504084            0.161216         13.931252   \n",
       "...                  ...                 ...               ...   \n",
       "4751           -0.465559           -0.743641          9.862428   \n",
       "4752            1.124578           -0.946981          9.862256   \n",
       "4753           -0.575587           -0.178340          9.860838   \n",
       "4754           -0.848355            0.126531          9.858618   \n",
       "4755           -0.869874            0.291401          9.859741   \n",
       "\n",
       "      quantile0.25_magnitude  quantile0.7_magnitude    label  \n",
       "0                  10.258103              11.531836  walking  \n",
       "1                  11.556275              14.145470  walking  \n",
       "2                   6.850532               9.662024  walking  \n",
       "3                   7.817427               9.315484  walking  \n",
       "4                   9.656055              17.892719  walking  \n",
       "...                      ...                    ...      ...  \n",
       "4751                9.857715               9.863927    lying  \n",
       "4752                9.860043               9.863710    lying  \n",
       "4753                9.858485               9.863413    lying  \n",
       "4754                9.855389               9.860936    lying  \n",
       "4755                9.856993               9.862884    lying  \n",
       "\n",
       "[4756 rows x 41 columns]"
      ]
     },
     "execution_count": 44,
     "metadata": {},
     "output_type": "execute_result"
    }
   ],
   "source": [
    "result_df"
   ]
  },
  {
   "cell_type": "code",
   "execution_count": 45,
   "metadata": {},
   "outputs": [
    {
     "data": {
      "text/plain": [
       "mean_X                    float64\n",
       "stdev_X                   float64\n",
       "kurtosis_X                float64\n",
       "skewness_X                float64\n",
       "median_X                  float64\n",
       "quantile0.25_X            float64\n",
       "quantile0.7_X             float64\n",
       "component1_X              float64\n",
       "component2_X              float64\n",
       "component3_X              float64\n",
       "component4_X              float64\n",
       "mean_Y                    float64\n",
       "stdev_Y                   float64\n",
       "kurtosis_Y                float64\n",
       "skewness_Y                float64\n",
       "median_Y                  float64\n",
       "quantile0.25_Y            float64\n",
       "quantile0.7_Y             float64\n",
       "component1_Y              float64\n",
       "component2_Y              float64\n",
       "component3_Y              float64\n",
       "component4_Y              float64\n",
       "mean_Z                    float64\n",
       "stdev_Z                   float64\n",
       "kurtosis_Z                float64\n",
       "skewness_Z                float64\n",
       "median_Z                  float64\n",
       "quantile0.25_Z            float64\n",
       "quantile0.7_Z             float64\n",
       "component1_Z              float64\n",
       "component2_Z              float64\n",
       "component3_Z              float64\n",
       "component4_Z              float64\n",
       "mean_magnitude            float64\n",
       "stdev_magnitude           float64\n",
       "kurtosis_magnitude        float64\n",
       "skewness_magnitude        float64\n",
       "median_magnitude          float64\n",
       "quantile0.25_magnitude    float64\n",
       "quantile0.7_magnitude     float64\n",
       "label                      object\n",
       "dtype: object"
      ]
     },
     "execution_count": 45,
     "metadata": {},
     "output_type": "execute_result"
    }
   ],
   "source": [
    "result_df.dtypes # Now the types look okay"
   ]
  },
  {
   "cell_type": "markdown",
   "metadata": {},
   "source": [
    "Split the data into X and Y:"
   ]
  },
  {
   "cell_type": "code",
   "execution_count": 46,
   "metadata": {},
   "outputs": [],
   "source": [
    "X = result_df.iloc[:,:-1]\n",
    "Y = result_df[['label']]"
   ]
  },
  {
   "cell_type": "code",
   "execution_count": 47,
   "metadata": {},
   "outputs": [
    {
     "name": "stderr",
     "output_type": "stream",
     "text": [
      "C:\\Users\\melanija\\anaconda3\\lib\\site-packages\\sklearn\\utils\\validation.py:72: DataConversionWarning: A column-vector y was passed when a 1d array was expected. Please change the shape of y to (n_samples, ), for example using ravel().\n",
      "  return f(**kwargs)\n",
      "<ipython-input-47-0a98df5e081a>:2: SettingWithCopyWarning: \n",
      "A value is trying to be set on a copy of a slice from a DataFrame.\n",
      "Try using .loc[row_indexer,col_indexer] = value instead\n",
      "\n",
      "See the caveats in the documentation: https://pandas.pydata.org/pandas-docs/stable/user_guide/indexing.html#returning-a-view-versus-a-copy\n",
      "  Y['label code'] = labelencoder.fit_transform(Y)\n"
     ]
    }
   ],
   "source": [
    "labelencoder = LabelEncoder()\n",
    "Y['label code'] = labelencoder.fit_transform(Y)"
   ]
  },
  {
   "cell_type": "code",
   "execution_count": 48,
   "metadata": {},
   "outputs": [
    {
     "data": {
      "text/plain": [
       "array(['lying', 'sitting', 'walking', 'workout'], dtype=object)"
      ]
     },
     "execution_count": 48,
     "metadata": {},
     "output_type": "execute_result"
    }
   ],
   "source": [
    "labelencoder.classes_ # [lying:0, sitting:1, walking:2, workout:3]"
   ]
  },
  {
   "cell_type": "code",
   "execution_count": 49,
   "metadata": {},
   "outputs": [
    {
     "data": {
      "text/plain": [
       "array([2, 1, 3, 0])"
      ]
     },
     "execution_count": 49,
     "metadata": {},
     "output_type": "execute_result"
    }
   ],
   "source": [
    "Y['label code'].unique()"
   ]
  },
  {
   "cell_type": "markdown",
   "metadata": {},
   "source": [
    "### Scaling data"
   ]
  },
  {
   "cell_type": "markdown",
   "metadata": {},
   "source": [
    "We have two options: Standard Scaler and MinMax Scaler, so we will try both of them."
   ]
  },
  {
   "cell_type": "markdown",
   "metadata": {},
   "source": [
    "### Standard Scaler (Standardize features by removing the mean and scaling to unit variance)"
   ]
  },
  {
   "cell_type": "code",
   "execution_count": 50,
   "metadata": {},
   "outputs": [
    {
     "data": {
      "text/plain": [
       "RangeIndex(start=0, stop=4756, step=1)"
      ]
     },
     "execution_count": 50,
     "metadata": {},
     "output_type": "execute_result"
    }
   ],
   "source": [
    "X.index"
   ]
  },
  {
   "cell_type": "code",
   "execution_count": 70,
   "metadata": {},
   "outputs": [],
   "source": [
    "scaler = StandardScaler()\n",
    "X = pd.DataFrame(scaler.fit_transform(X), columns = X.columns, index = X.index)"
   ]
  },
  {
   "cell_type": "code",
   "execution_count": 52,
   "metadata": {},
   "outputs": [],
   "source": [
    "scaler_max = MinMaxScaler()\n",
    "X_max = pd.DataFrame(scaler_max.fit_transform(X), columns = X.columns, index = X.index)"
   ]
  },
  {
   "cell_type": "code",
   "execution_count": 71,
   "metadata": {},
   "outputs": [],
   "source": [
    "X_train, X_test, y_train, y_test = train_test_split(X, Y['label code'], test_size=0.3, random_state = 42) # Train and test split"
   ]
  },
  {
   "cell_type": "code",
   "execution_count": 54,
   "metadata": {},
   "outputs": [],
   "source": [
    "X_train, X_test, y_train, y_test = train_test_split(X_max, Y['label code'], test_size=0.3, random_state = 42) # Train and test split"
   ]
  },
  {
   "cell_type": "markdown",
   "metadata": {},
   "source": [
    "# Random Forest "
   ]
  },
  {
   "cell_type": "markdown",
   "metadata": {},
   "source": [
    "### With Standard Scaler:"
   ]
  },
  {
   "cell_type": "code",
   "execution_count": 119,
   "metadata": {},
   "outputs": [
    {
     "data": {
      "text/plain": [
       "RandomForestClassifier(max_depth=100, n_estimators=500, random_state=1)"
      ]
     },
     "execution_count": 119,
     "metadata": {},
     "output_type": "execute_result"
    }
   ],
   "source": [
    "clf = RandomForestClassifier(n_estimators = 500, max_depth=100, random_state=1)\n",
    "clf.fit(X_train, y_train)"
   ]
  },
  {
   "cell_type": "code",
   "execution_count": 120,
   "metadata": {},
   "outputs": [],
   "source": [
    "y_pred = clf.predict(X_test)"
   ]
  },
  {
   "cell_type": "code",
   "execution_count": 121,
   "metadata": {},
   "outputs": [
    {
     "data": {
      "text/plain": [
       "array([1, 2, 0, ..., 2, 0, 2])"
      ]
     },
     "execution_count": 121,
     "metadata": {},
     "output_type": "execute_result"
    }
   ],
   "source": [
    "y_pred"
   ]
  },
  {
   "cell_type": "code",
   "execution_count": 122,
   "metadata": {},
   "outputs": [
    {
     "data": {
      "text/plain": [
       "0.9831814996496145"
      ]
     },
     "execution_count": 122,
     "metadata": {},
     "output_type": "execute_result"
    }
   ],
   "source": [
    "clf.score(X_test, y_test)"
   ]
  },
  {
   "cell_type": "code",
   "execution_count": 123,
   "metadata": {},
   "outputs": [
    {
     "data": {
      "text/plain": [
       "<sklearn.metrics._plot.confusion_matrix.ConfusionMatrixDisplay at 0x2152bd9f850>"
      ]
     },
     "execution_count": 123,
     "metadata": {},
     "output_type": "execute_result"
    },
    {
     "data": {
      "image/png": "[encoded data removed]",
      "text/plain": [
       "<Figure size 432x288 with 2 Axes>"
      ]
     },
     "metadata": {
      "needs_background": "light"
     },
     "output_type": "display_data"
    }
   ],
   "source": [
    "confusion_matrix(y_test, y_pred)\n",
    "plot_confusion_matrix(clf, X_test, y_test)"
   ]
  },
  {
   "cell_type": "code",
   "execution_count": 55,
   "metadata": {},
   "outputs": [],
   "source": [
    "def evaluate_model(model, X_test, y_test):\n",
    "    \"\"\"This function predicts X_test and display the information about the predicted value and the real value\"\"\"\n",
    "    y_pred = model.predict(X_test)\n",
    "    \n",
    "    print(classification_report(y_test, y_pred))"
   ]
  },
  {
   "cell_type": "code",
   "execution_count": 125,
   "metadata": {},
   "outputs": [
    {
     "name": "stdout",
     "output_type": "stream",
     "text": [
      "              precision    recall  f1-score   support\n",
      "\n",
      "           0       0.98      0.97      0.97       371\n",
      "           1       0.96      0.98      0.97       354\n",
      "           2       1.00      0.99      0.99       364\n",
      "           3       1.00      1.00      1.00       338\n",
      "\n",
      "    accuracy                           0.98      1427\n",
      "   macro avg       0.98      0.98      0.98      1427\n",
      "weighted avg       0.98      0.98      0.98      1427\n",
      "\n"
     ]
    }
   ],
   "source": [
    "evaluate_model(clf, X_test, y_test)"
   ]
  },
  {
   "cell_type": "markdown",
   "metadata": {},
   "source": [
    "### With Min Max Scaler:"
   ]
  },
  {
   "cell_type": "code",
   "execution_count": 56,
   "metadata": {},
   "outputs": [
    {
     "name": "stdout",
     "output_type": "stream",
     "text": [
      "0.9838822704975473\n",
      "              precision    recall  f1-score   support\n",
      "\n",
      "           0       0.98      0.97      0.97       371\n",
      "           1       0.97      0.98      0.97       354\n",
      "           2       1.00      0.99      0.99       364\n",
      "           3       1.00      1.00      1.00       338\n",
      "\n",
      "    accuracy                           0.98      1427\n",
      "   macro avg       0.98      0.98      0.98      1427\n",
      "weighted avg       0.98      0.98      0.98      1427\n",
      "\n"
     ]
    }
   ],
   "source": [
    "clf = RandomForestClassifier(n_estimators = 500, max_depth=100, random_state=1)\n",
    "clf.fit(X_train, y_train)\n",
    "print(clf.score(X_test, y_test))\n",
    "evaluate_model(clf, X_test, y_test)"
   ]
  },
  {
   "cell_type": "markdown",
   "metadata": {},
   "source": [
    "# KNeighborsClassifier"
   ]
  },
  {
   "cell_type": "code",
   "execution_count": 57,
   "metadata": {},
   "outputs": [],
   "source": [
    "def build_model():\n",
    "    \"\"\"This function returns machine learning pipeline\"\"\"\n",
    "    pipeline = Pipeline([\n",
    "\n",
    "       ('clf', KNeighborsClassifier())\n",
    "    ])\n",
    "\n",
    "    # specify parameters for grid search\n",
    "    parameters = {'clf__n_neighbors'  : [4, 10, 13],\n",
    "\n",
    "\n",
    "   }\n",
    "\n",
    "    # create grid search object\n",
    "    cv = GridSearchCV(pipeline, param_grid = parameters, cv = 3)\n",
    "    # cv = GridSearchCV(pipeline, param_grid=parameters)\n",
    "    return cv"
   ]
  },
  {
   "cell_type": "code",
   "execution_count": 58,
   "metadata": {},
   "outputs": [],
   "source": [
    "model = build_model()"
   ]
  },
  {
   "cell_type": "markdown",
   "metadata": {},
   "source": [
    "### With Standard Scaler:"
   ]
  },
  {
   "cell_type": "code",
   "execution_count": 132,
   "metadata": {},
   "outputs": [
    {
     "data": {
      "text/plain": [
       "GridSearchCV(cv=3, estimator=Pipeline(steps=[('clf', KNeighborsClassifier())]),\n",
       "             param_grid={'clf__n_neighbors': [4, 10, 13]})"
      ]
     },
     "execution_count": 132,
     "metadata": {},
     "output_type": "execute_result"
    }
   ],
   "source": [
    "model.fit(X_train, y_train)"
   ]
  },
  {
   "cell_type": "code",
   "execution_count": 133,
   "metadata": {},
   "outputs": [
    {
     "name": "stdout",
     "output_type": "stream",
     "text": [
      "              precision    recall  f1-score   support\n",
      "\n",
      "           0       0.86      0.86      0.86       371\n",
      "           1       0.84      0.88      0.86       354\n",
      "           2       0.99      0.99      0.99       364\n",
      "           3       1.00      0.96      0.98       338\n",
      "\n",
      "    accuracy                           0.92      1427\n",
      "   macro avg       0.92      0.92      0.92      1427\n",
      "weighted avg       0.92      0.92      0.92      1427\n",
      "\n"
     ]
    }
   ],
   "source": [
    "evaluate_model(model, X_test, y_test)"
   ]
  },
  {
   "cell_type": "code",
   "execution_count": 134,
   "metadata": {},
   "outputs": [
    {
     "data": {
      "text/plain": [
       "<sklearn.metrics._plot.confusion_matrix.ConfusionMatrixDisplay at 0x2152bd9fca0>"
      ]
     },
     "execution_count": 134,
     "metadata": {},
     "output_type": "execute_result"
    },
    {
     "data": {
      "image/png": "[encoded data removed]",
      "text/plain": [
       "<Figure size 432x288 with 2 Axes>"
      ]
     },
     "metadata": {
      "needs_background": "light"
     },
     "output_type": "display_data"
    }
   ],
   "source": [
    "plot_confusion_matrix(model, X_test, y_test)"
   ]
  },
  {
   "cell_type": "markdown",
   "metadata": {},
   "source": [
    "### With Min Max Scaler:"
   ]
  },
  {
   "cell_type": "code",
   "execution_count": 59,
   "metadata": {},
   "outputs": [
    {
     "name": "stdout",
     "output_type": "stream",
     "text": [
      "              precision    recall  f1-score   support\n",
      "\n",
      "           0       0.88      0.88      0.88       371\n",
      "           1       0.86      0.89      0.87       354\n",
      "           2       0.99      0.99      0.99       364\n",
      "           3       1.00      0.97      0.99       338\n",
      "\n",
      "    accuracy                           0.93      1427\n",
      "   macro avg       0.93      0.93      0.93      1427\n",
      "weighted avg       0.93      0.93      0.93      1427\n",
      "\n"
     ]
    }
   ],
   "source": [
    "model.fit(X_train, y_train)\n",
    "evaluate_model(model, X_test, y_test)"
   ]
  },
  {
   "cell_type": "code",
   "execution_count": 60,
   "metadata": {},
   "outputs": [
    {
     "data": {
      "text/plain": [
       "<sklearn.metrics._plot.confusion_matrix.ConfusionMatrixDisplay at 0x200c66c6b80>"
      ]
     },
     "execution_count": 60,
     "metadata": {},
     "output_type": "execute_result"
    },
    {
     "data": {
      "image/png": "[encoded data removed]",
      "text/plain": [
       "<Figure size 432x288 with 2 Axes>"
      ]
     },
     "metadata": {
      "needs_background": "light"
     },
     "output_type": "display_data"
    }
   ],
   "source": [
    "plot_confusion_matrix(model, X_test, y_test)"
   ]
  },
  {
   "cell_type": "markdown",
   "metadata": {},
   "source": [
    "# SVM"
   ]
  },
  {
   "cell_type": "code",
   "execution_count": 136,
   "metadata": {},
   "outputs": [
    {
     "data": {
      "text/plain": [
       "SVC(decision_function_shape='ovo')"
      ]
     },
     "execution_count": 136,
     "metadata": {},
     "output_type": "execute_result"
    }
   ],
   "source": [
    "### START\n",
    "clf = svm.SVC(decision_function_shape='ovo')\n",
    "clf.fit(X_train, y_train)"
   ]
  },
  {
   "cell_type": "code",
   "execution_count": 137,
   "metadata": {},
   "outputs": [],
   "source": [
    "y_pred = clf.predict(X_test)"
   ]
  },
  {
   "cell_type": "code",
   "execution_count": 139,
   "metadata": {},
   "outputs": [
    {
     "name": "stdout",
     "output_type": "stream",
     "text": [
      "              precision    recall  f1-score   support\n",
      "\n",
      "           0       0.97      0.94      0.95       371\n",
      "           1       0.95      0.97      0.96       354\n",
      "           2       1.00      0.99      1.00       364\n",
      "           3       0.99      1.00      0.99       338\n",
      "\n",
      "    accuracy                           0.98      1427\n",
      "   macro avg       0.98      0.98      0.98      1427\n",
      "weighted avg       0.98      0.98      0.98      1427\n",
      "\n"
     ]
    }
   ],
   "source": [
    "evaluate_model(clf, X_test, y_test)evaluate_model(clf, X_test, y_test)"
   ]
  },
  {
   "cell_type": "code",
   "execution_count": 141,
   "metadata": {},
   "outputs": [],
   "source": [
    "### START\n",
    "svc = svm.SVC(kernel='rbf', C=1, gamma=1).fit(X_train, y_train)"
   ]
  },
  {
   "cell_type": "code",
   "execution_count": 142,
   "metadata": {},
   "outputs": [
    {
     "name": "stdout",
     "output_type": "stream",
     "text": [
      "              precision    recall  f1-score   support\n",
      "\n",
      "           0       0.98      0.56      0.71       371\n",
      "           1       0.94      0.66      0.77       354\n",
      "           2       1.00      0.51      0.68       364\n",
      "           3       0.43      1.00      0.60       338\n",
      "\n",
      "    accuracy                           0.68      1427\n",
      "   macro avg       0.84      0.68      0.69      1427\n",
      "weighted avg       0.85      0.68      0.69      1427\n",
      "\n"
     ]
    }
   ],
   "source": [
    "evaluate_model(svc, X_test, y_test)"
   ]
  },
  {
   "cell_type": "code",
   "execution_count": 143,
   "metadata": {},
   "outputs": [],
   "source": [
    "### START\n",
    "svc = svm.SVC(kernel='poly', C=1, gamma=1).fit(X_train, y_train)"
   ]
  },
  {
   "cell_type": "code",
   "execution_count": 144,
   "metadata": {},
   "outputs": [
    {
     "name": "stdout",
     "output_type": "stream",
     "text": [
      "              precision    recall  f1-score   support\n",
      "\n",
      "           0       0.97      0.98      0.97       371\n",
      "           1       0.96      0.97      0.97       354\n",
      "           2       0.99      0.99      0.99       364\n",
      "           3       1.00      0.98      0.99       338\n",
      "\n",
      "    accuracy                           0.98      1427\n",
      "   macro avg       0.98      0.98      0.98      1427\n",
      "weighted avg       0.98      0.98      0.98      1427\n",
      "\n"
     ]
    }
   ],
   "source": [
    "evaluate_model(svc, X_test, y_test)"
   ]
  },
  {
   "cell_type": "code",
   "execution_count": 145,
   "metadata": {},
   "outputs": [
    {
     "name": "stdout",
     "output_type": "stream",
     "text": [
      "              precision    recall  f1-score   support\n",
      "\n",
      "           0       0.18      0.25      0.21       371\n",
      "           1       0.22      0.21      0.22       354\n",
      "           2       0.75      0.65      0.69       364\n",
      "           3       0.81      0.64      0.71       338\n",
      "\n",
      "    accuracy                           0.43      1427\n",
      "   macro avg       0.49      0.43      0.46      1427\n",
      "weighted avg       0.48      0.43      0.45      1427\n",
      "\n"
     ]
    }
   ],
   "source": [
    "### START\n",
    "svc = svm.SVC(kernel='sigmoid', C=1, gamma=1).fit(X_train, y_train)\n",
    "evaluate_model(svc, X_test, y_test)"
   ]
  },
  {
   "cell_type": "markdown",
   "metadata": {},
   "source": [
    "We will continue with kernel = 'poly':"
   ]
  },
  {
   "cell_type": "code",
   "execution_count": 146,
   "metadata": {},
   "outputs": [
    {
     "name": "stdout",
     "output_type": "stream",
     "text": [
      "              precision    recall  f1-score   support\n",
      "\n",
      "           0       0.95      0.19      0.32       371\n",
      "           1       0.49      0.99      0.66       354\n",
      "           2       0.97      0.94      0.96       364\n",
      "           3       1.00      0.83      0.91       338\n",
      "\n",
      "    accuracy                           0.73      1427\n",
      "   macro avg       0.85      0.74      0.71      1427\n",
      "weighted avg       0.85      0.73      0.70      1427\n",
      "\n"
     ]
    }
   ],
   "source": [
    "### START\n",
    "svc = svm.SVC(kernel='poly', C=1, gamma=0.01).fit(X_train, y_train)\n",
    "evaluate_model(svc, X_test, y_test) #Smaller gamma = worst results"
   ]
  },
  {
   "cell_type": "code",
   "execution_count": 147,
   "metadata": {},
   "outputs": [
    {
     "name": "stdout",
     "output_type": "stream",
     "text": [
      "              precision    recall  f1-score   support\n",
      "\n",
      "           0       0.94      0.68      0.79       371\n",
      "           1       0.72      0.96      0.82       354\n",
      "           2       1.00      0.98      0.99       364\n",
      "           3       1.00      0.96      0.98       338\n",
      "\n",
      "    accuracy                           0.89      1427\n",
      "   macro avg       0.91      0.90      0.89      1427\n",
      "weighted avg       0.91      0.89      0.89      1427\n",
      "\n"
     ]
    }
   ],
   "source": [
    "### START\n",
    "svc = svm.SVC(kernel='poly', C=1).fit(X_train, y_train)\n",
    "evaluate_model(svc, X_test, y_test)"
   ]
  },
  {
   "cell_type": "code",
   "execution_count": 148,
   "metadata": {},
   "outputs": [
    {
     "data": {
      "text/plain": [
       "SVC(kernel='poly')"
      ]
     },
     "execution_count": 148,
     "metadata": {},
     "output_type": "execute_result"
    }
   ],
   "source": [
    "### START\n",
    "clf = svm.SVC(kernel = 'poly', decision_function_shape='ovr')\n",
    "clf.fit(X_train, y_train)"
   ]
  },
  {
   "cell_type": "code",
   "execution_count": 149,
   "metadata": {},
   "outputs": [
    {
     "name": "stdout",
     "output_type": "stream",
     "text": [
      "              precision    recall  f1-score   support\n",
      "\n",
      "           0       0.94      0.68      0.79       371\n",
      "           1       0.72      0.96      0.82       354\n",
      "           2       1.00      0.98      0.99       364\n",
      "           3       1.00      0.96      0.98       338\n",
      "\n",
      "    accuracy                           0.89      1427\n",
      "   macro avg       0.91      0.90      0.89      1427\n",
      "weighted avg       0.91      0.89      0.89      1427\n",
      "\n"
     ]
    }
   ],
   "source": [
    "evaluate_model(clf, X_test, y_test)"
   ]
  },
  {
   "cell_type": "code",
   "execution_count": 150,
   "metadata": {},
   "outputs": [
    {
     "name": "stdout",
     "output_type": "stream",
     "text": [
      "              precision    recall  f1-score   support\n",
      "\n",
      "           0       0.97      0.98      0.97       371\n",
      "           1       0.96      0.97      0.97       354\n",
      "           2       0.99      0.99      0.99       364\n",
      "           3       1.00      0.98      0.99       338\n",
      "\n",
      "    accuracy                           0.98      1427\n",
      "   macro avg       0.98      0.98      0.98      1427\n",
      "weighted avg       0.98      0.98      0.98      1427\n",
      "\n"
     ]
    }
   ],
   "source": [
    "### START\n",
    "svc = svm.SVC(kernel='poly', C=3, gamma=1).fit(X_train, y_train)\n",
    "evaluate_model(svc, X_test, y_test)"
   ]
  },
  {
   "cell_type": "code",
   "execution_count": 151,
   "metadata": {},
   "outputs": [
    {
     "data": {
      "text/plain": [
       "<sklearn.metrics._plot.confusion_matrix.ConfusionMatrixDisplay at 0x21526ad8fa0>"
      ]
     },
     "execution_count": 151,
     "metadata": {},
     "output_type": "execute_result"
    },
    {
     "data": {
      "image/png": "[encoded data removed]",
      "text/plain": [
       "<Figure size 432x288 with 2 Axes>"
      ]
     },
     "metadata": {
      "needs_background": "light"
     },
     "output_type": "display_data"
    }
   ],
   "source": [
    "plot_confusion_matrix(svc, X_test, y_test)"
   ]
  },
  {
   "cell_type": "markdown",
   "metadata": {},
   "source": [
    "### With Min Max Scaler:"
   ]
  },
  {
   "cell_type": "code",
   "execution_count": 63,
   "metadata": {},
   "outputs": [
    {
     "name": "stdout",
     "output_type": "stream",
     "text": [
      "              precision    recall  f1-score   support\n",
      "\n",
      "           0       0.99      0.99      0.99       371\n",
      "           1       0.99      0.99      0.99       354\n",
      "           2       1.00      0.99      1.00       364\n",
      "           3       1.00      1.00      1.00       338\n",
      "\n",
      "    accuracy                           0.99      1427\n",
      "   macro avg       0.99      0.99      0.99      1427\n",
      "weighted avg       0.99      0.99      0.99      1427\n",
      "\n"
     ]
    }
   ],
   "source": [
    "### START\n",
    "svc = svm.SVC(kernel='poly', C=3, gamma=1).fit(X_train, y_train)\n",
    "evaluate_model(svc, X_test, y_test)"
   ]
  },
  {
   "cell_type": "code",
   "execution_count": 64,
   "metadata": {},
   "outputs": [
    {
     "data": {
      "text/plain": [
       "<sklearn.metrics._plot.confusion_matrix.ConfusionMatrixDisplay at 0x200bb51ea00>"
      ]
     },
     "execution_count": 64,
     "metadata": {},
     "output_type": "execute_result"
    },
    {
     "data": {
      "image/png": "[encoded data removed]",
      "text/plain": [
       "<Figure size 432x288 with 2 Axes>"
      ]
     },
     "metadata": {
      "needs_background": "light"
     },
     "output_type": "display_data"
    }
   ],
   "source": [
    "plot_confusion_matrix(svc, X_test, y_test)"
   ]
  },
  {
   "cell_type": "markdown",
   "metadata": {},
   "source": [
    "#  Decision Tree"
   ]
  },
  {
   "cell_type": "code",
   "execution_count": 152,
   "metadata": {},
   "outputs": [
    {
     "data": {
      "text/plain": [
       "array([0.9760479 , 0.95808383, 0.97005988, 0.94610778, 0.95808383,\n",
       "       0.9760479 , 0.94610778, 0.97005988, 0.94610778, 0.96987952,\n",
       "       0.98192771, 0.97590361, 0.95180723, 0.98192771, 0.95783133,\n",
       "       0.96987952, 0.96385542, 0.95783133, 0.94578313, 0.94578313])"
      ]
     },
     "execution_count": 152,
     "metadata": {},
     "output_type": "execute_result"
    }
   ],
   "source": [
    "clf = DecisionTreeClassifier(random_state=0)\n",
    "cross_val_score(clf, X_train, y_train, cv=20)"
   ]
  },
  {
   "cell_type": "code",
   "execution_count": 154,
   "metadata": {},
   "outputs": [
    {
     "data": {
      "text/plain": [
       "0.964260686755431"
      ]
     },
     "execution_count": 154,
     "metadata": {},
     "output_type": "execute_result"
    }
   ],
   "source": [
    "clf.fit(X_train, y_train)\n",
    "clf.score(X_test, y_test)"
   ]
  },
  {
   "cell_type": "code",
   "execution_count": 155,
   "metadata": {},
   "outputs": [
    {
     "data": {
      "text/plain": [
       "<sklearn.metrics._plot.confusion_matrix.ConfusionMatrixDisplay at 0x2152976a8b0>"
      ]
     },
     "execution_count": 155,
     "metadata": {},
     "output_type": "execute_result"
    },
    {
     "data": {
      "image/png": "[encoded data removed]",
      "text/plain": [
       "<Figure size 432x288 with 2 Axes>"
      ]
     },
     "metadata": {
      "needs_background": "light"
     },
     "output_type": "display_data"
    }
   ],
   "source": [
    "plot_confusion_matrix(clf, X_test, y_test)"
   ]
  },
  {
   "cell_type": "markdown",
   "metadata": {},
   "source": [
    "Accuracy: 0.98 is the best so far."
   ]
  },
  {
   "cell_type": "markdown",
   "metadata": {},
   "source": [
    "# GradientBoostingClassifier"
   ]
  },
  {
   "cell_type": "markdown",
   "metadata": {},
   "source": [
    "### With Min Max Scaler:"
   ]
  },
  {
   "cell_type": "code",
   "execution_count": 67,
   "metadata": {},
   "outputs": [
    {
     "data": {
      "text/plain": [
       "0.9866853538892782"
      ]
     },
     "execution_count": 67,
     "metadata": {},
     "output_type": "execute_result"
    }
   ],
   "source": [
    "### START\n",
    "clf = GradientBoostingClassifier(n_estimators=100, learning_rate=1.0, max_depth=1, random_state=0).fit(X_train, y_train)\n",
    "clf.score(X_test, y_test)"
   ]
  },
  {
   "cell_type": "code",
   "execution_count": 68,
   "metadata": {},
   "outputs": [
    {
     "data": {
      "text/plain": [
       "<sklearn.metrics._plot.confusion_matrix.ConfusionMatrixDisplay at 0x200c6675880>"
      ]
     },
     "execution_count": 68,
     "metadata": {},
     "output_type": "execute_result"
    },
    {
     "data": {
      "image/png": "[encoded data removed]",
      "text/plain": [
       "<Figure size 432x288 with 2 Axes>"
      ]
     },
     "metadata": {
      "needs_background": "light"
     },
     "output_type": "display_data"
    }
   ],
   "source": [
    "plot_confusion_matrix(clf, X_test, y_test)"
   ]
  },
  {
   "cell_type": "code",
   "execution_count": 69,
   "metadata": {},
   "outputs": [
    {
     "data": {
      "text/plain": [
       "0.9614576033637001"
      ]
     },
     "execution_count": 69,
     "metadata": {},
     "output_type": "execute_result"
    }
   ],
   "source": [
    "### START\n",
    "clf = GradientBoostingClassifier(n_estimators=400, learning_rate=0.01, max_depth=10, random_state=0).fit(X_train, y_train)\n",
    "clf.score(X_test, y_test)"
   ]
  },
  {
   "cell_type": "markdown",
   "metadata": {},
   "source": [
    "### With Standard Scaler:"
   ]
  },
  {
   "cell_type": "code",
   "execution_count": 73,
   "metadata": {},
   "outputs": [
    {
     "data": {
      "text/plain": [
       "0.9887876664330764"
      ]
     },
     "execution_count": 73,
     "metadata": {},
     "output_type": "execute_result"
    }
   ],
   "source": [
    "### START\n",
    "clf = GradientBoostingClassifier(n_estimators=100, learning_rate=1.0, max_depth=5, random_state=4).fit(X_train, y_train)\n",
    "clf.score(X_test, y_test)"
   ]
  },
  {
   "cell_type": "code",
   "execution_count": 74,
   "metadata": {},
   "outputs": [
    {
     "data": {
      "text/plain": [
       "<sklearn.metrics._plot.confusion_matrix.ConfusionMatrixDisplay at 0x200cbccad30>"
      ]
     },
     "execution_count": 74,
     "metadata": {},
     "output_type": "execute_result"
    },
    {
     "data": {
      "image/png": "[encoded data removed]",
      "text/plain": [
       "<Figure size 432x288 with 2 Axes>"
      ]
     },
     "metadata": {
      "needs_background": "light"
     },
     "output_type": "display_data"
    }
   ],
   "source": [
    "plot_confusion_matrix(clf, X_test, y_test)"
   ]
  },
  {
   "cell_type": "code",
   "execution_count": 82,
   "metadata": {},
   "outputs": [],
   "source": [
    "# Models without FFT and PCA\n",
    "walking_acc_features3_x = feature_extraction(walking_accelerometer_filtered['x'].reset_index().drop(['index'], axis = 1).values)\n",
    "lying_acc_features3_x = feature_extraction(lying_accelerometer_filtered['x'].reset_index().drop(['index'], axis = 1).values)\n",
    "sitting_acc_features3_x = feature_extraction(sitting_accelerometer_filtered['x'].reset_index().drop(['index'], axis = 1).values)\n",
    "workout_acc_features3_x = feature_extraction(workout_accelerometer_filtered['x'].reset_index().drop(['index'], axis = 1).values)\n",
    "\n",
    "walking_acc_features3_y = feature_extraction(walking_accelerometer_filtered['y'].reset_index().drop(['index'], axis = 1).values)\n",
    "lying_acc_features3_y = feature_extraction(lying_accelerometer_filtered['y'].reset_index().drop(['index'], axis = 1).values)\n",
    "sitting_acc_features3_y = feature_extraction(sitting_accelerometer_filtered['y'].reset_index().drop(['index'], axis = 1).values)\n",
    "workout_acc_features3_y = feature_extraction(workout_accelerometer_filtered['y'].reset_index().drop(['index'], axis = 1).values)\n",
    "\n",
    "walking_acc_features3_z = feature_extraction(walking_accelerometer_filtered['z'].reset_index().drop(['index'], axis = 1).values)\n",
    "lying_acc_features3_z = feature_extraction(lying_accelerometer_filtered['z'].reset_index().drop(['index'], axis = 1).values)\n",
    "sitting_acc_features3_z = feature_extraction(sitting_accelerometer_filtered['z'].reset_index().drop(['index'], axis = 1).values)\n",
    "workout_acc_features3_z = feature_extraction(workout_accelerometer_filtered['z'].reset_index().drop(['index'], axis = 1).values)\n",
    "\n",
    "walking_acc_features3_x = walking_acc_features3_x.rename(columns={'mean_magnitude': 'mean_X', 'stdev_magnitude': 'stdev_X', 'kurtosis_magnitude': 'kurtosis_X', 'skewness_magnitude': 'skewness_X', 'median_magnitude': 'median_X', 'quantile0.25_magnitude': 'quantile0.25_X', 'quantile0.7_magnitude': 'quantile0.7_X' })\n",
    "lying_acc_features3_x = lying_acc_features3_x.rename(columns={'mean_magnitude': 'mean_X', 'stdev_magnitude': 'stdev_X', 'kurtosis_magnitude': 'kurtosis_X', 'skewness_magnitude': 'skewness_X', 'median_magnitude': 'median_X', 'quantile0.25_magnitude': 'quantile0.25_X', 'quantile0.7_magnitude': 'quantile0.7_X'})\n",
    "sitting_acc_features3_x = sitting_acc_features3_x.rename(columns={'mean_magnitude': 'mean_X', 'stdev_magnitude': 'stdev_X', 'kurtosis_magnitude': 'kurtosis_X', 'skewness_magnitude': 'skewness_X', 'median_magnitude': 'median_X', 'quantile0.25_magnitude': 'quantile0.25_X', 'quantile0.7_magnitude': 'quantile0.7_X'})\n",
    "workout_acc_features3_x = workout_acc_features3_x.rename(columns={'mean_magnitude': 'mean_X', 'stdev_magnitude': 'stdev_X', 'kurtosis_magnitude': 'kurtosis_X', 'skewness_magnitude': 'skewness_X', 'median_magnitude': 'median_X', 'quantile0.25_magnitude': 'quantile0.25_X', 'quantile0.7_magnitude': 'quantile0.7_X'})\n",
    "\n",
    "walking_acc_features3_y = walking_acc_features3_y.rename(columns={'mean_magnitude': 'mean_Y', 'stdev_magnitude': 'stdev_Y', 'kurtosis_magnitude': 'kurtosis_Y', 'skewness_magnitude': 'skewness_Y', 'median_magnitude': 'median_Y', 'quantile0.25_magnitude': 'quantile0.25_Y', 'quantile0.7_magnitude': 'quantile0.7_Y' })\n",
    "lying_acc_features3_y = lying_acc_features3_y.rename(columns={'mean_magnitude': 'mean_Y', 'stdev_magnitude': 'stdev_Y', 'kurtosis_magnitude': 'kurtosis_Y', 'skewness_magnitude': 'skewness_Y', 'median_magnitude': 'median_Y', 'quantile0.25_magnitude': 'quantile0.25_Y', 'quantile0.7_magnitude': 'quantile0.7_Y'})\n",
    "sitting_acc_features3_y = sitting_acc_features3_y.rename(columns={'mean_magnitude': 'mean_Y', 'stdev_magnitude': 'stdev_Y', 'kurtosis_magnitude': 'kurtosis_Y', 'skewness_magnitude': 'skewness_Y', 'median_magnitude': 'median_Y', 'quantile0.25_magnitude': 'quantile0.25_Y', 'quantile0.7_magnitude': 'quantile0.7_Y'})\n",
    "workout_acc_features3_y = workout_acc_features3_y.rename(columns={'mean_magnitude': 'mean_Y', 'stdev_magnitude': 'stdev_Y', 'kurtosis_magnitude': 'kurtosis_Y', 'skewness_magnitude': 'skewness_Y', 'median_magnitude': 'median_Y', 'quantile0.25_magnitude': 'quantile0.25_Y', 'quantile0.7_magnitude': 'quantile0.7_Y'})\n",
    "\n",
    "walking_acc_features3_z = walking_acc_features3_z.rename(columns={'mean_magnitude': 'mean_Z', 'stdev_magnitude': 'stdev_Z', 'kurtosis_magnitude': 'kurtosis_Z', 'skewness_magnitude': 'skewness_Z', 'median_magnitude': 'median_Z', 'quantile0.25_magnitude': 'quantile0.25_Z', 'quantile0.7_magnitude': 'quantile0.7_Z'})\n",
    "lying_acc_features3_z = lying_acc_features3_z.rename(columns={'mean_magnitude': 'mean_Z', 'stdev_magnitude': 'stdev_Z', 'kurtosis_magnitude': 'kurtosis_Z', 'skewness_magnitude': 'skewness_Z', 'median_magnitude': 'median_Z', 'quantile0.25_magnitude': 'quantile0.25_Z', 'quantile0.7_magnitude': 'quantile0.7_Z'})\n",
    "sitting_acc_features3_z = sitting_acc_features3_z.rename(columns={'mean_magnitude': 'mean_Z', 'stdev_magnitude': 'stdev_Z', 'kurtosis_magnitude': 'kurtosis_Z', 'skewness_magnitude': 'skewness_Z', 'median_magnitude': 'median_Z', 'quantile0.25_magnitude': 'quantile0.25_Z', 'quantile0.7_magnitude': 'quantile0.7_Z'})\n",
    "workout_acc_features3_z = workout_acc_features3_z.rename(columns={'mean_magnitude': 'mean_Z', 'stdev_magnitude': 'stdev_Z', 'kurtosis_magnitude': 'kurtosis_Z', 'skewness_magnitude': 'skewness_Z', 'median_magnitude': 'median_Z', 'quantile0.25_magnitude': 'quantile0.25_Z', 'quantile0.7_magnitude': 'quantile0.7_Z'})\n",
    "\n"
   ]
  },
  {
   "cell_type": "code",
   "execution_count": 83,
   "metadata": {},
   "outputs": [],
   "source": [
    "walking_df = pd.concat([walking_acc_features3_x, walking_acc_features3_y, walking_acc_features3_z, walking_magnitude], axis=1).dropna(axis = 0)\n",
    "lying_df = pd.concat([lying_acc_features3_x, lying_acc_features3_y, lying_acc_features3_z, lying_magnitude], axis=1).dropna(axis = 0)\n",
    "sitting_df = pd.concat([sitting_acc_features3_x, sitting_acc_features3_y, sitting_acc_features3_z, sitting_magnitude],axis = 1).dropna(axis = 0)\n",
    "workout_df = pd.concat([workout_acc_features3_x, workout_acc_features3_y, workout_acc_features3_z, workout_magnitude], axis = 1).dropna(axis = 0)"
   ]
  },
  {
   "cell_type": "code",
   "execution_count": 85,
   "metadata": {},
   "outputs": [
    {
     "data": {
      "text/html": [
       "<div>\n",
       "<style scoped>\n",
       "    .dataframe tbody tr th:only-of-type {\n",
       "        vertical-align: middle;\n",
       "    }\n",
       "\n",
       "    .dataframe tbody tr th {\n",
       "        vertical-align: top;\n",
       "    }\n",
       "\n",
       "    .dataframe thead th {\n",
       "        text-align: right;\n",
       "    }\n",
       "</style>\n",
       "<table border=\"1\" class=\"dataframe\">\n",
       "  <thead>\n",
       "    <tr style=\"text-align: right;\">\n",
       "      <th></th>\n",
       "      <th>mean_X</th>\n",
       "      <th>stdev_X</th>\n",
       "      <th>kurtosis_X</th>\n",
       "      <th>skewness_X</th>\n",
       "      <th>median_X</th>\n",
       "      <th>quantile0.25_X</th>\n",
       "      <th>quantile0.7_X</th>\n",
       "      <th>mean_Y</th>\n",
       "      <th>stdev_Y</th>\n",
       "      <th>kurtosis_Y</th>\n",
       "      <th>...</th>\n",
       "      <th>median_Z</th>\n",
       "      <th>quantile0.25_Z</th>\n",
       "      <th>quantile0.7_Z</th>\n",
       "      <th>mean_magnitude</th>\n",
       "      <th>stdev_magnitude</th>\n",
       "      <th>kurtosis_magnitude</th>\n",
       "      <th>skewness_magnitude</th>\n",
       "      <th>median_magnitude</th>\n",
       "      <th>quantile0.25_magnitude</th>\n",
       "      <th>quantile0.7_magnitude</th>\n",
       "    </tr>\n",
       "  </thead>\n",
       "  <tbody>\n",
       "    <tr>\n",
       "      <th>0</th>\n",
       "      <td>-10.813475</td>\n",
       "      <td>1.627674</td>\n",
       "      <td>[-0.3317035815520657]</td>\n",
       "      <td>[-0.9744116635823238]</td>\n",
       "      <td>-10.134047</td>\n",
       "      <td>-11.701287</td>\n",
       "      <td>-9.936817</td>\n",
       "      <td>-2.359434</td>\n",
       "      <td>0.939376</td>\n",
       "      <td>[-0.5499591290774442]</td>\n",
       "      <td>...</td>\n",
       "      <td>1.680945</td>\n",
       "      <td>1.207030</td>\n",
       "      <td>2.085583</td>\n",
       "      <td>11.297999</td>\n",
       "      <td>1.506547</td>\n",
       "      <td>-0.290562</td>\n",
       "      <td>1.093173</td>\n",
       "      <td>10.563626</td>\n",
       "      <td>10.258103</td>\n",
       "      <td>11.531836</td>\n",
       "    </tr>\n",
       "    <tr>\n",
       "      <th>1</th>\n",
       "      <td>-12.450850</td>\n",
       "      <td>2.622394</td>\n",
       "      <td>[-1.097878118855529]</td>\n",
       "      <td>[0.0009318368322034966]</td>\n",
       "      <td>-12.555412</td>\n",
       "      <td>-14.189653</td>\n",
       "      <td>-11.247635</td>\n",
       "      <td>-2.867394</td>\n",
       "      <td>1.095448</td>\n",
       "      <td>[-0.6885545595922302]</td>\n",
       "      <td>...</td>\n",
       "      <td>2.510100</td>\n",
       "      <td>2.276167</td>\n",
       "      <td>4.181441</td>\n",
       "      <td>13.330096</td>\n",
       "      <td>2.264886</td>\n",
       "      <td>-0.908761</td>\n",
       "      <td>0.398761</td>\n",
       "      <td>13.074252</td>\n",
       "      <td>11.556275</td>\n",
       "      <td>14.145470</td>\n",
       "    </tr>\n",
       "    <tr>\n",
       "      <th>2</th>\n",
       "      <td>-3.700650</td>\n",
       "      <td>3.687896</td>\n",
       "      <td>[0.48021353472864226]</td>\n",
       "      <td>[-1.3231576261083449]</td>\n",
       "      <td>-2.032054</td>\n",
       "      <td>-5.184559</td>\n",
       "      <td>-1.201629</td>\n",
       "      <td>3.539255</td>\n",
       "      <td>2.188576</td>\n",
       "      <td>[-1.1199289692778434]</td>\n",
       "      <td>...</td>\n",
       "      <td>5.212401</td>\n",
       "      <td>3.349435</td>\n",
       "      <td>6.706342</td>\n",
       "      <td>8.562458</td>\n",
       "      <td>2.078323</td>\n",
       "      <td>-0.610349</td>\n",
       "      <td>0.350412</td>\n",
       "      <td>8.444529</td>\n",
       "      <td>6.850532</td>\n",
       "      <td>9.662024</td>\n",
       "    </tr>\n",
       "    <tr>\n",
       "      <th>3</th>\n",
       "      <td>-3.570476</td>\n",
       "      <td>1.047782</td>\n",
       "      <td>[5.321580895454348]</td>\n",
       "      <td>[-2.4592427195066673]</td>\n",
       "      <td>-3.287524</td>\n",
       "      <td>-3.435775</td>\n",
       "      <td>-3.162887</td>\n",
       "      <td>3.963082</td>\n",
       "      <td>1.576466</td>\n",
       "      <td>[5.3623893673067435]</td>\n",
       "      <td>...</td>\n",
       "      <td>7.143984</td>\n",
       "      <td>4.598318</td>\n",
       "      <td>7.847761</td>\n",
       "      <td>8.867436</td>\n",
       "      <td>1.772408</td>\n",
       "      <td>-0.778275</td>\n",
       "      <td>0.177460</td>\n",
       "      <td>8.713920</td>\n",
       "      <td>7.817427</td>\n",
       "      <td>9.315484</td>\n",
       "    </tr>\n",
       "    <tr>\n",
       "      <th>4</th>\n",
       "      <td>-13.017813</td>\n",
       "      <td>4.536636</td>\n",
       "      <td>[-1.4840094120829643]</td>\n",
       "      <td>[-0.014095997793724509]</td>\n",
       "      <td>-12.954422</td>\n",
       "      <td>-17.479152</td>\n",
       "      <td>-9.306759</td>\n",
       "      <td>-4.585222</td>\n",
       "      <td>2.392340</td>\n",
       "      <td>[-1.1966031269311492]</td>\n",
       "      <td>...</td>\n",
       "      <td>2.975213</td>\n",
       "      <td>0.562710</td>\n",
       "      <td>3.737668</td>\n",
       "      <td>14.370211</td>\n",
       "      <td>4.535356</td>\n",
       "      <td>-1.504084</td>\n",
       "      <td>0.161216</td>\n",
       "      <td>13.931252</td>\n",
       "      <td>9.656055</td>\n",
       "      <td>17.892719</td>\n",
       "    </tr>\n",
       "    <tr>\n",
       "      <th>...</th>\n",
       "      <td>...</td>\n",
       "      <td>...</td>\n",
       "      <td>...</td>\n",
       "      <td>...</td>\n",
       "      <td>...</td>\n",
       "      <td>...</td>\n",
       "      <td>...</td>\n",
       "      <td>...</td>\n",
       "      <td>...</td>\n",
       "      <td>...</td>\n",
       "      <td>...</td>\n",
       "      <td>...</td>\n",
       "      <td>...</td>\n",
       "      <td>...</td>\n",
       "      <td>...</td>\n",
       "      <td>...</td>\n",
       "      <td>...</td>\n",
       "      <td>...</td>\n",
       "      <td>...</td>\n",
       "      <td>...</td>\n",
       "      <td>...</td>\n",
       "    </tr>\n",
       "    <tr>\n",
       "      <th>1155</th>\n",
       "      <td>-6.268748</td>\n",
       "      <td>0.537753</td>\n",
       "      <td>[-0.9202317754193485]</td>\n",
       "      <td>[0.05948897784166586]</td>\n",
       "      <td>-6.256390</td>\n",
       "      <td>-6.720305</td>\n",
       "      <td>-6.071638</td>\n",
       "      <td>-0.566547</td>\n",
       "      <td>0.398701</td>\n",
       "      <td>[-1.1407248421469254]</td>\n",
       "      <td>...</td>\n",
       "      <td>6.569180</td>\n",
       "      <td>5.041636</td>\n",
       "      <td>7.687127</td>\n",
       "      <td>9.122491</td>\n",
       "      <td>0.969370</td>\n",
       "      <td>-1.105904</td>\n",
       "      <td>0.488132</td>\n",
       "      <td>8.861207</td>\n",
       "      <td>8.266272</td>\n",
       "      <td>9.711399</td>\n",
       "    </tr>\n",
       "    <tr>\n",
       "      <th>1156</th>\n",
       "      <td>-10.425214</td>\n",
       "      <td>1.069774</td>\n",
       "      <td>[1.016570576721885]</td>\n",
       "      <td>[0.89938983632711]</td>\n",
       "      <td>-10.427676</td>\n",
       "      <td>-11.035772</td>\n",
       "      <td>-10.276550</td>\n",
       "      <td>-3.029297</td>\n",
       "      <td>0.760230</td>\n",
       "      <td>[0.2213528705007235]</td>\n",
       "      <td>...</td>\n",
       "      <td>2.671764</td>\n",
       "      <td>2.228386</td>\n",
       "      <td>3.428159</td>\n",
       "      <td>11.248457</td>\n",
       "      <td>1.190451</td>\n",
       "      <td>0.913102</td>\n",
       "      <td>-1.001548</td>\n",
       "      <td>11.319947</td>\n",
       "      <td>11.019461</td>\n",
       "      <td>11.714232</td>\n",
       "    </tr>\n",
       "    <tr>\n",
       "      <th>1157</th>\n",
       "      <td>-10.727144</td>\n",
       "      <td>1.491100</td>\n",
       "      <td>[-0.9676718435541867]</td>\n",
       "      <td>[0.23178913987260583]</td>\n",
       "      <td>-10.911829</td>\n",
       "      <td>-11.723322</td>\n",
       "      <td>-9.995878</td>\n",
       "      <td>-2.105620</td>\n",
       "      <td>0.703096</td>\n",
       "      <td>[0.5310219907553431]</td>\n",
       "      <td>...</td>\n",
       "      <td>0.882086</td>\n",
       "      <td>0.429367</td>\n",
       "      <td>1.360850</td>\n",
       "      <td>11.065975</td>\n",
       "      <td>1.556707</td>\n",
       "      <td>-1.174520</td>\n",
       "      <td>-0.351264</td>\n",
       "      <td>11.334056</td>\n",
       "      <td>9.707524</td>\n",
       "      <td>12.250073</td>\n",
       "    </tr>\n",
       "    <tr>\n",
       "      <th>1158</th>\n",
       "      <td>-10.089628</td>\n",
       "      <td>1.685302</td>\n",
       "      <td>[-1.1175301300374472]</td>\n",
       "      <td>[-0.4046331499103605]</td>\n",
       "      <td>-9.502240</td>\n",
       "      <td>-11.438135</td>\n",
       "      <td>-9.046253</td>\n",
       "      <td>-1.557084</td>\n",
       "      <td>0.625902</td>\n",
       "      <td>[-1.3061852609292361]</td>\n",
       "      <td>...</td>\n",
       "      <td>2.245211</td>\n",
       "      <td>1.667532</td>\n",
       "      <td>2.523465</td>\n",
       "      <td>10.465680</td>\n",
       "      <td>1.638298</td>\n",
       "      <td>-1.140138</td>\n",
       "      <td>0.372992</td>\n",
       "      <td>9.871188</td>\n",
       "      <td>9.321301</td>\n",
       "      <td>11.419631</td>\n",
       "    </tr>\n",
       "    <tr>\n",
       "      <th>1159</th>\n",
       "      <td>-10.000288</td>\n",
       "      <td>1.198834</td>\n",
       "      <td>[0.4466650093489908]</td>\n",
       "      <td>[-1.0909806927519772]</td>\n",
       "      <td>-9.739347</td>\n",
       "      <td>-10.406839</td>\n",
       "      <td>-9.276150</td>\n",
       "      <td>-2.559213</td>\n",
       "      <td>0.300207</td>\n",
       "      <td>[-0.7711627351066634]</td>\n",
       "      <td>...</td>\n",
       "      <td>3.456971</td>\n",
       "      <td>2.266886</td>\n",
       "      <td>3.958728</td>\n",
       "      <td>10.832365</td>\n",
       "      <td>1.204343</td>\n",
       "      <td>0.138242</td>\n",
       "      <td>0.903945</td>\n",
       "      <td>10.782543</td>\n",
       "      <td>9.931627</td>\n",
       "      <td>10.995990</td>\n",
       "    </tr>\n",
       "  </tbody>\n",
       "</table>\n",
       "<p>1160 rows × 28 columns</p>\n",
       "</div>"
      ],
      "text/plain": [
       "         mean_X   stdev_X             kurtosis_X               skewness_X  \\\n",
       "0    -10.813475  1.627674  [-0.3317035815520657]    [-0.9744116635823238]   \n",
       "1    -12.450850  2.622394   [-1.097878118855529]  [0.0009318368322034966]   \n",
       "2     -3.700650  3.687896  [0.48021353472864226]    [-1.3231576261083449]   \n",
       "3     -3.570476  1.047782    [5.321580895454348]    [-2.4592427195066673]   \n",
       "4    -13.017813  4.536636  [-1.4840094120829643]  [-0.014095997793724509]   \n",
       "...         ...       ...                    ...                      ...   \n",
       "1155  -6.268748  0.537753  [-0.9202317754193485]    [0.05948897784166586]   \n",
       "1156 -10.425214  1.069774    [1.016570576721885]       [0.89938983632711]   \n",
       "1157 -10.727144  1.491100  [-0.9676718435541867]    [0.23178913987260583]   \n",
       "1158 -10.089628  1.685302  [-1.1175301300374472]    [-0.4046331499103605]   \n",
       "1159 -10.000288  1.198834   [0.4466650093489908]    [-1.0909806927519772]   \n",
       "\n",
       "       median_X  quantile0.25_X  quantile0.7_X    mean_Y   stdev_Y  \\\n",
       "0    -10.134047      -11.701287      -9.936817 -2.359434  0.939376   \n",
       "1    -12.555412      -14.189653     -11.247635 -2.867394  1.095448   \n",
       "2     -2.032054       -5.184559      -1.201629  3.539255  2.188576   \n",
       "3     -3.287524       -3.435775      -3.162887  3.963082  1.576466   \n",
       "4    -12.954422      -17.479152      -9.306759 -4.585222  2.392340   \n",
       "...         ...             ...            ...       ...       ...   \n",
       "1155  -6.256390       -6.720305      -6.071638 -0.566547  0.398701   \n",
       "1156 -10.427676      -11.035772     -10.276550 -3.029297  0.760230   \n",
       "1157 -10.911829      -11.723322      -9.995878 -2.105620  0.703096   \n",
       "1158  -9.502240      -11.438135      -9.046253 -1.557084  0.625902   \n",
       "1159  -9.739347      -10.406839      -9.276150 -2.559213  0.300207   \n",
       "\n",
       "                 kurtosis_Y  ...  median_Z  quantile0.25_Z  quantile0.7_Z  \\\n",
       "0     [-0.5499591290774442]  ...  1.680945        1.207030       2.085583   \n",
       "1     [-0.6885545595922302]  ...  2.510100        2.276167       4.181441   \n",
       "2     [-1.1199289692778434]  ...  5.212401        3.349435       6.706342   \n",
       "3      [5.3623893673067435]  ...  7.143984        4.598318       7.847761   \n",
       "4     [-1.1966031269311492]  ...  2.975213        0.562710       3.737668   \n",
       "...                     ...  ...       ...             ...            ...   \n",
       "1155  [-1.1407248421469254]  ...  6.569180        5.041636       7.687127   \n",
       "1156   [0.2213528705007235]  ...  2.671764        2.228386       3.428159   \n",
       "1157   [0.5310219907553431]  ...  0.882086        0.429367       1.360850   \n",
       "1158  [-1.3061852609292361]  ...  2.245211        1.667532       2.523465   \n",
       "1159  [-0.7711627351066634]  ...  3.456971        2.266886       3.958728   \n",
       "\n",
       "      mean_magnitude  stdev_magnitude  kurtosis_magnitude skewness_magnitude  \\\n",
       "0          11.297999         1.506547           -0.290562           1.093173   \n",
       "1          13.330096         2.264886           -0.908761           0.398761   \n",
       "2           8.562458         2.078323           -0.610349           0.350412   \n",
       "3           8.867436         1.772408           -0.778275           0.177460   \n",
       "4          14.370211         4.535356           -1.504084           0.161216   \n",
       "...              ...              ...                 ...                ...   \n",
       "1155        9.122491         0.969370           -1.105904           0.488132   \n",
       "1156       11.248457         1.190451            0.913102          -1.001548   \n",
       "1157       11.065975         1.556707           -1.174520          -0.351264   \n",
       "1158       10.465680         1.638298           -1.140138           0.372992   \n",
       "1159       10.832365         1.204343            0.138242           0.903945   \n",
       "\n",
       "     median_magnitude  quantile0.25_magnitude  quantile0.7_magnitude  \n",
       "0           10.563626               10.258103              11.531836  \n",
       "1           13.074252               11.556275              14.145470  \n",
       "2            8.444529                6.850532               9.662024  \n",
       "3            8.713920                7.817427               9.315484  \n",
       "4           13.931252                9.656055              17.892719  \n",
       "...               ...                     ...                    ...  \n",
       "1155         8.861207                8.266272               9.711399  \n",
       "1156        11.319947               11.019461              11.714232  \n",
       "1157        11.334056                9.707524              12.250073  \n",
       "1158         9.871188                9.321301              11.419631  \n",
       "1159        10.782543                9.931627              10.995990  \n",
       "\n",
       "[1160 rows x 28 columns]"
      ]
     },
     "execution_count": 85,
     "metadata": {},
     "output_type": "execute_result"
    }
   ],
   "source": [
    "walking_df"
   ]
  },
  {
   "cell_type": "code",
   "execution_count": 86,
   "metadata": {},
   "outputs": [
    {
     "data": {
      "text/html": [
       "<div>\n",
       "<style scoped>\n",
       "    .dataframe tbody tr th:only-of-type {\n",
       "        vertical-align: middle;\n",
       "    }\n",
       "\n",
       "    .dataframe tbody tr th {\n",
       "        vertical-align: top;\n",
       "    }\n",
       "\n",
       "    .dataframe thead th {\n",
       "        text-align: right;\n",
       "    }\n",
       "</style>\n",
       "<table border=\"1\" class=\"dataframe\">\n",
       "  <thead>\n",
       "    <tr style=\"text-align: right;\">\n",
       "      <th></th>\n",
       "      <th>mean_X</th>\n",
       "      <th>stdev_X</th>\n",
       "      <th>kurtosis_X</th>\n",
       "      <th>skewness_X</th>\n",
       "      <th>median_X</th>\n",
       "      <th>quantile0.25_X</th>\n",
       "      <th>quantile0.7_X</th>\n",
       "      <th>mean_Y</th>\n",
       "      <th>stdev_Y</th>\n",
       "      <th>kurtosis_Y</th>\n",
       "      <th>...</th>\n",
       "      <th>quantile0.25_Z</th>\n",
       "      <th>quantile0.7_Z</th>\n",
       "      <th>mean_magnitude</th>\n",
       "      <th>stdev_magnitude</th>\n",
       "      <th>kurtosis_magnitude</th>\n",
       "      <th>skewness_magnitude</th>\n",
       "      <th>median_magnitude</th>\n",
       "      <th>quantile0.25_magnitude</th>\n",
       "      <th>quantile0.7_magnitude</th>\n",
       "      <th>label</th>\n",
       "    </tr>\n",
       "  </thead>\n",
       "  <tbody>\n",
       "    <tr>\n",
       "      <th>0</th>\n",
       "      <td>-10.813475</td>\n",
       "      <td>1.627674</td>\n",
       "      <td>[-0.3317035815520657]</td>\n",
       "      <td>[-0.9744116635823238]</td>\n",
       "      <td>-10.134047</td>\n",
       "      <td>-11.701287</td>\n",
       "      <td>-9.936817</td>\n",
       "      <td>-2.359434</td>\n",
       "      <td>0.939376</td>\n",
       "      <td>[-0.5499591290774442]</td>\n",
       "      <td>...</td>\n",
       "      <td>1.207030</td>\n",
       "      <td>2.085583</td>\n",
       "      <td>11.297999</td>\n",
       "      <td>1.506547</td>\n",
       "      <td>-0.290562</td>\n",
       "      <td>1.093173</td>\n",
       "      <td>10.563626</td>\n",
       "      <td>10.258103</td>\n",
       "      <td>11.531836</td>\n",
       "      <td>walking</td>\n",
       "    </tr>\n",
       "    <tr>\n",
       "      <th>1</th>\n",
       "      <td>-12.450850</td>\n",
       "      <td>2.622394</td>\n",
       "      <td>[-1.097878118855529]</td>\n",
       "      <td>[0.0009318368322034966]</td>\n",
       "      <td>-12.555412</td>\n",
       "      <td>-14.189653</td>\n",
       "      <td>-11.247635</td>\n",
       "      <td>-2.867394</td>\n",
       "      <td>1.095448</td>\n",
       "      <td>[-0.6885545595922302]</td>\n",
       "      <td>...</td>\n",
       "      <td>2.276167</td>\n",
       "      <td>4.181441</td>\n",
       "      <td>13.330096</td>\n",
       "      <td>2.264886</td>\n",
       "      <td>-0.908761</td>\n",
       "      <td>0.398761</td>\n",
       "      <td>13.074252</td>\n",
       "      <td>11.556275</td>\n",
       "      <td>14.145470</td>\n",
       "      <td>walking</td>\n",
       "    </tr>\n",
       "    <tr>\n",
       "      <th>2</th>\n",
       "      <td>-3.700650</td>\n",
       "      <td>3.687896</td>\n",
       "      <td>[0.48021353472864226]</td>\n",
       "      <td>[-1.3231576261083449]</td>\n",
       "      <td>-2.032054</td>\n",
       "      <td>-5.184559</td>\n",
       "      <td>-1.201629</td>\n",
       "      <td>3.539255</td>\n",
       "      <td>2.188576</td>\n",
       "      <td>[-1.1199289692778434]</td>\n",
       "      <td>...</td>\n",
       "      <td>3.349435</td>\n",
       "      <td>6.706342</td>\n",
       "      <td>8.562458</td>\n",
       "      <td>2.078323</td>\n",
       "      <td>-0.610349</td>\n",
       "      <td>0.350412</td>\n",
       "      <td>8.444529</td>\n",
       "      <td>6.850532</td>\n",
       "      <td>9.662024</td>\n",
       "      <td>walking</td>\n",
       "    </tr>\n",
       "    <tr>\n",
       "      <th>3</th>\n",
       "      <td>-3.570476</td>\n",
       "      <td>1.047782</td>\n",
       "      <td>[5.321580895454348]</td>\n",
       "      <td>[-2.4592427195066673]</td>\n",
       "      <td>-3.287524</td>\n",
       "      <td>-3.435775</td>\n",
       "      <td>-3.162887</td>\n",
       "      <td>3.963082</td>\n",
       "      <td>1.576466</td>\n",
       "      <td>[5.3623893673067435]</td>\n",
       "      <td>...</td>\n",
       "      <td>4.598318</td>\n",
       "      <td>7.847761</td>\n",
       "      <td>8.867436</td>\n",
       "      <td>1.772408</td>\n",
       "      <td>-0.778275</td>\n",
       "      <td>0.177460</td>\n",
       "      <td>8.713920</td>\n",
       "      <td>7.817427</td>\n",
       "      <td>9.315484</td>\n",
       "      <td>walking</td>\n",
       "    </tr>\n",
       "    <tr>\n",
       "      <th>4</th>\n",
       "      <td>-13.017813</td>\n",
       "      <td>4.536636</td>\n",
       "      <td>[-1.4840094120829643]</td>\n",
       "      <td>[-0.014095997793724509]</td>\n",
       "      <td>-12.954422</td>\n",
       "      <td>-17.479152</td>\n",
       "      <td>-9.306759</td>\n",
       "      <td>-4.585222</td>\n",
       "      <td>2.392340</td>\n",
       "      <td>[-1.1966031269311492]</td>\n",
       "      <td>...</td>\n",
       "      <td>0.562710</td>\n",
       "      <td>3.737668</td>\n",
       "      <td>14.370211</td>\n",
       "      <td>4.535356</td>\n",
       "      <td>-1.504084</td>\n",
       "      <td>0.161216</td>\n",
       "      <td>13.931252</td>\n",
       "      <td>9.656055</td>\n",
       "      <td>17.892719</td>\n",
       "      <td>walking</td>\n",
       "    </tr>\n",
       "    <tr>\n",
       "      <th>...</th>\n",
       "      <td>...</td>\n",
       "      <td>...</td>\n",
       "      <td>...</td>\n",
       "      <td>...</td>\n",
       "      <td>...</td>\n",
       "      <td>...</td>\n",
       "      <td>...</td>\n",
       "      <td>...</td>\n",
       "      <td>...</td>\n",
       "      <td>...</td>\n",
       "      <td>...</td>\n",
       "      <td>...</td>\n",
       "      <td>...</td>\n",
       "      <td>...</td>\n",
       "      <td>...</td>\n",
       "      <td>...</td>\n",
       "      <td>...</td>\n",
       "      <td>...</td>\n",
       "      <td>...</td>\n",
       "      <td>...</td>\n",
       "      <td>...</td>\n",
       "    </tr>\n",
       "    <tr>\n",
       "      <th>4755</th>\n",
       "      <td>0.959272</td>\n",
       "      <td>0.007143</td>\n",
       "      <td>[-0.4184147474447357]</td>\n",
       "      <td>[0.15857094058055107]</td>\n",
       "      <td>0.959325</td>\n",
       "      <td>0.954236</td>\n",
       "      <td>0.962870</td>\n",
       "      <td>-8.418638</td>\n",
       "      <td>0.005897</td>\n",
       "      <td>[-0.2973790341179292]</td>\n",
       "      <td>...</td>\n",
       "      <td>5.042055</td>\n",
       "      <td>5.047743</td>\n",
       "      <td>9.861419</td>\n",
       "      <td>0.004158</td>\n",
       "      <td>1.124578</td>\n",
       "      <td>-0.946981</td>\n",
       "      <td>9.862256</td>\n",
       "      <td>9.860043</td>\n",
       "      <td>9.863710</td>\n",
       "      <td>lying</td>\n",
       "    </tr>\n",
       "    <tr>\n",
       "      <th>4756</th>\n",
       "      <td>0.965394</td>\n",
       "      <td>0.004884</td>\n",
       "      <td>[-0.8379470456161147]</td>\n",
       "      <td>[0.38681225362905425]</td>\n",
       "      <td>0.964474</td>\n",
       "      <td>0.962079</td>\n",
       "      <td>0.968857</td>\n",
       "      <td>-8.413287</td>\n",
       "      <td>0.006745</td>\n",
       "      <td>[-0.48811451880620726]</td>\n",
       "      <td>...</td>\n",
       "      <td>5.047085</td>\n",
       "      <td>5.057395</td>\n",
       "      <td>9.861265</td>\n",
       "      <td>0.003833</td>\n",
       "      <td>-0.575587</td>\n",
       "      <td>-0.178340</td>\n",
       "      <td>9.860838</td>\n",
       "      <td>9.858485</td>\n",
       "      <td>9.863413</td>\n",
       "      <td>lying</td>\n",
       "    </tr>\n",
       "    <tr>\n",
       "      <th>4757</th>\n",
       "      <td>0.979697</td>\n",
       "      <td>0.007176</td>\n",
       "      <td>[-0.9780577354878841]</td>\n",
       "      <td>[0.2661997305824463]</td>\n",
       "      <td>0.978246</td>\n",
       "      <td>0.974054</td>\n",
       "      <td>0.983946</td>\n",
       "      <td>-8.401911</td>\n",
       "      <td>0.007174</td>\n",
       "      <td>[-0.9837498211847873]</td>\n",
       "      <td>...</td>\n",
       "      <td>5.058162</td>\n",
       "      <td>5.066017</td>\n",
       "      <td>9.858368</td>\n",
       "      <td>0.003691</td>\n",
       "      <td>-0.848355</td>\n",
       "      <td>0.126531</td>\n",
       "      <td>9.858618</td>\n",
       "      <td>9.855389</td>\n",
       "      <td>9.860936</td>\n",
       "      <td>lying</td>\n",
       "    </tr>\n",
       "    <tr>\n",
       "      <th>4758</th>\n",
       "      <td>0.980957</td>\n",
       "      <td>0.007333</td>\n",
       "      <td>[0.8532080205691193]</td>\n",
       "      <td>[1.262055606982932]</td>\n",
       "      <td>0.979084</td>\n",
       "      <td>0.976270</td>\n",
       "      <td>0.982030</td>\n",
       "      <td>-8.400967</td>\n",
       "      <td>0.008102</td>\n",
       "      <td>[0.17500404467139496]</td>\n",
       "      <td>...</td>\n",
       "      <td>5.066904</td>\n",
       "      <td>5.071694</td>\n",
       "      <td>9.860298</td>\n",
       "      <td>0.004301</td>\n",
       "      <td>-0.869874</td>\n",
       "      <td>0.291401</td>\n",
       "      <td>9.859741</td>\n",
       "      <td>9.856993</td>\n",
       "      <td>9.862884</td>\n",
       "      <td>lying</td>\n",
       "    </tr>\n",
       "    <tr>\n",
       "      <th>4759</th>\n",
       "      <td>0.979686</td>\n",
       "      <td>0.003631</td>\n",
       "      <td>[-0.7561516866245759]</td>\n",
       "      <td>[0.655023798187651]</td>\n",
       "      <td>0.978605</td>\n",
       "      <td>0.977168</td>\n",
       "      <td>0.981719</td>\n",
       "      <td>-8.405555</td>\n",
       "      <td>0.008077</td>\n",
       "      <td>[-0.26354938614124856]</td>\n",
       "      <td>...</td>\n",
       "      <td>5.054449</td>\n",
       "      <td>5.059239</td>\n",
       "      <td>9.859326</td>\n",
       "      <td>0.004259</td>\n",
       "      <td>-0.793314</td>\n",
       "      <td>0.035784</td>\n",
       "      <td>9.859444</td>\n",
       "      <td>9.856345</td>\n",
       "      <td>9.860968</td>\n",
       "      <td>lying</td>\n",
       "    </tr>\n",
       "  </tbody>\n",
       "</table>\n",
       "<p>4760 rows × 29 columns</p>\n",
       "</div>"
      ],
      "text/plain": [
       "         mean_X   stdev_X             kurtosis_X               skewness_X  \\\n",
       "0    -10.813475  1.627674  [-0.3317035815520657]    [-0.9744116635823238]   \n",
       "1    -12.450850  2.622394   [-1.097878118855529]  [0.0009318368322034966]   \n",
       "2     -3.700650  3.687896  [0.48021353472864226]    [-1.3231576261083449]   \n",
       "3     -3.570476  1.047782    [5.321580895454348]    [-2.4592427195066673]   \n",
       "4    -13.017813  4.536636  [-1.4840094120829643]  [-0.014095997793724509]   \n",
       "...         ...       ...                    ...                      ...   \n",
       "4755   0.959272  0.007143  [-0.4184147474447357]    [0.15857094058055107]   \n",
       "4756   0.965394  0.004884  [-0.8379470456161147]    [0.38681225362905425]   \n",
       "4757   0.979697  0.007176  [-0.9780577354878841]     [0.2661997305824463]   \n",
       "4758   0.980957  0.007333   [0.8532080205691193]      [1.262055606982932]   \n",
       "4759   0.979686  0.003631  [-0.7561516866245759]      [0.655023798187651]   \n",
       "\n",
       "       median_X  quantile0.25_X  quantile0.7_X    mean_Y   stdev_Y  \\\n",
       "0    -10.134047      -11.701287      -9.936817 -2.359434  0.939376   \n",
       "1    -12.555412      -14.189653     -11.247635 -2.867394  1.095448   \n",
       "2     -2.032054       -5.184559      -1.201629  3.539255  2.188576   \n",
       "3     -3.287524       -3.435775      -3.162887  3.963082  1.576466   \n",
       "4    -12.954422      -17.479152      -9.306759 -4.585222  2.392340   \n",
       "...         ...             ...            ...       ...       ...   \n",
       "4755   0.959325        0.954236       0.962870 -8.418638  0.005897   \n",
       "4756   0.964474        0.962079       0.968857 -8.413287  0.006745   \n",
       "4757   0.978246        0.974054       0.983946 -8.401911  0.007174   \n",
       "4758   0.979084        0.976270       0.982030 -8.400967  0.008102   \n",
       "4759   0.978605        0.977168       0.981719 -8.405555  0.008077   \n",
       "\n",
       "                  kurtosis_Y  ... quantile0.25_Z  quantile0.7_Z  \\\n",
       "0      [-0.5499591290774442]  ...       1.207030       2.085583   \n",
       "1      [-0.6885545595922302]  ...       2.276167       4.181441   \n",
       "2      [-1.1199289692778434]  ...       3.349435       6.706342   \n",
       "3       [5.3623893673067435]  ...       4.598318       7.847761   \n",
       "4      [-1.1966031269311492]  ...       0.562710       3.737668   \n",
       "...                      ...  ...            ...            ...   \n",
       "4755   [-0.2973790341179292]  ...       5.042055       5.047743   \n",
       "4756  [-0.48811451880620726]  ...       5.047085       5.057395   \n",
       "4757   [-0.9837498211847873]  ...       5.058162       5.066017   \n",
       "4758   [0.17500404467139496]  ...       5.066904       5.071694   \n",
       "4759  [-0.26354938614124856]  ...       5.054449       5.059239   \n",
       "\n",
       "      mean_magnitude  stdev_magnitude  kurtosis_magnitude  skewness_magnitude  \\\n",
       "0          11.297999         1.506547           -0.290562            1.093173   \n",
       "1          13.330096         2.264886           -0.908761            0.398761   \n",
       "2           8.562458         2.078323           -0.610349            0.350412   \n",
       "3           8.867436         1.772408           -0.778275            0.177460   \n",
       "4          14.370211         4.535356           -1.504084            0.161216   \n",
       "...              ...              ...                 ...                 ...   \n",
       "4755        9.861419         0.004158            1.124578           -0.946981   \n",
       "4756        9.861265         0.003833           -0.575587           -0.178340   \n",
       "4757        9.858368         0.003691           -0.848355            0.126531   \n",
       "4758        9.860298         0.004301           -0.869874            0.291401   \n",
       "4759        9.859326         0.004259           -0.793314            0.035784   \n",
       "\n",
       "     median_magnitude quantile0.25_magnitude  quantile0.7_magnitude    label  \n",
       "0           10.563626              10.258103              11.531836  walking  \n",
       "1           13.074252              11.556275              14.145470  walking  \n",
       "2            8.444529               6.850532               9.662024  walking  \n",
       "3            8.713920               7.817427               9.315484  walking  \n",
       "4           13.931252               9.656055              17.892719  walking  \n",
       "...               ...                    ...                    ...      ...  \n",
       "4755         9.862256               9.860043               9.863710    lying  \n",
       "4756         9.860838               9.858485               9.863413    lying  \n",
       "4757         9.858618               9.855389               9.860936    lying  \n",
       "4758         9.859741               9.856993               9.862884    lying  \n",
       "4759         9.859444               9.856345               9.860968    lying  \n",
       "\n",
       "[4760 rows x 29 columns]"
      ]
     },
     "execution_count": 86,
     "metadata": {},
     "output_type": "execute_result"
    }
   ],
   "source": [
    "walking_df['label'] = 'walking'\n",
    "sitting_df['label'] = 'sitting'\n",
    "workout_df['label'] = 'workout'\n",
    "lying_df['label'] = 'lying'\n",
    "frames = [walking_df, sitting_df, workout_df, lying_df]\n",
    "result_df = pd.concat(frames) # We concatenate all data together\n",
    "result_df = result_df.reset_index().drop(['index'], axis = 1) # Data for training and testing\n",
    "result_df"
   ]
  },
  {
   "cell_type": "code",
   "execution_count": 87,
   "metadata": {},
   "outputs": [],
   "source": [
    "result_df['kurtosis_X'] = result_df['kurtosis_X'].astype('float64')\n",
    "result_df['skewness_X'] = result_df['skewness_X'].astype('float64')\n",
    "result_df['kurtosis_Y'] = result_df['kurtosis_Y'].astype('float64')\n",
    "result_df['skewness_Y'] = result_df['skewness_Y'].astype('float64')\n",
    "result_df['kurtosis_Z'] = result_df['kurtosis_Z'].astype('float64')\n",
    "result_df['skewness_Z'] = result_df['skewness_Z'].astype('float64')"
   ]
  },
  {
   "cell_type": "code",
   "execution_count": 88,
   "metadata": {},
   "outputs": [
    {
     "data": {
      "text/html": [
       "<div>\n",
       "<style scoped>\n",
       "    .dataframe tbody tr th:only-of-type {\n",
       "        vertical-align: middle;\n",
       "    }\n",
       "\n",
       "    .dataframe tbody tr th {\n",
       "        vertical-align: top;\n",
       "    }\n",
       "\n",
       "    .dataframe thead th {\n",
       "        text-align: right;\n",
       "    }\n",
       "</style>\n",
       "<table border=\"1\" class=\"dataframe\">\n",
       "  <thead>\n",
       "    <tr style=\"text-align: right;\">\n",
       "      <th></th>\n",
       "      <th>mean_X</th>\n",
       "      <th>stdev_X</th>\n",
       "      <th>kurtosis_X</th>\n",
       "      <th>skewness_X</th>\n",
       "      <th>median_X</th>\n",
       "      <th>quantile0.25_X</th>\n",
       "      <th>quantile0.7_X</th>\n",
       "      <th>mean_Y</th>\n",
       "      <th>stdev_Y</th>\n",
       "      <th>kurtosis_Y</th>\n",
       "      <th>...</th>\n",
       "      <th>quantile0.25_Z</th>\n",
       "      <th>quantile0.7_Z</th>\n",
       "      <th>mean_magnitude</th>\n",
       "      <th>stdev_magnitude</th>\n",
       "      <th>kurtosis_magnitude</th>\n",
       "      <th>skewness_magnitude</th>\n",
       "      <th>median_magnitude</th>\n",
       "      <th>quantile0.25_magnitude</th>\n",
       "      <th>quantile0.7_magnitude</th>\n",
       "      <th>label</th>\n",
       "    </tr>\n",
       "  </thead>\n",
       "  <tbody>\n",
       "    <tr>\n",
       "      <th>0</th>\n",
       "      <td>-10.813475</td>\n",
       "      <td>1.627674</td>\n",
       "      <td>-0.331704</td>\n",
       "      <td>-0.974412</td>\n",
       "      <td>-10.134047</td>\n",
       "      <td>-11.701287</td>\n",
       "      <td>-9.936817</td>\n",
       "      <td>-2.359434</td>\n",
       "      <td>0.939376</td>\n",
       "      <td>-0.549959</td>\n",
       "      <td>...</td>\n",
       "      <td>1.207030</td>\n",
       "      <td>2.085583</td>\n",
       "      <td>11.297999</td>\n",
       "      <td>1.506547</td>\n",
       "      <td>-0.290562</td>\n",
       "      <td>1.093173</td>\n",
       "      <td>10.563626</td>\n",
       "      <td>10.258103</td>\n",
       "      <td>11.531836</td>\n",
       "      <td>walking</td>\n",
       "    </tr>\n",
       "    <tr>\n",
       "      <th>1</th>\n",
       "      <td>-12.450850</td>\n",
       "      <td>2.622394</td>\n",
       "      <td>-1.097878</td>\n",
       "      <td>0.000932</td>\n",
       "      <td>-12.555412</td>\n",
       "      <td>-14.189653</td>\n",
       "      <td>-11.247635</td>\n",
       "      <td>-2.867394</td>\n",
       "      <td>1.095448</td>\n",
       "      <td>-0.688555</td>\n",
       "      <td>...</td>\n",
       "      <td>2.276167</td>\n",
       "      <td>4.181441</td>\n",
       "      <td>13.330096</td>\n",
       "      <td>2.264886</td>\n",
       "      <td>-0.908761</td>\n",
       "      <td>0.398761</td>\n",
       "      <td>13.074252</td>\n",
       "      <td>11.556275</td>\n",
       "      <td>14.145470</td>\n",
       "      <td>walking</td>\n",
       "    </tr>\n",
       "    <tr>\n",
       "      <th>2</th>\n",
       "      <td>-3.700650</td>\n",
       "      <td>3.687896</td>\n",
       "      <td>0.480214</td>\n",
       "      <td>-1.323158</td>\n",
       "      <td>-2.032054</td>\n",
       "      <td>-5.184559</td>\n",
       "      <td>-1.201629</td>\n",
       "      <td>3.539255</td>\n",
       "      <td>2.188576</td>\n",
       "      <td>-1.119929</td>\n",
       "      <td>...</td>\n",
       "      <td>3.349435</td>\n",
       "      <td>6.706342</td>\n",
       "      <td>8.562458</td>\n",
       "      <td>2.078323</td>\n",
       "      <td>-0.610349</td>\n",
       "      <td>0.350412</td>\n",
       "      <td>8.444529</td>\n",
       "      <td>6.850532</td>\n",
       "      <td>9.662024</td>\n",
       "      <td>walking</td>\n",
       "    </tr>\n",
       "    <tr>\n",
       "      <th>3</th>\n",
       "      <td>-3.570476</td>\n",
       "      <td>1.047782</td>\n",
       "      <td>5.321581</td>\n",
       "      <td>-2.459243</td>\n",
       "      <td>-3.287524</td>\n",
       "      <td>-3.435775</td>\n",
       "      <td>-3.162887</td>\n",
       "      <td>3.963082</td>\n",
       "      <td>1.576466</td>\n",
       "      <td>5.362389</td>\n",
       "      <td>...</td>\n",
       "      <td>4.598318</td>\n",
       "      <td>7.847761</td>\n",
       "      <td>8.867436</td>\n",
       "      <td>1.772408</td>\n",
       "      <td>-0.778275</td>\n",
       "      <td>0.177460</td>\n",
       "      <td>8.713920</td>\n",
       "      <td>7.817427</td>\n",
       "      <td>9.315484</td>\n",
       "      <td>walking</td>\n",
       "    </tr>\n",
       "    <tr>\n",
       "      <th>4</th>\n",
       "      <td>-13.017813</td>\n",
       "      <td>4.536636</td>\n",
       "      <td>-1.484009</td>\n",
       "      <td>-0.014096</td>\n",
       "      <td>-12.954422</td>\n",
       "      <td>-17.479152</td>\n",
       "      <td>-9.306759</td>\n",
       "      <td>-4.585222</td>\n",
       "      <td>2.392340</td>\n",
       "      <td>-1.196603</td>\n",
       "      <td>...</td>\n",
       "      <td>0.562710</td>\n",
       "      <td>3.737668</td>\n",
       "      <td>14.370211</td>\n",
       "      <td>4.535356</td>\n",
       "      <td>-1.504084</td>\n",
       "      <td>0.161216</td>\n",
       "      <td>13.931252</td>\n",
       "      <td>9.656055</td>\n",
       "      <td>17.892719</td>\n",
       "      <td>walking</td>\n",
       "    </tr>\n",
       "    <tr>\n",
       "      <th>...</th>\n",
       "      <td>...</td>\n",
       "      <td>...</td>\n",
       "      <td>...</td>\n",
       "      <td>...</td>\n",
       "      <td>...</td>\n",
       "      <td>...</td>\n",
       "      <td>...</td>\n",
       "      <td>...</td>\n",
       "      <td>...</td>\n",
       "      <td>...</td>\n",
       "      <td>...</td>\n",
       "      <td>...</td>\n",
       "      <td>...</td>\n",
       "      <td>...</td>\n",
       "      <td>...</td>\n",
       "      <td>...</td>\n",
       "      <td>...</td>\n",
       "      <td>...</td>\n",
       "      <td>...</td>\n",
       "      <td>...</td>\n",
       "      <td>...</td>\n",
       "    </tr>\n",
       "    <tr>\n",
       "      <th>4755</th>\n",
       "      <td>0.959272</td>\n",
       "      <td>0.007143</td>\n",
       "      <td>-0.418415</td>\n",
       "      <td>0.158571</td>\n",
       "      <td>0.959325</td>\n",
       "      <td>0.954236</td>\n",
       "      <td>0.962870</td>\n",
       "      <td>-8.418638</td>\n",
       "      <td>0.005897</td>\n",
       "      <td>-0.297379</td>\n",
       "      <td>...</td>\n",
       "      <td>5.042055</td>\n",
       "      <td>5.047743</td>\n",
       "      <td>9.861419</td>\n",
       "      <td>0.004158</td>\n",
       "      <td>1.124578</td>\n",
       "      <td>-0.946981</td>\n",
       "      <td>9.862256</td>\n",
       "      <td>9.860043</td>\n",
       "      <td>9.863710</td>\n",
       "      <td>lying</td>\n",
       "    </tr>\n",
       "    <tr>\n",
       "      <th>4756</th>\n",
       "      <td>0.965394</td>\n",
       "      <td>0.004884</td>\n",
       "      <td>-0.837947</td>\n",
       "      <td>0.386812</td>\n",
       "      <td>0.964474</td>\n",
       "      <td>0.962079</td>\n",
       "      <td>0.968857</td>\n",
       "      <td>-8.413287</td>\n",
       "      <td>0.006745</td>\n",
       "      <td>-0.488115</td>\n",
       "      <td>...</td>\n",
       "      <td>5.047085</td>\n",
       "      <td>5.057395</td>\n",
       "      <td>9.861265</td>\n",
       "      <td>0.003833</td>\n",
       "      <td>-0.575587</td>\n",
       "      <td>-0.178340</td>\n",
       "      <td>9.860838</td>\n",
       "      <td>9.858485</td>\n",
       "      <td>9.863413</td>\n",
       "      <td>lying</td>\n",
       "    </tr>\n",
       "    <tr>\n",
       "      <th>4757</th>\n",
       "      <td>0.979697</td>\n",
       "      <td>0.007176</td>\n",
       "      <td>-0.978058</td>\n",
       "      <td>0.266200</td>\n",
       "      <td>0.978246</td>\n",
       "      <td>0.974054</td>\n",
       "      <td>0.983946</td>\n",
       "      <td>-8.401911</td>\n",
       "      <td>0.007174</td>\n",
       "      <td>-0.983750</td>\n",
       "      <td>...</td>\n",
       "      <td>5.058162</td>\n",
       "      <td>5.066017</td>\n",
       "      <td>9.858368</td>\n",
       "      <td>0.003691</td>\n",
       "      <td>-0.848355</td>\n",
       "      <td>0.126531</td>\n",
       "      <td>9.858618</td>\n",
       "      <td>9.855389</td>\n",
       "      <td>9.860936</td>\n",
       "      <td>lying</td>\n",
       "    </tr>\n",
       "    <tr>\n",
       "      <th>4758</th>\n",
       "      <td>0.980957</td>\n",
       "      <td>0.007333</td>\n",
       "      <td>0.853208</td>\n",
       "      <td>1.262056</td>\n",
       "      <td>0.979084</td>\n",
       "      <td>0.976270</td>\n",
       "      <td>0.982030</td>\n",
       "      <td>-8.400967</td>\n",
       "      <td>0.008102</td>\n",
       "      <td>0.175004</td>\n",
       "      <td>...</td>\n",
       "      <td>5.066904</td>\n",
       "      <td>5.071694</td>\n",
       "      <td>9.860298</td>\n",
       "      <td>0.004301</td>\n",
       "      <td>-0.869874</td>\n",
       "      <td>0.291401</td>\n",
       "      <td>9.859741</td>\n",
       "      <td>9.856993</td>\n",
       "      <td>9.862884</td>\n",
       "      <td>lying</td>\n",
       "    </tr>\n",
       "    <tr>\n",
       "      <th>4759</th>\n",
       "      <td>0.979686</td>\n",
       "      <td>0.003631</td>\n",
       "      <td>-0.756152</td>\n",
       "      <td>0.655024</td>\n",
       "      <td>0.978605</td>\n",
       "      <td>0.977168</td>\n",
       "      <td>0.981719</td>\n",
       "      <td>-8.405555</td>\n",
       "      <td>0.008077</td>\n",
       "      <td>-0.263549</td>\n",
       "      <td>...</td>\n",
       "      <td>5.054449</td>\n",
       "      <td>5.059239</td>\n",
       "      <td>9.859326</td>\n",
       "      <td>0.004259</td>\n",
       "      <td>-0.793314</td>\n",
       "      <td>0.035784</td>\n",
       "      <td>9.859444</td>\n",
       "      <td>9.856345</td>\n",
       "      <td>9.860968</td>\n",
       "      <td>lying</td>\n",
       "    </tr>\n",
       "  </tbody>\n",
       "</table>\n",
       "<p>4760 rows × 29 columns</p>\n",
       "</div>"
      ],
      "text/plain": [
       "         mean_X   stdev_X  kurtosis_X  skewness_X   median_X  quantile0.25_X  \\\n",
       "0    -10.813475  1.627674   -0.331704   -0.974412 -10.134047      -11.701287   \n",
       "1    -12.450850  2.622394   -1.097878    0.000932 -12.555412      -14.189653   \n",
       "2     -3.700650  3.687896    0.480214   -1.323158  -2.032054       -5.184559   \n",
       "3     -3.570476  1.047782    5.321581   -2.459243  -3.287524       -3.435775   \n",
       "4    -13.017813  4.536636   -1.484009   -0.014096 -12.954422      -17.479152   \n",
       "...         ...       ...         ...         ...        ...             ...   \n",
       "4755   0.959272  0.007143   -0.418415    0.158571   0.959325        0.954236   \n",
       "4756   0.965394  0.004884   -0.837947    0.386812   0.964474        0.962079   \n",
       "4757   0.979697  0.007176   -0.978058    0.266200   0.978246        0.974054   \n",
       "4758   0.980957  0.007333    0.853208    1.262056   0.979084        0.976270   \n",
       "4759   0.979686  0.003631   -0.756152    0.655024   0.978605        0.977168   \n",
       "\n",
       "      quantile0.7_X    mean_Y   stdev_Y  kurtosis_Y  ...  quantile0.25_Z  \\\n",
       "0         -9.936817 -2.359434  0.939376   -0.549959  ...        1.207030   \n",
       "1        -11.247635 -2.867394  1.095448   -0.688555  ...        2.276167   \n",
       "2         -1.201629  3.539255  2.188576   -1.119929  ...        3.349435   \n",
       "3         -3.162887  3.963082  1.576466    5.362389  ...        4.598318   \n",
       "4         -9.306759 -4.585222  2.392340   -1.196603  ...        0.562710   \n",
       "...             ...       ...       ...         ...  ...             ...   \n",
       "4755       0.962870 -8.418638  0.005897   -0.297379  ...        5.042055   \n",
       "4756       0.968857 -8.413287  0.006745   -0.488115  ...        5.047085   \n",
       "4757       0.983946 -8.401911  0.007174   -0.983750  ...        5.058162   \n",
       "4758       0.982030 -8.400967  0.008102    0.175004  ...        5.066904   \n",
       "4759       0.981719 -8.405555  0.008077   -0.263549  ...        5.054449   \n",
       "\n",
       "      quantile0.7_Z  mean_magnitude  stdev_magnitude  kurtosis_magnitude  \\\n",
       "0          2.085583       11.297999         1.506547           -0.290562   \n",
       "1          4.181441       13.330096         2.264886           -0.908761   \n",
       "2          6.706342        8.562458         2.078323           -0.610349   \n",
       "3          7.847761        8.867436         1.772408           -0.778275   \n",
       "4          3.737668       14.370211         4.535356           -1.504084   \n",
       "...             ...             ...              ...                 ...   \n",
       "4755       5.047743        9.861419         0.004158            1.124578   \n",
       "4756       5.057395        9.861265         0.003833           -0.575587   \n",
       "4757       5.066017        9.858368         0.003691           -0.848355   \n",
       "4758       5.071694        9.860298         0.004301           -0.869874   \n",
       "4759       5.059239        9.859326         0.004259           -0.793314   \n",
       "\n",
       "      skewness_magnitude  median_magnitude  quantile0.25_magnitude  \\\n",
       "0               1.093173         10.563626               10.258103   \n",
       "1               0.398761         13.074252               11.556275   \n",
       "2               0.350412          8.444529                6.850532   \n",
       "3               0.177460          8.713920                7.817427   \n",
       "4               0.161216         13.931252                9.656055   \n",
       "...                  ...               ...                     ...   \n",
       "4755           -0.946981          9.862256                9.860043   \n",
       "4756           -0.178340          9.860838                9.858485   \n",
       "4757            0.126531          9.858618                9.855389   \n",
       "4758            0.291401          9.859741                9.856993   \n",
       "4759            0.035784          9.859444                9.856345   \n",
       "\n",
       "      quantile0.7_magnitude    label  \n",
       "0                 11.531836  walking  \n",
       "1                 14.145470  walking  \n",
       "2                  9.662024  walking  \n",
       "3                  9.315484  walking  \n",
       "4                 17.892719  walking  \n",
       "...                     ...      ...  \n",
       "4755               9.863710    lying  \n",
       "4756               9.863413    lying  \n",
       "4757               9.860936    lying  \n",
       "4758               9.862884    lying  \n",
       "4759               9.860968    lying  \n",
       "\n",
       "[4760 rows x 29 columns]"
      ]
     },
     "execution_count": 88,
     "metadata": {},
     "output_type": "execute_result"
    }
   ],
   "source": [
    "result_df"
   ]
  },
  {
   "cell_type": "code",
   "execution_count": 89,
   "metadata": {},
   "outputs": [],
   "source": [
    "X = result_df.iloc[:,:-1]\n",
    "Y = result_df[['label']]"
   ]
  },
  {
   "cell_type": "code",
   "execution_count": 90,
   "metadata": {},
   "outputs": [
    {
     "name": "stderr",
     "output_type": "stream",
     "text": [
      "C:\\Users\\melanija\\anaconda3\\lib\\site-packages\\sklearn\\utils\\validation.py:72: DataConversionWarning: A column-vector y was passed when a 1d array was expected. Please change the shape of y to (n_samples, ), for example using ravel().\n",
      "  return f(**kwargs)\n",
      "<ipython-input-90-0a98df5e081a>:2: SettingWithCopyWarning: \n",
      "A value is trying to be set on a copy of a slice from a DataFrame.\n",
      "Try using .loc[row_indexer,col_indexer] = value instead\n",
      "\n",
      "See the caveats in the documentation: https://pandas.pydata.org/pandas-docs/stable/user_guide/indexing.html#returning-a-view-versus-a-copy\n",
      "  Y['label code'] = labelencoder.fit_transform(Y)\n"
     ]
    }
   ],
   "source": [
    "labelencoder = LabelEncoder()\n",
    "Y['label code'] = labelencoder.fit_transform(Y)"
   ]
  },
  {
   "cell_type": "code",
   "execution_count": 91,
   "metadata": {},
   "outputs": [
    {
     "data": {
      "text/plain": [
       "array(['lying', 'sitting', 'walking', 'workout'], dtype=object)"
      ]
     },
     "execution_count": 91,
     "metadata": {},
     "output_type": "execute_result"
    }
   ],
   "source": [
    "labelencoder.classes_ # [lying:0, sitting:1, walking:2, workout:3]"
   ]
  },
  {
   "cell_type": "code",
   "execution_count": 92,
   "metadata": {},
   "outputs": [],
   "source": [
    "scaler = StandardScaler()\n",
    "X = pd.DataFrame(scaler.fit_transform(X), columns = X.columns, index = X.index)"
   ]
  },
  {
   "cell_type": "code",
   "execution_count": 93,
   "metadata": {},
   "outputs": [],
   "source": [
    "X_train, X_test, y_train, y_test = train_test_split(X, Y['label code'], test_size=0.3, random_state = 42) # Train and test split"
   ]
  },
  {
   "cell_type": "code",
   "execution_count": 94,
   "metadata": {},
   "outputs": [
    {
     "data": {
      "text/plain": [
       "RandomForestClassifier(max_depth=100, n_estimators=500, random_state=1)"
      ]
     },
     "execution_count": 94,
     "metadata": {},
     "output_type": "execute_result"
    }
   ],
   "source": [
    "### START\n",
    "clf = RandomForestClassifier(n_estimators = 500, max_depth=100, random_state=1)\n",
    "clf.fit(X_train, y_train)"
   ]
  },
  {
   "cell_type": "code",
   "execution_count": 95,
   "metadata": {},
   "outputs": [
    {
     "name": "stdout",
     "output_type": "stream",
     "text": [
      "              precision    recall  f1-score   support\n",
      "\n",
      "           0       0.94      0.92      0.93       369\n",
      "           1       0.91      0.96      0.93       358\n",
      "           2       0.98      0.95      0.96       364\n",
      "           3       0.98      0.96      0.97       337\n",
      "\n",
      "    accuracy                           0.95      1428\n",
      "   macro avg       0.95      0.95      0.95      1428\n",
      "weighted avg       0.95      0.95      0.95      1428\n",
      "\n"
     ]
    }
   ],
   "source": [
    "evaluate_model(clf, X_test, y_test)"
   ]
  },
  {
   "cell_type": "code",
   "execution_count": 96,
   "metadata": {},
   "outputs": [
    {
     "name": "stdout",
     "output_type": "stream",
     "text": [
      "              precision    recall  f1-score   support\n",
      "\n",
      "           0       0.78      0.82      0.80       369\n",
      "           1       0.82      0.82      0.82       358\n",
      "           2       0.93      0.93      0.93       364\n",
      "           3       0.96      0.90      0.92       337\n",
      "\n",
      "    accuracy                           0.87      1428\n",
      "   macro avg       0.87      0.87      0.87      1428\n",
      "weighted avg       0.87      0.87      0.87      1428\n",
      "\n"
     ]
    }
   ],
   "source": [
    "### START\n",
    "svc = svm.SVC(kernel='poly', C=3, gamma=1).fit(X_train, y_train)\n",
    "evaluate_model(svc, X_test, y_test)"
   ]
  },
  {
   "cell_type": "code",
   "execution_count": 97,
   "metadata": {},
   "outputs": [],
   "source": [
    "# With Min-Max Scaler\n",
    "scaler = MinMaxScaler()\n",
    "X = pd.DataFrame(scaler.fit_transform(X), columns = X.columns, index = X.index)\n",
    "X_train, X_test, y_train, y_test = train_test_split(X, Y['label code'], test_size=0.3, random_state = 42) # Train and test split\n"
   ]
  },
  {
   "cell_type": "code",
   "execution_count": 99,
   "metadata": {},
   "outputs": [
    {
     "data": {
      "text/plain": [
       "RandomForestClassifier(max_depth=100, n_estimators=500, random_state=1)"
      ]
     },
     "execution_count": 99,
     "metadata": {},
     "output_type": "execute_result"
    }
   ],
   "source": [
    "### START\n",
    "clf = RandomForestClassifier(n_estimators = 500, max_depth=100, random_state=1)\n",
    "clf.fit(X_train, y_train)"
   ]
  },
  {
   "cell_type": "code",
   "execution_count": 100,
   "metadata": {},
   "outputs": [
    {
     "name": "stdout",
     "output_type": "stream",
     "text": [
      "              precision    recall  f1-score   support\n",
      "\n",
      "           0       0.93      0.92      0.93       369\n",
      "           1       0.90      0.96      0.93       358\n",
      "           2       0.98      0.95      0.96       364\n",
      "           3       0.98      0.96      0.97       337\n",
      "\n",
      "    accuracy                           0.95      1428\n",
      "   macro avg       0.95      0.95      0.95      1428\n",
      "weighted avg       0.95      0.95      0.95      1428\n",
      "\n"
     ]
    }
   ],
   "source": [
    "evaluate_model(clf, X_test, y_test)"
   ]
  },
  {
   "cell_type": "code",
   "execution_count": 98,
   "metadata": {},
   "outputs": [
    {
     "name": "stdout",
     "output_type": "stream",
     "text": [
      "              precision    recall  f1-score   support\n",
      "\n",
      "           0       0.83      0.72      0.77       369\n",
      "           1       0.74      0.91      0.81       358\n",
      "           2       0.97      0.93      0.95       364\n",
      "           3       0.98      0.93      0.96       337\n",
      "\n",
      "    accuracy                           0.87      1428\n",
      "   macro avg       0.88      0.87      0.87      1428\n",
      "weighted avg       0.88      0.87      0.87      1428\n",
      "\n"
     ]
    }
   ],
   "source": [
    "### START\n",
    "svc = svm.SVC(kernel='poly', C=3, gamma=1).fit(X_train, y_train)\n",
    "evaluate_model(svc, X_test, y_test)"
   ]
  },
  {
   "cell_type": "code",
   "execution_count": 101,
   "metadata": {},
   "outputs": [
    {
     "data": {
      "text/plain": [
       "0.9425770308123249"
      ]
     },
     "execution_count": 101,
     "metadata": {},
     "output_type": "execute_result"
    }
   ],
   "source": [
    "### START\n",
    "clf = GradientBoostingClassifier(n_estimators=100, learning_rate=1.0, max_depth=5, random_state=4).fit(X_train, y_train)\n",
    "clf.score(X_test, y_test)"
   ]
  },
  {
   "cell_type": "markdown",
   "metadata": {},
   "source": [
    "### Резултатите добиени во случај кога како карактеристики се вклучени и компонентите од PCA се подобри."
   ]
  },
  {
   "cell_type": "code",
   "execution_count": null,
   "metadata": {},
   "outputs": [],
   "source": []
  }
 ],
 "metadata": {
  "kernelspec": {
   "display_name": "Python 3",
   "language": "python",
   "name": "python3"
  },
  "language_info": {
   "codemirror_mode": {
    "name": "ipython",
    "version": 3
   },
   "file_extension": ".py",
   "mimetype": "text/x-python",
   "name": "python",
   "nbconvert_exporter": "python",
   "pygments_lexer": "ipython3",
   "version": "3.8.5"
  }
 },
 "nbformat": 4,
 "nbformat_minor": 4
}
